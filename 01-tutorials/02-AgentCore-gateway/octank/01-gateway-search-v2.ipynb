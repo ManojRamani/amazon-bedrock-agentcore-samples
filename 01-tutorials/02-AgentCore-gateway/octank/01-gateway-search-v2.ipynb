{
 "cells": [
  {
   "cell_type": "markdown",
   "id": "0f80631b",
   "metadata": {},
   "source": [
    "# PoC - Octank Financials"
   ]
  },
  {
   "cell_type": "markdown",
   "id": "5b6a992b",
   "metadata": {},
   "source": [
    "\n",
    "Todo: Insert Image Here\n",
    "\n",
    "Inbound - JWT via Cognito << any OAuth capable of generating a bearer token\n",
    "\n",
    "Outbound Targets\n",
    "\n",
    "1) Lambda: Calculator w/ an inline payload JSON spec\n",
    "2) OpenAPI: NASA OpenAPI Spec w/ API Key credential\n",
    "3) OpenAPI: NASA OpenAPI Spec w/ API Key credential OpenAPI Spec via \n",
    "3) finCalculation: Lambda's directly consumed using ??? <oauth or iAM>\n",
    "\n",
    "Targets consumed \n",
    "\n",
    "- w/ Semantic Search enabled\n",
    "- w/o Semantic Search enabled\n"
   ]
  },
  {
   "cell_type": "markdown",
   "id": "fa1feb54",
   "metadata": {},
   "source": [
    "## Prerequisites\n",
    "\n",
    "To execute this tutorial you will need:\n",
    "* Python 3.10+\n",
    "* AWS credentials\n",
    "* Amazon Bedrock AgentCore SDK\n",
    "* Strands Agents"
   ]
  },
  {
   "cell_type": "code",
   "execution_count": 13,
   "id": "2045271e",
   "metadata": {},
   "outputs": [],
   "source": [
    "!pip install --force-reinstall -U -r requirements.txt --quiet"
   ]
  },
  {
   "cell_type": "markdown",
   "id": "4dec9b4b",
   "metadata": {},
   "source": [
    "Import all the required Python libraries, and load environment variables"
   ]
  },
  {
   "cell_type": "code",
   "execution_count": 14,
   "id": "d649fbf2",
   "metadata": {},
   "outputs": [],
   "source": [
    "# Set AWS credentials if not using Amazon SageMaker notebook\n",
    "import os\n",
    "# os.environ['AWS_ACCESS_KEY_ID'] = '' # Set the access key\n",
    "# os.environ['AWS_SECRET_ACCESS_KEY'] = '' # Set the secret key\n",
    "os.environ['AWS_DEFAULT_REGION'] = os.environ.get('AWS_REGION', 'us-east-1')"
   ]
  },
  {
   "cell_type": "code",
   "execution_count": 93,
   "id": "10100b26",
   "metadata": {},
   "outputs": [],
   "source": [
    "from strands import Agent\n",
    "from strands.models import BedrockModel\n",
    "from strands.handlers import null_callback_handler\n",
    "\n",
    "from strands.tools.mcp.mcp_client import MCPClient, MCPAgentTool\n",
    "\n",
    "from mcp.client.streamable_http import streamablehttp_client\n",
    "from mcp.types import Tool as MCPTool\n",
    "\n",
    "import logging\n",
    "import time\n",
    "import json\n",
    "import boto3\n",
    "import requests\n",
    "import utils\n",
    "import utils2\n",
    "\n",
    "\n",
    "GATEWAY_NAME = \"octank-financials-v2\"\n",
    "GATEWAY_DESCRIPTION = \"Gateway for Octank Financials\""
   ]
  },
  {
   "cell_type": "markdown",
   "id": "e76ded57",
   "metadata": {},
   "source": [
    "Set up a logger"
   ]
  },
  {
   "cell_type": "code",
   "execution_count": 16,
   "id": "ea5ab3da",
   "metadata": {},
   "outputs": [],
   "source": [
    "# Configure the root strands logger\n",
    "logging.getLogger(\"strands\").setLevel(logging.ERROR)  # INFO) #DEBUG) #\n",
    "\n",
    "# Add a handler to see the logs\n",
    "logging.basicConfig(\n",
    "    format=\"%(levelname)s | %(name)s | %(message)s\", handlers=[logging.StreamHandler()]\n",
    ")"
   ]
  },
  {
   "cell_type": "markdown",
   "id": "1dc97c60",
   "metadata": {},
   "source": [
    "Check our boto3 version"
   ]
  },
  {
   "cell_type": "code",
   "execution_count": 17,
   "id": "9258624c",
   "metadata": {},
   "outputs": [
    {
     "data": {
      "text/plain": [
       "'1.40.53'"
      ]
     },
     "execution_count": 17,
     "metadata": {},
     "output_type": "execute_result"
    }
   ],
   "source": [
    "boto3.__version__"
   ]
  },
  {
   "cell_type": "markdown",
   "id": "59719b74",
   "metadata": {},
   "source": [
    "Get our boto3 client for the AgentCore control plane API."
   ]
  },
  {
   "cell_type": "code",
   "execution_count": 18,
   "id": "c2eafe7c",
   "metadata": {},
   "outputs": [],
   "source": [
    "session = boto3.Session()\n",
    "agentcore_client = session.client(\n",
    "    \"bedrock-agentcore-control\",\n",
    ")"
   ]
  },
  {
   "cell_type": "markdown",
   "metadata": {},
   "source": [
    "# Setup Gateway"
   ]
  },
  {
   "cell_type": "markdown",
   "metadata": {},
   "source": [
    "Calculator API's"
   ]
  },
  {
   "cell_type": "code",
   "execution_count": 19,
   "metadata": {},
   "outputs": [
    {
     "name": "stdout",
     "output_type": "stream",
     "text": [
      "[\n",
      "    {\n",
      "        \"name\": \"add_numbers\",\n",
      "        \"description\": \"Adds firstNumber and secondNumber together to get the sum (firstNumber + secondNumber)\",\n",
      "        \"inputSchema\": {\n",
      "            \"type\": \"object\",\n",
      "            \"properties\": {\n",
      "                \"firstNumber\": {\n",
      "                    \"type\": \"number\",\n",
      "                    \"description\": \"first number to add\"\n",
      "                },\n",
      "                \"secondNumber\": {\n",
      "                    \"type\": \"number\",\n",
      "                    \"description\": \"second number to add\"\n",
      "                }\n",
      "            },\n",
      "            \"required\": [\n",
      "                \"firstNumber\",\n",
      "                \"secondNumber\"\n",
      "            ]\n",
      "        }\n",
      "    },\n",
      "    {\n",
      "        \"name\": \"subtract_numbers\",\n",
      "        \"description\": \"Subtracts the subtrahend from the minuend to find the difference (minuend - subtrahend)\",\n",
      "        \"inputSchema\": {\n",
      "            \"type\": \"object\",\n",
      "            \"properties\": {\n",
      "                \"minuend\": {\n",
      "                    \"type\": \"number\",\n",
      "                    \"description\": \"the number to subtract from\"\n",
      "                },\n",
      "                \"subtrahend\": {\n",
      "                    \"type\": \"number\",\n",
      "                    \"description\": \"the number to subtract from the minuend\"\n",
      "                }\n",
      "            },\n",
      "            \"required\": [\n",
      "                \"minuend\",\n",
      "                \"subtrahend\"\n",
      "            ]\n",
      "        }\n",
      "    },\n",
      "    {\n",
      "        \"name\": \"multiply_numbers\",\n",
      "        \"description\": \"Multiplies multiplicand and multiplier together to get product (multiplicand * multiplier)\",\n",
      "        \"inputSchema\": {\n",
      "            \"type\": \"object\",\n",
      "            \"properties\": {\n",
      "                \"multiplicand\": {\n",
      "                    \"type\": \"number\",\n",
      "                    \"description\": \"the number to multiply\"\n",
      "                },\n",
      "                \"multiplier\": {\n",
      "                    \"type\": \"number\",\n",
      "                    \"description\": \"the number to multiply against the multiplicand\"\n",
      "                }\n",
      "            },\n",
      "            \"required\": [\n",
      "                \"multiplicand\",\n",
      "                \"multiplier\"\n",
      "            ]\n",
      "        }\n",
      "    }\n",
      "]\n"
     ]
    }
   ],
   "source": [
    "with open(\"./calc/calc-api.json\") as f:\n",
    "    data = json.load(f)[0:3]\n",
    "print(json.dumps(data, indent=4))"
   ]
  },
  {
   "cell_type": "markdown",
   "metadata": {},
   "source": [
    "Lambda implementation of calculator"
   ]
  },
  {
   "cell_type": "code",
   "execution_count": 20,
   "metadata": {},
   "outputs": [
    {
     "data": {
      "text/html": [
       "<style>pre { line-height: 125%; }\n",
       "td.linenos .normal { color: inherit; background-color: transparent; padding-left: 5px; padding-right: 5px; }\n",
       "span.linenos { color: inherit; background-color: transparent; padding-left: 5px; padding-right: 5px; }\n",
       "td.linenos .special { color: #000000; background-color: #ffffc0; padding-left: 5px; padding-right: 5px; }\n",
       "span.linenos.special { color: #000000; background-color: #ffffc0; padding-left: 5px; padding-right: 5px; }\n",
       ".output_html .hll { background-color: #ffffcc }\n",
       ".output_html { background: #f8f8f8; }\n",
       ".output_html .c { color: #3D7B7B; font-style: italic } /* Comment */\n",
       ".output_html .err { border: 1px solid #F00 } /* Error */\n",
       ".output_html .k { color: #008000; font-weight: bold } /* Keyword */\n",
       ".output_html .o { color: #666 } /* Operator */\n",
       ".output_html .ch { color: #3D7B7B; font-style: italic } /* Comment.Hashbang */\n",
       ".output_html .cm { color: #3D7B7B; font-style: italic } /* Comment.Multiline */\n",
       ".output_html .cp { color: #9C6500 } /* Comment.Preproc */\n",
       ".output_html .cpf { color: #3D7B7B; font-style: italic } /* Comment.PreprocFile */\n",
       ".output_html .c1 { color: #3D7B7B; font-style: italic } /* Comment.Single */\n",
       ".output_html .cs { color: #3D7B7B; font-style: italic } /* Comment.Special */\n",
       ".output_html .gd { color: #A00000 } /* Generic.Deleted */\n",
       ".output_html .ge { font-style: italic } /* Generic.Emph */\n",
       ".output_html .ges { font-weight: bold; font-style: italic } /* Generic.EmphStrong */\n",
       ".output_html .gr { color: #E40000 } /* Generic.Error */\n",
       ".output_html .gh { color: #000080; font-weight: bold } /* Generic.Heading */\n",
       ".output_html .gi { color: #008400 } /* Generic.Inserted */\n",
       ".output_html .go { color: #717171 } /* Generic.Output */\n",
       ".output_html .gp { color: #000080; font-weight: bold } /* Generic.Prompt */\n",
       ".output_html .gs { font-weight: bold } /* Generic.Strong */\n",
       ".output_html .gu { color: #800080; font-weight: bold } /* Generic.Subheading */\n",
       ".output_html .gt { color: #04D } /* Generic.Traceback */\n",
       ".output_html .kc { color: #008000; font-weight: bold } /* Keyword.Constant */\n",
       ".output_html .kd { color: #008000; font-weight: bold } /* Keyword.Declaration */\n",
       ".output_html .kn { color: #008000; font-weight: bold } /* Keyword.Namespace */\n",
       ".output_html .kp { color: #008000 } /* Keyword.Pseudo */\n",
       ".output_html .kr { color: #008000; font-weight: bold } /* Keyword.Reserved */\n",
       ".output_html .kt { color: #B00040 } /* Keyword.Type */\n",
       ".output_html .m { color: #666 } /* Literal.Number */\n",
       ".output_html .s { color: #BA2121 } /* Literal.String */\n",
       ".output_html .na { color: #687822 } /* Name.Attribute */\n",
       ".output_html .nb { color: #008000 } /* Name.Builtin */\n",
       ".output_html .nc { color: #00F; font-weight: bold } /* Name.Class */\n",
       ".output_html .no { color: #800 } /* Name.Constant */\n",
       ".output_html .nd { color: #A2F } /* Name.Decorator */\n",
       ".output_html .ni { color: #717171; font-weight: bold } /* Name.Entity */\n",
       ".output_html .ne { color: #CB3F38; font-weight: bold } /* Name.Exception */\n",
       ".output_html .nf { color: #00F } /* Name.Function */\n",
       ".output_html .nl { color: #767600 } /* Name.Label */\n",
       ".output_html .nn { color: #00F; font-weight: bold } /* Name.Namespace */\n",
       ".output_html .nt { color: #008000; font-weight: bold } /* Name.Tag */\n",
       ".output_html .nv { color: #19177C } /* Name.Variable */\n",
       ".output_html .ow { color: #A2F; font-weight: bold } /* Operator.Word */\n",
       ".output_html .w { color: #BBB } /* Text.Whitespace */\n",
       ".output_html .mb { color: #666 } /* Literal.Number.Bin */\n",
       ".output_html .mf { color: #666 } /* Literal.Number.Float */\n",
       ".output_html .mh { color: #666 } /* Literal.Number.Hex */\n",
       ".output_html .mi { color: #666 } /* Literal.Number.Integer */\n",
       ".output_html .mo { color: #666 } /* Literal.Number.Oct */\n",
       ".output_html .sa { color: #BA2121 } /* Literal.String.Affix */\n",
       ".output_html .sb { color: #BA2121 } /* Literal.String.Backtick */\n",
       ".output_html .sc { color: #BA2121 } /* Literal.String.Char */\n",
       ".output_html .dl { color: #BA2121 } /* Literal.String.Delimiter */\n",
       ".output_html .sd { color: #BA2121; font-style: italic } /* Literal.String.Doc */\n",
       ".output_html .s2 { color: #BA2121 } /* Literal.String.Double */\n",
       ".output_html .se { color: #AA5D1F; font-weight: bold } /* Literal.String.Escape */\n",
       ".output_html .sh { color: #BA2121 } /* Literal.String.Heredoc */\n",
       ".output_html .si { color: #A45A77; font-weight: bold } /* Literal.String.Interpol */\n",
       ".output_html .sx { color: #008000 } /* Literal.String.Other */\n",
       ".output_html .sr { color: #A45A77 } /* Literal.String.Regex */\n",
       ".output_html .s1 { color: #BA2121 } /* Literal.String.Single */\n",
       ".output_html .ss { color: #19177C } /* Literal.String.Symbol */\n",
       ".output_html .bp { color: #008000 } /* Name.Builtin.Pseudo */\n",
       ".output_html .fm { color: #00F } /* Name.Function.Magic */\n",
       ".output_html .vc { color: #19177C } /* Name.Variable.Class */\n",
       ".output_html .vg { color: #19177C } /* Name.Variable.Global */\n",
       ".output_html .vi { color: #19177C } /* Name.Variable.Instance */\n",
       ".output_html .vm { color: #19177C } /* Name.Variable.Magic */\n",
       ".output_html .il { color: #666 } /* Literal.Number.Integer.Long */</style><div class=\"highlight\"><pre><span></span><span class=\"k\">def</span><span class=\"w\"> </span><span class=\"nf\">get_named_parameter</span><span class=\"p\">(</span><span class=\"n\">event</span><span class=\"p\">,</span> <span class=\"n\">name</span><span class=\"p\">):</span>\n",
       "    <span class=\"k\">return</span> <span class=\"n\">event</span><span class=\"p\">[</span><span class=\"n\">name</span><span class=\"p\">]</span>\n",
       "\n",
       "\n",
       "<span class=\"k\">def</span><span class=\"w\"> </span><span class=\"nf\">handle_add</span><span class=\"p\">(</span><span class=\"n\">event</span><span class=\"p\">):</span>\n",
       "    <span class=\"n\">firstNumber</span> <span class=\"o\">=</span> <span class=\"nb\">int</span><span class=\"p\">(</span><span class=\"n\">get_named_parameter</span><span class=\"p\">(</span><span class=\"n\">event</span><span class=\"p\">,</span> <span class=\"s2\">&quot;firstNumber&quot;</span><span class=\"p\">))</span>\n",
       "    <span class=\"n\">secondNumber</span> <span class=\"o\">=</span> <span class=\"nb\">int</span><span class=\"p\">(</span><span class=\"n\">get_named_parameter</span><span class=\"p\">(</span><span class=\"n\">event</span><span class=\"p\">,</span> <span class=\"s2\">&quot;secondNumber&quot;</span><span class=\"p\">))</span>\n",
       "    <span class=\"k\">return</span> <span class=\"p\">{</span><span class=\"s2\">&quot;sum&quot;</span><span class=\"p\">:</span> <span class=\"n\">firstNumber</span> <span class=\"o\">+</span> <span class=\"n\">secondNumber</span><span class=\"p\">}</span>\n",
       "\n",
       "\n",
       "<span class=\"k\">def</span><span class=\"w\"> </span><span class=\"nf\">handle_multiply</span><span class=\"p\">(</span><span class=\"n\">event</span><span class=\"p\">):</span>\n",
       "    <span class=\"n\">multiplicand</span> <span class=\"o\">=</span> <span class=\"nb\">int</span><span class=\"p\">(</span><span class=\"n\">get_named_parameter</span><span class=\"p\">(</span><span class=\"n\">event</span><span class=\"p\">,</span> <span class=\"s2\">&quot;multiplicand&quot;</span><span class=\"p\">))</span>\n",
       "    <span class=\"n\">multiplier</span> <span class=\"o\">=</span> <span class=\"nb\">int</span><span class=\"p\">(</span><span class=\"n\">get_named_parameter</span><span class=\"p\">(</span><span class=\"n\">event</span><span class=\"p\">,</span> <span class=\"s2\">&quot;multiplier&quot;</span><span class=\"p\">))</span>\n",
       "    <span class=\"k\">return</span> <span class=\"p\">{</span><span class=\"s2\">&quot;product&quot;</span><span class=\"p\">:</span> <span class=\"n\">multiplicand</span> <span class=\"o\">*</span> <span class=\"n\">multiplier</span><span class=\"p\">}</span>\n",
       "\n",
       "\n",
       "<span class=\"k\">def</span><span class=\"w\"> </span><span class=\"nf\">handle_divide</span><span class=\"p\">(</span><span class=\"n\">event</span><span class=\"p\">):</span>\n",
       "    <span class=\"n\">divisor</span> <span class=\"o\">=</span> <span class=\"nb\">int</span><span class=\"p\">(</span><span class=\"n\">get_named_parameter</span><span class=\"p\">(</span><span class=\"n\">event</span><span class=\"p\">,</span> <span class=\"s2\">&quot;divisor&quot;</span><span class=\"p\">))</span>\n",
       "    <span class=\"n\">dividend</span> <span class=\"o\">=</span> <span class=\"nb\">int</span><span class=\"p\">(</span><span class=\"n\">get_named_parameter</span><span class=\"p\">(</span><span class=\"n\">event</span><span class=\"p\">,</span> <span class=\"s2\">&quot;dividend&quot;</span><span class=\"p\">))</span>\n",
       "\n",
       "    <span class=\"k\">if</span> <span class=\"n\">divisor</span> <span class=\"o\">==</span> <span class=\"mi\">0</span><span class=\"p\">:</span>\n",
       "        <span class=\"k\">raise</span> <span class=\"ne\">Exception</span><span class=\"p\">(</span><span class=\"s2\">&quot;Divisor cannot be 0&quot;</span><span class=\"p\">)</span>\n",
       "\n",
       "    <span class=\"n\">quotient</span> <span class=\"o\">=</span> <span class=\"n\">dividend</span> <span class=\"o\">/</span> <span class=\"n\">divisor</span>\n",
       "\n",
       "    <span class=\"k\">return</span> <span class=\"p\">{</span><span class=\"s2\">&quot;quotient&quot;</span><span class=\"p\">:</span> <span class=\"n\">quotient</span><span class=\"p\">}</span>\n",
       "\n",
       "\n",
       "<span class=\"k\">def</span><span class=\"w\"> </span><span class=\"nf\">handle_subtract</span><span class=\"p\">(</span><span class=\"n\">event</span><span class=\"p\">):</span>\n",
       "    <span class=\"n\">minuend</span> <span class=\"o\">=</span> <span class=\"nb\">int</span><span class=\"p\">(</span><span class=\"n\">get_named_parameter</span><span class=\"p\">(</span><span class=\"n\">event</span><span class=\"p\">,</span> <span class=\"s2\">&quot;minuend&quot;</span><span class=\"p\">))</span>\n",
       "    <span class=\"n\">subtrahend</span> <span class=\"o\">=</span> <span class=\"nb\">int</span><span class=\"p\">(</span><span class=\"n\">get_named_parameter</span><span class=\"p\">(</span><span class=\"n\">event</span><span class=\"p\">,</span> <span class=\"s2\">&quot;subtrahend&quot;</span><span class=\"p\">))</span>\n",
       "\n",
       "    <span class=\"n\">difference</span> <span class=\"o\">=</span> <span class=\"n\">minuend</span> <span class=\"o\">-</span> <span class=\"n\">subtrahend</span>\n",
       "\n",
       "    <span class=\"k\">return</span> <span class=\"p\">{</span><span class=\"s2\">&quot;difference&quot;</span><span class=\"p\">:</span> <span class=\"n\">difference</span><span class=\"p\">}</span>\n",
       "\n",
       "\n",
       "<span class=\"k\">def</span><span class=\"w\"> </span><span class=\"nf\">lambda_handler</span><span class=\"p\">(</span><span class=\"n\">event</span><span class=\"p\">,</span> <span class=\"n\">context</span><span class=\"p\">):</span>\n",
       "    <span class=\"nb\">print</span><span class=\"p\">(</span><span class=\"sa\">f</span><span class=\"s2\">&quot;event: </span><span class=\"si\">{</span><span class=\"n\">event</span><span class=\"si\">}</span><span class=\"s2\">&quot;</span><span class=\"p\">)</span>\n",
       "    <span class=\"nb\">print</span><span class=\"p\">(</span><span class=\"sa\">f</span><span class=\"s2\">&quot;context: </span><span class=\"si\">{</span><span class=\"n\">context</span><span class=\"si\">}</span><span class=\"s2\">&quot;</span><span class=\"p\">)</span>\n",
       "    <span class=\"nb\">print</span><span class=\"p\">(</span><span class=\"sa\">f</span><span class=\"s2\">&quot;context.client_context: </span><span class=\"si\">{</span><span class=\"n\">context</span><span class=\"o\">.</span><span class=\"n\">client_context</span><span class=\"si\">}</span><span class=\"s2\">&quot;</span><span class=\"p\">)</span>\n",
       "\n",
       "    <span class=\"n\">extended_tool_name</span> <span class=\"o\">=</span> <span class=\"n\">context</span><span class=\"o\">.</span><span class=\"n\">client_context</span><span class=\"o\">.</span><span class=\"n\">custom</span><span class=\"p\">[</span><span class=\"s2\">&quot;bedrockAgentCoreToolName&quot;</span><span class=\"p\">]</span>\n",
       "    <span class=\"n\">tool_name</span> <span class=\"o\">=</span> <span class=\"n\">extended_tool_name</span><span class=\"o\">.</span><span class=\"n\">split</span><span class=\"p\">(</span><span class=\"s2\">&quot;___&quot;</span><span class=\"p\">)[</span><span class=\"mi\">1</span><span class=\"p\">]</span>\n",
       "\n",
       "    <span class=\"nb\">print</span><span class=\"p\">(</span><span class=\"sa\">f</span><span class=\"s2\">&quot;tool_name: </span><span class=\"si\">{</span><span class=\"n\">tool_name</span><span class=\"si\">}</span><span class=\"s2\">&quot;</span><span class=\"p\">)</span>\n",
       "\n",
       "    <span class=\"k\">if</span> <span class=\"n\">tool_name</span> <span class=\"o\">==</span> <span class=\"s2\">&quot;add_numbers&quot;</span><span class=\"p\">:</span>\n",
       "        <span class=\"n\">result</span> <span class=\"o\">=</span> <span class=\"n\">handle_add</span><span class=\"p\">(</span><span class=\"n\">event</span><span class=\"p\">)</span>\n",
       "    <span class=\"k\">elif</span> <span class=\"n\">tool_name</span> <span class=\"o\">==</span> <span class=\"s2\">&quot;multiply_numbers&quot;</span><span class=\"p\">:</span>\n",
       "        <span class=\"n\">result</span> <span class=\"o\">=</span> <span class=\"n\">handle_multiply</span><span class=\"p\">(</span><span class=\"n\">event</span><span class=\"p\">)</span>\n",
       "    <span class=\"k\">elif</span> <span class=\"n\">tool_name</span> <span class=\"o\">==</span> <span class=\"s2\">&quot;divide_numbers&quot;</span><span class=\"p\">:</span>\n",
       "        <span class=\"n\">result</span> <span class=\"o\">=</span> <span class=\"n\">handle_divide</span><span class=\"p\">(</span><span class=\"n\">event</span><span class=\"p\">)</span>\n",
       "    <span class=\"k\">elif</span> <span class=\"n\">tool_name</span> <span class=\"o\">==</span> <span class=\"s2\">&quot;subtract_numbers&quot;</span><span class=\"p\">:</span>\n",
       "        <span class=\"n\">result</span> <span class=\"o\">=</span> <span class=\"n\">handle_subtract</span><span class=\"p\">(</span><span class=\"n\">event</span><span class=\"p\">)</span>\n",
       "    <span class=\"k\">else</span><span class=\"p\">:</span>\n",
       "        <span class=\"n\">result</span> <span class=\"o\">=</span> <span class=\"sa\">f</span><span class=\"s2\">&quot;Unrecognized tool_name: </span><span class=\"si\">{</span><span class=\"n\">tool_name</span><span class=\"si\">}</span><span class=\"s2\">&quot;</span>\n",
       "\n",
       "    <span class=\"nb\">print</span><span class=\"p\">(</span><span class=\"sa\">f</span><span class=\"s2\">&quot;result: </span><span class=\"si\">{</span><span class=\"n\">result</span><span class=\"si\">}</span><span class=\"s2\">&quot;</span><span class=\"p\">)</span>\n",
       "    <span class=\"k\">return</span> <span class=\"n\">result</span>\n",
       "</pre></div>\n"
      ],
      "text/latex": [
       "\\begin{Verbatim}[commandchars=\\\\\\{\\}]\n",
       "\\PY{k}{def}\\PY{+w}{ }\\PY{n+nf}{get\\PYZus{}named\\PYZus{}parameter}\\PY{p}{(}\\PY{n}{event}\\PY{p}{,} \\PY{n}{name}\\PY{p}{)}\\PY{p}{:}\n",
       "    \\PY{k}{return} \\PY{n}{event}\\PY{p}{[}\\PY{n}{name}\\PY{p}{]}\n",
       "\n",
       "\n",
       "\\PY{k}{def}\\PY{+w}{ }\\PY{n+nf}{handle\\PYZus{}add}\\PY{p}{(}\\PY{n}{event}\\PY{p}{)}\\PY{p}{:}\n",
       "    \\PY{n}{firstNumber} \\PY{o}{=} \\PY{n+nb}{int}\\PY{p}{(}\\PY{n}{get\\PYZus{}named\\PYZus{}parameter}\\PY{p}{(}\\PY{n}{event}\\PY{p}{,} \\PY{l+s+s2}{\\PYZdq{}}\\PY{l+s+s2}{firstNumber}\\PY{l+s+s2}{\\PYZdq{}}\\PY{p}{)}\\PY{p}{)}\n",
       "    \\PY{n}{secondNumber} \\PY{o}{=} \\PY{n+nb}{int}\\PY{p}{(}\\PY{n}{get\\PYZus{}named\\PYZus{}parameter}\\PY{p}{(}\\PY{n}{event}\\PY{p}{,} \\PY{l+s+s2}{\\PYZdq{}}\\PY{l+s+s2}{secondNumber}\\PY{l+s+s2}{\\PYZdq{}}\\PY{p}{)}\\PY{p}{)}\n",
       "    \\PY{k}{return} \\PY{p}{\\PYZob{}}\\PY{l+s+s2}{\\PYZdq{}}\\PY{l+s+s2}{sum}\\PY{l+s+s2}{\\PYZdq{}}\\PY{p}{:} \\PY{n}{firstNumber} \\PY{o}{+} \\PY{n}{secondNumber}\\PY{p}{\\PYZcb{}}\n",
       "\n",
       "\n",
       "\\PY{k}{def}\\PY{+w}{ }\\PY{n+nf}{handle\\PYZus{}multiply}\\PY{p}{(}\\PY{n}{event}\\PY{p}{)}\\PY{p}{:}\n",
       "    \\PY{n}{multiplicand} \\PY{o}{=} \\PY{n+nb}{int}\\PY{p}{(}\\PY{n}{get\\PYZus{}named\\PYZus{}parameter}\\PY{p}{(}\\PY{n}{event}\\PY{p}{,} \\PY{l+s+s2}{\\PYZdq{}}\\PY{l+s+s2}{multiplicand}\\PY{l+s+s2}{\\PYZdq{}}\\PY{p}{)}\\PY{p}{)}\n",
       "    \\PY{n}{multiplier} \\PY{o}{=} \\PY{n+nb}{int}\\PY{p}{(}\\PY{n}{get\\PYZus{}named\\PYZus{}parameter}\\PY{p}{(}\\PY{n}{event}\\PY{p}{,} \\PY{l+s+s2}{\\PYZdq{}}\\PY{l+s+s2}{multiplier}\\PY{l+s+s2}{\\PYZdq{}}\\PY{p}{)}\\PY{p}{)}\n",
       "    \\PY{k}{return} \\PY{p}{\\PYZob{}}\\PY{l+s+s2}{\\PYZdq{}}\\PY{l+s+s2}{product}\\PY{l+s+s2}{\\PYZdq{}}\\PY{p}{:} \\PY{n}{multiplicand} \\PY{o}{*} \\PY{n}{multiplier}\\PY{p}{\\PYZcb{}}\n",
       "\n",
       "\n",
       "\\PY{k}{def}\\PY{+w}{ }\\PY{n+nf}{handle\\PYZus{}divide}\\PY{p}{(}\\PY{n}{event}\\PY{p}{)}\\PY{p}{:}\n",
       "    \\PY{n}{divisor} \\PY{o}{=} \\PY{n+nb}{int}\\PY{p}{(}\\PY{n}{get\\PYZus{}named\\PYZus{}parameter}\\PY{p}{(}\\PY{n}{event}\\PY{p}{,} \\PY{l+s+s2}{\\PYZdq{}}\\PY{l+s+s2}{divisor}\\PY{l+s+s2}{\\PYZdq{}}\\PY{p}{)}\\PY{p}{)}\n",
       "    \\PY{n}{dividend} \\PY{o}{=} \\PY{n+nb}{int}\\PY{p}{(}\\PY{n}{get\\PYZus{}named\\PYZus{}parameter}\\PY{p}{(}\\PY{n}{event}\\PY{p}{,} \\PY{l+s+s2}{\\PYZdq{}}\\PY{l+s+s2}{dividend}\\PY{l+s+s2}{\\PYZdq{}}\\PY{p}{)}\\PY{p}{)}\n",
       "\n",
       "    \\PY{k}{if} \\PY{n}{divisor} \\PY{o}{==} \\PY{l+m+mi}{0}\\PY{p}{:}\n",
       "        \\PY{k}{raise} \\PY{n+ne}{Exception}\\PY{p}{(}\\PY{l+s+s2}{\\PYZdq{}}\\PY{l+s+s2}{Divisor cannot be 0}\\PY{l+s+s2}{\\PYZdq{}}\\PY{p}{)}\n",
       "\n",
       "    \\PY{n}{quotient} \\PY{o}{=} \\PY{n}{dividend} \\PY{o}{/} \\PY{n}{divisor}\n",
       "\n",
       "    \\PY{k}{return} \\PY{p}{\\PYZob{}}\\PY{l+s+s2}{\\PYZdq{}}\\PY{l+s+s2}{quotient}\\PY{l+s+s2}{\\PYZdq{}}\\PY{p}{:} \\PY{n}{quotient}\\PY{p}{\\PYZcb{}}\n",
       "\n",
       "\n",
       "\\PY{k}{def}\\PY{+w}{ }\\PY{n+nf}{handle\\PYZus{}subtract}\\PY{p}{(}\\PY{n}{event}\\PY{p}{)}\\PY{p}{:}\n",
       "    \\PY{n}{minuend} \\PY{o}{=} \\PY{n+nb}{int}\\PY{p}{(}\\PY{n}{get\\PYZus{}named\\PYZus{}parameter}\\PY{p}{(}\\PY{n}{event}\\PY{p}{,} \\PY{l+s+s2}{\\PYZdq{}}\\PY{l+s+s2}{minuend}\\PY{l+s+s2}{\\PYZdq{}}\\PY{p}{)}\\PY{p}{)}\n",
       "    \\PY{n}{subtrahend} \\PY{o}{=} \\PY{n+nb}{int}\\PY{p}{(}\\PY{n}{get\\PYZus{}named\\PYZus{}parameter}\\PY{p}{(}\\PY{n}{event}\\PY{p}{,} \\PY{l+s+s2}{\\PYZdq{}}\\PY{l+s+s2}{subtrahend}\\PY{l+s+s2}{\\PYZdq{}}\\PY{p}{)}\\PY{p}{)}\n",
       "\n",
       "    \\PY{n}{difference} \\PY{o}{=} \\PY{n}{minuend} \\PY{o}{\\PYZhy{}} \\PY{n}{subtrahend}\n",
       "\n",
       "    \\PY{k}{return} \\PY{p}{\\PYZob{}}\\PY{l+s+s2}{\\PYZdq{}}\\PY{l+s+s2}{difference}\\PY{l+s+s2}{\\PYZdq{}}\\PY{p}{:} \\PY{n}{difference}\\PY{p}{\\PYZcb{}}\n",
       "\n",
       "\n",
       "\\PY{k}{def}\\PY{+w}{ }\\PY{n+nf}{lambda\\PYZus{}handler}\\PY{p}{(}\\PY{n}{event}\\PY{p}{,} \\PY{n}{context}\\PY{p}{)}\\PY{p}{:}\n",
       "    \\PY{n+nb}{print}\\PY{p}{(}\\PY{l+s+sa}{f}\\PY{l+s+s2}{\\PYZdq{}}\\PY{l+s+s2}{event: }\\PY{l+s+si}{\\PYZob{}}\\PY{n}{event}\\PY{l+s+si}{\\PYZcb{}}\\PY{l+s+s2}{\\PYZdq{}}\\PY{p}{)}\n",
       "    \\PY{n+nb}{print}\\PY{p}{(}\\PY{l+s+sa}{f}\\PY{l+s+s2}{\\PYZdq{}}\\PY{l+s+s2}{context: }\\PY{l+s+si}{\\PYZob{}}\\PY{n}{context}\\PY{l+s+si}{\\PYZcb{}}\\PY{l+s+s2}{\\PYZdq{}}\\PY{p}{)}\n",
       "    \\PY{n+nb}{print}\\PY{p}{(}\\PY{l+s+sa}{f}\\PY{l+s+s2}{\\PYZdq{}}\\PY{l+s+s2}{context.client\\PYZus{}context: }\\PY{l+s+si}{\\PYZob{}}\\PY{n}{context}\\PY{o}{.}\\PY{n}{client\\PYZus{}context}\\PY{l+s+si}{\\PYZcb{}}\\PY{l+s+s2}{\\PYZdq{}}\\PY{p}{)}\n",
       "\n",
       "    \\PY{n}{extended\\PYZus{}tool\\PYZus{}name} \\PY{o}{=} \\PY{n}{context}\\PY{o}{.}\\PY{n}{client\\PYZus{}context}\\PY{o}{.}\\PY{n}{custom}\\PY{p}{[}\\PY{l+s+s2}{\\PYZdq{}}\\PY{l+s+s2}{bedrockAgentCoreToolName}\\PY{l+s+s2}{\\PYZdq{}}\\PY{p}{]}\n",
       "    \\PY{n}{tool\\PYZus{}name} \\PY{o}{=} \\PY{n}{extended\\PYZus{}tool\\PYZus{}name}\\PY{o}{.}\\PY{n}{split}\\PY{p}{(}\\PY{l+s+s2}{\\PYZdq{}}\\PY{l+s+s2}{\\PYZus{}\\PYZus{}\\PYZus{}}\\PY{l+s+s2}{\\PYZdq{}}\\PY{p}{)}\\PY{p}{[}\\PY{l+m+mi}{1}\\PY{p}{]}\n",
       "\n",
       "    \\PY{n+nb}{print}\\PY{p}{(}\\PY{l+s+sa}{f}\\PY{l+s+s2}{\\PYZdq{}}\\PY{l+s+s2}{tool\\PYZus{}name: }\\PY{l+s+si}{\\PYZob{}}\\PY{n}{tool\\PYZus{}name}\\PY{l+s+si}{\\PYZcb{}}\\PY{l+s+s2}{\\PYZdq{}}\\PY{p}{)}\n",
       "\n",
       "    \\PY{k}{if} \\PY{n}{tool\\PYZus{}name} \\PY{o}{==} \\PY{l+s+s2}{\\PYZdq{}}\\PY{l+s+s2}{add\\PYZus{}numbers}\\PY{l+s+s2}{\\PYZdq{}}\\PY{p}{:}\n",
       "        \\PY{n}{result} \\PY{o}{=} \\PY{n}{handle\\PYZus{}add}\\PY{p}{(}\\PY{n}{event}\\PY{p}{)}\n",
       "    \\PY{k}{elif} \\PY{n}{tool\\PYZus{}name} \\PY{o}{==} \\PY{l+s+s2}{\\PYZdq{}}\\PY{l+s+s2}{multiply\\PYZus{}numbers}\\PY{l+s+s2}{\\PYZdq{}}\\PY{p}{:}\n",
       "        \\PY{n}{result} \\PY{o}{=} \\PY{n}{handle\\PYZus{}multiply}\\PY{p}{(}\\PY{n}{event}\\PY{p}{)}\n",
       "    \\PY{k}{elif} \\PY{n}{tool\\PYZus{}name} \\PY{o}{==} \\PY{l+s+s2}{\\PYZdq{}}\\PY{l+s+s2}{divide\\PYZus{}numbers}\\PY{l+s+s2}{\\PYZdq{}}\\PY{p}{:}\n",
       "        \\PY{n}{result} \\PY{o}{=} \\PY{n}{handle\\PYZus{}divide}\\PY{p}{(}\\PY{n}{event}\\PY{p}{)}\n",
       "    \\PY{k}{elif} \\PY{n}{tool\\PYZus{}name} \\PY{o}{==} \\PY{l+s+s2}{\\PYZdq{}}\\PY{l+s+s2}{subtract\\PYZus{}numbers}\\PY{l+s+s2}{\\PYZdq{}}\\PY{p}{:}\n",
       "        \\PY{n}{result} \\PY{o}{=} \\PY{n}{handle\\PYZus{}subtract}\\PY{p}{(}\\PY{n}{event}\\PY{p}{)}\n",
       "    \\PY{k}{else}\\PY{p}{:}\n",
       "        \\PY{n}{result} \\PY{o}{=} \\PY{l+s+sa}{f}\\PY{l+s+s2}{\\PYZdq{}}\\PY{l+s+s2}{Unrecognized tool\\PYZus{}name: }\\PY{l+s+si}{\\PYZob{}}\\PY{n}{tool\\PYZus{}name}\\PY{l+s+si}{\\PYZcb{}}\\PY{l+s+s2}{\\PYZdq{}}\n",
       "\n",
       "    \\PY{n+nb}{print}\\PY{p}{(}\\PY{l+s+sa}{f}\\PY{l+s+s2}{\\PYZdq{}}\\PY{l+s+s2}{result: }\\PY{l+s+si}{\\PYZob{}}\\PY{n}{result}\\PY{l+s+si}{\\PYZcb{}}\\PY{l+s+s2}{\\PYZdq{}}\\PY{p}{)}\n",
       "    \\PY{k}{return} \\PY{n}{result}\n",
       "\\end{Verbatim}\n"
      ],
      "text/plain": [
       "def get_named_parameter(event, name):\n",
       "    return event[name]\n",
       "\n",
       "\n",
       "def handle_add(event):\n",
       "    firstNumber = int(get_named_parameter(event, \"firstNumber\"))\n",
       "    secondNumber = int(get_named_parameter(event, \"secondNumber\"))\n",
       "    return {\"sum\": firstNumber + secondNumber}\n",
       "\n",
       "\n",
       "def handle_multiply(event):\n",
       "    multiplicand = int(get_named_parameter(event, \"multiplicand\"))\n",
       "    multiplier = int(get_named_parameter(event, \"multiplier\"))\n",
       "    return {\"product\": multiplicand * multiplier}\n",
       "\n",
       "\n",
       "def handle_divide(event):\n",
       "    divisor = int(get_named_parameter(event, \"divisor\"))\n",
       "    dividend = int(get_named_parameter(event, \"dividend\"))\n",
       "\n",
       "    if divisor == 0:\n",
       "        raise Exception(\"Divisor cannot be 0\")\n",
       "\n",
       "    quotient = dividend / divisor\n",
       "\n",
       "    return {\"quotient\": quotient}\n",
       "\n",
       "\n",
       "def handle_subtract(event):\n",
       "    minuend = int(get_named_parameter(event, \"minuend\"))\n",
       "    subtrahend = int(get_named_parameter(event, \"subtrahend\"))\n",
       "\n",
       "    difference = minuend - subtrahend\n",
       "\n",
       "    return {\"difference\": difference}\n",
       "\n",
       "\n",
       "def lambda_handler(event, context):\n",
       "    print(f\"event: {event}\")\n",
       "    print(f\"context: {context}\")\n",
       "    print(f\"context.client_context: {context.client_context}\")\n",
       "\n",
       "    extended_tool_name = context.client_context.custom[\"bedrockAgentCoreToolName\"]\n",
       "    tool_name = extended_tool_name.split(\"___\")[1]\n",
       "\n",
       "    print(f\"tool_name: {tool_name}\")\n",
       "\n",
       "    if tool_name == \"add_numbers\":\n",
       "        result = handle_add(event)\n",
       "    elif tool_name == \"multiply_numbers\":\n",
       "        result = handle_multiply(event)\n",
       "    elif tool_name == \"divide_numbers\":\n",
       "        result = handle_divide(event)\n",
       "    elif tool_name == \"subtract_numbers\":\n",
       "        result = handle_subtract(event)\n",
       "    else:\n",
       "        result = f\"Unrecognized tool_name: {tool_name}\"\n",
       "\n",
       "    print(f\"result: {result}\")\n",
       "    return result"
      ]
     },
     "metadata": {},
     "output_type": "display_data"
    }
   ],
   "source": [
    "from IPython.display import display, Code\n",
    "\n",
    "with open(\"./calc/lambda_function_code.py\", \"r\") as f:\n",
    "    code_content = f.read()\n",
    "display(Code(code_content, language=\"python\"))"
   ]
  },
  {
   "cell_type": "code",
   "execution_count": 21,
   "metadata": {},
   "outputs": [
    {
     "name": "stdout",
     "output_type": "stream",
     "text": [
      "Reading code from zip file\n",
      "Creating IAM role for lambda function\n",
      "IAM role calc_lambda_gateway_lambda_iamrole already exists. Using the same ARN arn:aws:iam::165361166149:role/calc_lambda_gateway_lambda_iamrole\n",
      "Creating lambda function\n",
      "AWS Lambda function calc_lambda_gateway already exists. Using the same ARN arn:aws:lambda:us-east-1:165361166149:function:calc_lambda_gateway\n",
      "Lambda function created with ARN:  arn:aws:lambda:us-east-1:165361166149:function:calc_lambda_gateway\n"
     ]
    }
   ],
   "source": [
    "#### Create a sample AWS Lambda function that you want to convert into MCP tools\n",
    "calc_lambda_resp = utils.create_gateway_lambda(\n",
    "    \"calc/lambda_function_code.zip\", lambda_function_name=\"calc_lambda_gateway\"\n",
    ")\n",
    "\n",
    "if calc_lambda_resp is not None:\n",
    "    if calc_lambda_resp[\"exit_code\"] == 0:\n",
    "        print(\n",
    "            \"Lambda function created with ARN: \",\n",
    "            calc_lambda_resp[\"lambda_function_arn\"],\n",
    "        )\n",
    "    else:\n",
    "        print(\n",
    "            \"Lambda function creation failed with message: \",\n",
    "            calc_lambda_resp[\"lambda_function_arn\"],\n",
    "        )"
   ]
  },
  {
   "cell_type": "code",
   "execution_count": 22,
   "metadata": {},
   "outputs": [
    {
     "data": {
      "text/plain": [
       "'arn:aws:lambda:us-east-1:165361166149:function:calc_lambda_gateway'"
      ]
     },
     "execution_count": 22,
     "metadata": {},
     "output_type": "execute_result"
    }
   ],
   "source": [
    "calc_lambda_resp[\"lambda_function_arn\"]"
   ]
  },
  {
   "cell_type": "markdown",
   "id": "579661a0",
   "metadata": {},
   "source": [
    "## Creating Cognito"
   ]
  },
  {
   "cell_type": "code",
   "execution_count": 23,
   "id": "26b9fd33",
   "metadata": {},
   "outputs": [
    {
     "name": "stdout",
     "output_type": "stream",
     "text": [
      "Creating Cognito User Pool: MCPServerPool\n",
      "User Pool created with ID: us-east-1_tk0ZfLujQ\n",
      "Creating Cognito App Client: MCPServerPoolClient\n",
      "App Client created with ID: h9majoiq19ld8qs0nd3cqjb1n\n",
      "Creating Cognito user: testuser\n",
      "Setting permanent password for user: testuser\n",
      "Pool ID: us-east-1_tk0ZfLujQ\n",
      "Discovery URL: https://cognito-idp.us-east-1.amazonaws.com/us-east-1_tk0ZfLujQ/.well-known/openid-configuration\n",
      "Client ID: h9majoiq19ld8qs0nd3cqjb1n\n",
      "Authenticating user: testuser\n",
      "Bearer token obtained successfully\n"
     ]
    }
   ],
   "source": [
    "cognito_response = utils.setup_cognito_user_pool()\n",
    "\n",
    "bearer_token = utils.get_bearer_token(\n",
    "    client_id=cognito_response[\"client_id\"],\n",
    "    username=\"testuser\",\n",
    "    password=\"MyPassword123!\",\n",
    ")"
   ]
  },
  {
   "cell_type": "code",
   "execution_count": 24,
   "metadata": {},
   "outputs": [
    {
     "name": "stdout",
     "output_type": "stream",
     "text": [
      "Creating IAM role: GatewaySearchAgentCoreRole\n",
      "IAM role GatewaySearchAgentCoreRole already exists. Retrieving existing role...\n",
      "Updated policy for existing role: arn:aws:iam::165361166149:role/GatewaySearchAgentCoreRole\n"
     ]
    }
   ],
   "source": [
    "gateway_role_arn = utils.create_gateway_iam_role(\n",
    "    lambda_arns=[\n",
    "        calc_lambda_resp[\"lambda_function_arn\"],\n",
    "        # restaurant_lambda_resp[\"lambda_function_arn\"],\n",
    "    ]\n",
    ")"
   ]
  },
  {
   "cell_type": "markdown",
   "id": "b9de9ef7",
   "metadata": {},
   "source": [
    "### Let's create a few helper functions for using the control plane APIs"
   ]
  },
  {
   "cell_type": "code",
   "execution_count": 36,
   "id": "a6a3cb63",
   "metadata": {},
   "outputs": [],
   "source": [
    "def read_apispec(json_file_path):\n",
    "    try:\n",
    "        # read json file and return contents as string\n",
    "        with open(json_file_path, \"r\") as file:\n",
    "            # Parse JSON to Python object\n",
    "            api_spec = json.load(file)\n",
    "            return api_spec\n",
    "\n",
    "    except FileNotFoundError:\n",
    "        return f\"Error: File {json_file_path} not found\"\n",
    "    except Exception as e:\n",
    "        return f\"An unexpected error occurred: {str(e)}\"\n",
    "\n",
    "\n",
    "def list_gateways():\n",
    "    response = agentcore_client.list_gateways()\n",
    "    print(json.dumps(response, indent=2, default=str))\n",
    "    return response"
   ]
  },
  {
   "cell_type": "markdown",
   "id": "60d8aa76",
   "metadata": {},
   "source": [
    "### Create Gateway helper function"
   ]
  },
  {
   "cell_type": "markdown",
   "id": "e0f517f3",
   "metadata": {},
   "source": [
    "Here is a helper function for creating an AgentCore Gateway given a name and\n",
    "description. It uses Amazon Cognito as its IdP, and pulls the allowed client ID\n",
    "and the discovery URL from environment variables, as those were already defined.\n",
    "It also defaults to enabling semantic search on the resulting Gateway, and uses\n",
    "a predefined IAM role."
   ]
  },
  {
   "cell_type": "code",
   "execution_count": 37,
   "id": "ffac7f83",
   "metadata": {},
   "outputs": [],
   "source": [
    "def create_gateway(gateway_name, gateway_desc):\n",
    "    # Use Cognito for Inbound OAuth to our Gateway\n",
    "    auth_config = {\n",
    "        \"customJWTAuthorizer\": {\n",
    "            \"allowedClients\": [cognito_response[\"client_id\"]],\n",
    "            \"discoveryUrl\": cognito_response[\"discovery_url\"],\n",
    "        }\n",
    "    }\n",
    "    # Enable semantic search of tools\n",
    "    search_config = {\n",
    "        \"mcp\": {\"searchType\": \"SEMANTIC\", \"supportedVersions\": [\"2025-03-26\"]}\n",
    "    }\n",
    "    # Create the gateway\n",
    "    response = agentcore_client.create_gateway(\n",
    "        name=gateway_name,\n",
    "        roleArn=gateway_role_arn,\n",
    "        authorizerType=\"CUSTOM_JWT\",\n",
    "        description=gateway_desc,\n",
    "        protocolType=\"MCP\",\n",
    "        authorizerConfiguration=auth_config,\n",
    "        protocolConfiguration=search_config,\n",
    "    )\n",
    "    print(json.dumps(response, indent=2, default=str))\n",
    "    return response[\"gatewayId\"]"
   ]
  },
  {
   "cell_type": "markdown",
   "id": "3d45dd92",
   "metadata": {},
   "source": [
    "### Create Gateway Target helper function"
   ]
  },
  {
   "cell_type": "markdown",
   "id": "fdd07e02",
   "metadata": {},
   "source": [
    "This function creates a new AWS Lambda target on an existing Gateway.\n",
    "Simply provide the gateway ID, the name and description of the new target,\n",
    "the ARN of the existing AWS Lambda function, and the JSON schema describing\n",
    "the interfaces to the tools you want to expose from the gateway."
   ]
  },
  {
   "cell_type": "code",
   "execution_count": 38,
   "id": "9d03d7c8",
   "metadata": {},
   "outputs": [],
   "source": [
    "def create_gatewaytarget(gateway_id, target_name, target_descr, lambda_arn, api_spec):\n",
    "    # Add a Lambda target to the gateway\n",
    "    response = agentcore_client.create_gateway_target(\n",
    "        gatewayIdentifier=gateway_id,\n",
    "        name=target_name,\n",
    "        description=target_descr,\n",
    "        targetConfiguration={\n",
    "            \"mcp\": {\n",
    "                \"lambda\": {\n",
    "                    \"lambdaArn\": lambda_arn,\n",
    "                    \"toolSchema\": {\"inlinePayload\": api_spec},\n",
    "                }\n",
    "            }\n",
    "        },\n",
    "        # Use IAM as credential provider\n",
    "        credentialProviderConfigurations=[\n",
    "            {\"credentialProviderType\": \"GATEWAY_IAM_ROLE\"}\n",
    "        ],\n",
    "    )\n",
    "    return response[\"targetId\"]"
   ]
  },
  {
   "cell_type": "markdown",
   "id": "2084feec",
   "metadata": {},
   "source": [
    "## Creating your AgentCore Gateway\n",
    "Before we setup your first Gateway, let's take a quick look at how \n",
    "Gateway provides security, both for inbound requests to use MCP tools,\n",
    "and outbound access from the Gateway to tools and resources.\n",
    "\n",
    "![How does it work](images/gateway_secure_access.png)\n",
    "\n",
    "Now let's create the gateway for this tutorial, providing a name and a description."
   ]
  },
  {
   "cell_type": "code",
   "execution_count": 39,
   "id": "15cf4cc7",
   "metadata": {},
   "outputs": [
    {
     "name": "stdout",
     "output_type": "stream",
     "text": [
      "{\n",
      "  \"ResponseMetadata\": {\n",
      "    \"RequestId\": \"281311a2-9ac0-434d-8f25-b3f66d11823c\",\n",
      "    \"HTTPStatusCode\": 200,\n",
      "    \"HTTPHeaders\": {\n",
      "      \"date\": \"Thu, 16 Oct 2025 16:43:09 GMT\",\n",
      "      \"content-type\": \"application/json\",\n",
      "      \"content-length\": \"2075\",\n",
      "      \"connection\": \"keep-alive\",\n",
      "      \"x-amzn-requestid\": \"281311a2-9ac0-434d-8f25-b3f66d11823c\",\n",
      "      \"x-amzn-remapped-x-amzn-requestid\": \"69adcb80-e8bf-42e8-8a7f-a672e9638688\",\n",
      "      \"x-amzn-remapped-content-length\": \"2075\",\n",
      "      \"x-amzn-remapped-connection\": \"keep-alive\",\n",
      "      \"x-amz-apigw-id\": \"SjIInGGhIAMEjhw=\",\n",
      "      \"x-amzn-trace-id\": \"Root=1-68f1209d-2e35fa9a5ee1f11d6abf2fe4\",\n",
      "      \"x-amzn-remapped-date\": \"Thu, 16 Oct 2025 16:43:09 GMT\"\n",
      "    },\n",
      "    \"RetryAttempts\": 0\n",
      "  },\n",
      "  \"items\": [\n",
      "    {\n",
      "      \"gatewayId\": \"ac-gateway-mcp-server-tv5rao2k84\",\n",
      "      \"name\": \"ac-gateway-mcp-server\",\n",
      "      \"status\": \"READY\",\n",
      "      \"description\": \"AgentCore Gateway with MCP Server target\",\n",
      "      \"createdAt\": \"2025-10-14 03:47:18.920371+00:00\",\n",
      "      \"updatedAt\": \"2025-10-14 03:47:20.054548+00:00\",\n",
      "      \"authorizerType\": \"CUSTOM_JWT\",\n",
      "      \"protocolType\": \"MCP\"\n",
      "    },\n",
      "    {\n",
      "      \"gatewayId\": \"customer-support-gatewat-smw47zhrn3\",\n",
      "      \"name\": \"customer-support-gatewat\",\n",
      "      \"status\": \"READY\",\n",
      "      \"description\": \"AgentCore Gateway with AWS Lambda target type using AWS IAM for ingress auth\",\n",
      "      \"createdAt\": \"2025-10-14 01:31:51.410202+00:00\",\n",
      "      \"updatedAt\": \"2025-10-14 01:31:52.406149+00:00\",\n",
      "      \"authorizerType\": \"AWS_IAM\",\n",
      "      \"protocolType\": \"MCP\"\n",
      "    },\n",
      "    {\n",
      "      \"gatewayId\": \"customersupport-gw-wdh7gm6syb\",\n",
      "      \"name\": \"customersupport-gw\",\n",
      "      \"status\": \"READY\",\n",
      "      \"description\": \"Customer Support AgentCore Gateway\",\n",
      "      \"createdAt\": \"2025-09-08 00:16:25.968828+00:00\",\n",
      "      \"updatedAt\": \"2025-09-08 00:16:25.968839+00:00\",\n",
      "      \"authorizerType\": \"CUSTOM_JWT\",\n",
      "      \"protocolType\": \"MCP\"\n",
      "    },\n",
      "    {\n",
      "      \"gatewayId\": \"gateway-search-tutorial-v2-g3o6j3kkva\",\n",
      "      \"name\": \"gateway-search-tutorial-v2\",\n",
      "      \"status\": \"READY\",\n",
      "      \"description\": \"AgentCore Gateway Tutorial v2\",\n",
      "      \"createdAt\": \"2025-10-16 01:30:09.586761+00:00\",\n",
      "      \"updatedAt\": \"2025-10-16 01:30:10.473134+00:00\",\n",
      "      \"authorizerType\": \"CUSTOM_JWT\",\n",
      "      \"protocolType\": \"MCP\"\n",
      "    },\n",
      "    {\n",
      "      \"gatewayId\": \"gateway-search-tutorial-v3-f4bfwupqyx\",\n",
      "      \"name\": \"gateway-search-tutorial-v3\",\n",
      "      \"status\": \"READY\",\n",
      "      \"description\": \"AgentCore Gateway Tutorial\",\n",
      "      \"createdAt\": \"2025-10-16 03:44:37.691652+00:00\",\n",
      "      \"updatedAt\": \"2025-10-16 03:44:38.946684+00:00\",\n",
      "      \"authorizerType\": \"CUSTOM_JWT\",\n",
      "      \"protocolType\": \"MCP\"\n",
      "    },\n",
      "    {\n",
      "      \"gatewayId\": \"gateway-search-tutorial-vckvlacayp\",\n",
      "      \"name\": \"gateway-search-tutorial\",\n",
      "      \"status\": \"READY\",\n",
      "      \"description\": \"AgentCore Gateway Tutorial\",\n",
      "      \"createdAt\": \"2025-10-13 22:03:08.293469+00:00\",\n",
      "      \"updatedAt\": \"2025-10-13 22:03:09.462800+00:00\",\n",
      "      \"authorizerType\": \"CUSTOM_JWT\",\n",
      "      \"protocolType\": \"MCP\"\n",
      "    },\n",
      "    {\n",
      "      \"gatewayId\": \"octank-financials-v2-bneozwd9k5\",\n",
      "      \"name\": \"octank-financials-v2\",\n",
      "      \"status\": \"READY\",\n",
      "      \"description\": \"Gateway for Octank Financials\",\n",
      "      \"createdAt\": \"2025-10-16 15:30:02.574499+00:00\",\n",
      "      \"updatedAt\": \"2025-10-16 15:30:03.681809+00:00\",\n",
      "      \"authorizerType\": \"CUSTOM_JWT\",\n",
      "      \"protocolType\": \"MCP\"\n",
      "    }\n",
      "  ]\n",
      "}\n"
     ]
    },
    {
     "data": {
      "text/plain": [
       "{'ResponseMetadata': {'RequestId': '281311a2-9ac0-434d-8f25-b3f66d11823c',\n",
       "  'HTTPStatusCode': 200,\n",
       "  'HTTPHeaders': {'date': 'Thu, 16 Oct 2025 16:43:09 GMT',\n",
       "   'content-type': 'application/json',\n",
       "   'content-length': '2075',\n",
       "   'connection': 'keep-alive',\n",
       "   'x-amzn-requestid': '281311a2-9ac0-434d-8f25-b3f66d11823c',\n",
       "   'x-amzn-remapped-x-amzn-requestid': '69adcb80-e8bf-42e8-8a7f-a672e9638688',\n",
       "   'x-amzn-remapped-content-length': '2075',\n",
       "   'x-amzn-remapped-connection': 'keep-alive',\n",
       "   'x-amz-apigw-id': 'SjIInGGhIAMEjhw=',\n",
       "   'x-amzn-trace-id': 'Root=1-68f1209d-2e35fa9a5ee1f11d6abf2fe4',\n",
       "   'x-amzn-remapped-date': 'Thu, 16 Oct 2025 16:43:09 GMT'},\n",
       "  'RetryAttempts': 0},\n",
       " 'items': [{'gatewayId': 'ac-gateway-mcp-server-tv5rao2k84',\n",
       "   'name': 'ac-gateway-mcp-server',\n",
       "   'status': 'READY',\n",
       "   'description': 'AgentCore Gateway with MCP Server target',\n",
       "   'createdAt': datetime.datetime(2025, 10, 14, 3, 47, 18, 920371, tzinfo=tzutc()),\n",
       "   'updatedAt': datetime.datetime(2025, 10, 14, 3, 47, 20, 54548, tzinfo=tzutc()),\n",
       "   'authorizerType': 'CUSTOM_JWT',\n",
       "   'protocolType': 'MCP'},\n",
       "  {'gatewayId': 'customer-support-gatewat-smw47zhrn3',\n",
       "   'name': 'customer-support-gatewat',\n",
       "   'status': 'READY',\n",
       "   'description': 'AgentCore Gateway with AWS Lambda target type using AWS IAM for ingress auth',\n",
       "   'createdAt': datetime.datetime(2025, 10, 14, 1, 31, 51, 410202, tzinfo=tzutc()),\n",
       "   'updatedAt': datetime.datetime(2025, 10, 14, 1, 31, 52, 406149, tzinfo=tzutc()),\n",
       "   'authorizerType': 'AWS_IAM',\n",
       "   'protocolType': 'MCP'},\n",
       "  {'gatewayId': 'customersupport-gw-wdh7gm6syb',\n",
       "   'name': 'customersupport-gw',\n",
       "   'status': 'READY',\n",
       "   'description': 'Customer Support AgentCore Gateway',\n",
       "   'createdAt': datetime.datetime(2025, 9, 8, 0, 16, 25, 968828, tzinfo=tzutc()),\n",
       "   'updatedAt': datetime.datetime(2025, 9, 8, 0, 16, 25, 968839, tzinfo=tzutc()),\n",
       "   'authorizerType': 'CUSTOM_JWT',\n",
       "   'protocolType': 'MCP'},\n",
       "  {'gatewayId': 'gateway-search-tutorial-v2-g3o6j3kkva',\n",
       "   'name': 'gateway-search-tutorial-v2',\n",
       "   'status': 'READY',\n",
       "   'description': 'AgentCore Gateway Tutorial v2',\n",
       "   'createdAt': datetime.datetime(2025, 10, 16, 1, 30, 9, 586761, tzinfo=tzutc()),\n",
       "   'updatedAt': datetime.datetime(2025, 10, 16, 1, 30, 10, 473134, tzinfo=tzutc()),\n",
       "   'authorizerType': 'CUSTOM_JWT',\n",
       "   'protocolType': 'MCP'},\n",
       "  {'gatewayId': 'gateway-search-tutorial-v3-f4bfwupqyx',\n",
       "   'name': 'gateway-search-tutorial-v3',\n",
       "   'status': 'READY',\n",
       "   'description': 'AgentCore Gateway Tutorial',\n",
       "   'createdAt': datetime.datetime(2025, 10, 16, 3, 44, 37, 691652, tzinfo=tzutc()),\n",
       "   'updatedAt': datetime.datetime(2025, 10, 16, 3, 44, 38, 946684, tzinfo=tzutc()),\n",
       "   'authorizerType': 'CUSTOM_JWT',\n",
       "   'protocolType': 'MCP'},\n",
       "  {'gatewayId': 'gateway-search-tutorial-vckvlacayp',\n",
       "   'name': 'gateway-search-tutorial',\n",
       "   'status': 'READY',\n",
       "   'description': 'AgentCore Gateway Tutorial',\n",
       "   'createdAt': datetime.datetime(2025, 10, 13, 22, 3, 8, 293469, tzinfo=tzutc()),\n",
       "   'updatedAt': datetime.datetime(2025, 10, 13, 22, 3, 9, 462800, tzinfo=tzutc()),\n",
       "   'authorizerType': 'CUSTOM_JWT',\n",
       "   'protocolType': 'MCP'},\n",
       "  {'gatewayId': 'octank-financials-v2-bneozwd9k5',\n",
       "   'name': 'octank-financials-v2',\n",
       "   'status': 'READY',\n",
       "   'description': 'Gateway for Octank Financials',\n",
       "   'createdAt': datetime.datetime(2025, 10, 16, 15, 30, 2, 574499, tzinfo=tzutc()),\n",
       "   'updatedAt': datetime.datetime(2025, 10, 16, 15, 30, 3, 681809, tzinfo=tzutc()),\n",
       "   'authorizerType': 'CUSTOM_JWT',\n",
       "   'protocolType': 'MCP'}]}"
      ]
     },
     "execution_count": 39,
     "metadata": {},
     "output_type": "execute_result"
    }
   ],
   "source": [
    "list_gateways()"
   ]
  },
  {
   "cell_type": "code",
   "execution_count": 40,
   "id": "6e34424a",
   "metadata": {},
   "outputs": [
    {
     "name": "stdout",
     "output_type": "stream",
     "text": [
      "{\n",
      "  \"ResponseMetadata\": {\n",
      "    \"RequestId\": \"1bb61779-f149-4b9d-8b7f-e7897a98b97d\",\n",
      "    \"HTTPStatusCode\": 200,\n",
      "    \"HTTPHeaders\": {\n",
      "      \"date\": \"Thu, 16 Oct 2025 16:44:42 GMT\",\n",
      "      \"content-type\": \"application/json\",\n",
      "      \"content-length\": \"2075\",\n",
      "      \"connection\": \"keep-alive\",\n",
      "      \"x-amzn-requestid\": \"1bb61779-f149-4b9d-8b7f-e7897a98b97d\",\n",
      "      \"x-amzn-remapped-x-amzn-requestid\": \"a641968c-c7ad-4432-a747-6bd0d3e70b47\",\n",
      "      \"x-amzn-remapped-content-length\": \"2075\",\n",
      "      \"x-amzn-remapped-connection\": \"keep-alive\",\n",
      "      \"x-amz-apigw-id\": \"SjIXKFbkIAMENRw=\",\n",
      "      \"x-amzn-trace-id\": \"Root=1-68f120fa-3362c92c3e09617f19d66df8\",\n",
      "      \"x-amzn-remapped-date\": \"Thu, 16 Oct 2025 16:44:42 GMT\"\n",
      "    },\n",
      "    \"RetryAttempts\": 0\n",
      "  },\n",
      "  \"items\": [\n",
      "    {\n",
      "      \"gatewayId\": \"ac-gateway-mcp-server-tv5rao2k84\",\n",
      "      \"name\": \"ac-gateway-mcp-server\",\n",
      "      \"status\": \"READY\",\n",
      "      \"description\": \"AgentCore Gateway with MCP Server target\",\n",
      "      \"createdAt\": \"2025-10-14 03:47:18.920371+00:00\",\n",
      "      \"updatedAt\": \"2025-10-14 03:47:20.054548+00:00\",\n",
      "      \"authorizerType\": \"CUSTOM_JWT\",\n",
      "      \"protocolType\": \"MCP\"\n",
      "    },\n",
      "    {\n",
      "      \"gatewayId\": \"customer-support-gatewat-smw47zhrn3\",\n",
      "      \"name\": \"customer-support-gatewat\",\n",
      "      \"status\": \"READY\",\n",
      "      \"description\": \"AgentCore Gateway with AWS Lambda target type using AWS IAM for ingress auth\",\n",
      "      \"createdAt\": \"2025-10-14 01:31:51.410202+00:00\",\n",
      "      \"updatedAt\": \"2025-10-14 01:31:52.406149+00:00\",\n",
      "      \"authorizerType\": \"AWS_IAM\",\n",
      "      \"protocolType\": \"MCP\"\n",
      "    },\n",
      "    {\n",
      "      \"gatewayId\": \"customersupport-gw-wdh7gm6syb\",\n",
      "      \"name\": \"customersupport-gw\",\n",
      "      \"status\": \"READY\",\n",
      "      \"description\": \"Customer Support AgentCore Gateway\",\n",
      "      \"createdAt\": \"2025-09-08 00:16:25.968828+00:00\",\n",
      "      \"updatedAt\": \"2025-09-08 00:16:25.968839+00:00\",\n",
      "      \"authorizerType\": \"CUSTOM_JWT\",\n",
      "      \"protocolType\": \"MCP\"\n",
      "    },\n",
      "    {\n",
      "      \"gatewayId\": \"gateway-search-tutorial-v2-g3o6j3kkva\",\n",
      "      \"name\": \"gateway-search-tutorial-v2\",\n",
      "      \"status\": \"READY\",\n",
      "      \"description\": \"AgentCore Gateway Tutorial v2\",\n",
      "      \"createdAt\": \"2025-10-16 01:30:09.586761+00:00\",\n",
      "      \"updatedAt\": \"2025-10-16 01:30:10.473134+00:00\",\n",
      "      \"authorizerType\": \"CUSTOM_JWT\",\n",
      "      \"protocolType\": \"MCP\"\n",
      "    },\n",
      "    {\n",
      "      \"gatewayId\": \"gateway-search-tutorial-v3-f4bfwupqyx\",\n",
      "      \"name\": \"gateway-search-tutorial-v3\",\n",
      "      \"status\": \"READY\",\n",
      "      \"description\": \"AgentCore Gateway Tutorial\",\n",
      "      \"createdAt\": \"2025-10-16 03:44:37.691652+00:00\",\n",
      "      \"updatedAt\": \"2025-10-16 03:44:38.946684+00:00\",\n",
      "      \"authorizerType\": \"CUSTOM_JWT\",\n",
      "      \"protocolType\": \"MCP\"\n",
      "    },\n",
      "    {\n",
      "      \"gatewayId\": \"gateway-search-tutorial-vckvlacayp\",\n",
      "      \"name\": \"gateway-search-tutorial\",\n",
      "      \"status\": \"READY\",\n",
      "      \"description\": \"AgentCore Gateway Tutorial\",\n",
      "      \"createdAt\": \"2025-10-13 22:03:08.293469+00:00\",\n",
      "      \"updatedAt\": \"2025-10-13 22:03:09.462800+00:00\",\n",
      "      \"authorizerType\": \"CUSTOM_JWT\",\n",
      "      \"protocolType\": \"MCP\"\n",
      "    },\n",
      "    {\n",
      "      \"gatewayId\": \"octank-financials-v2-bneozwd9k5\",\n",
      "      \"name\": \"octank-financials-v2\",\n",
      "      \"status\": \"READY\",\n",
      "      \"description\": \"Gateway for Octank Financials\",\n",
      "      \"createdAt\": \"2025-10-16 15:30:02.574499+00:00\",\n",
      "      \"updatedAt\": \"2025-10-16 15:30:03.681809+00:00\",\n",
      "      \"authorizerType\": \"CUSTOM_JWT\",\n",
      "      \"protocolType\": \"MCP\"\n",
      "    }\n",
      "  ]\n",
      "}\n",
      "Gateway 'octank-financials-v2' already exists with ID: octank-financials-v2-bneozwd9k5\n"
     ]
    }
   ],
   "source": [
    "from botocore.exceptions import ClientError\n",
    "\n",
    "\n",
    "# {\n",
    "#       \"gatewayId\": \"ac-gateway-mcp-server-tv5rao2k84\",\n",
    "#       \"name\": \"ac-gateway-mcp-server\",\n",
    "#       \"status\": \"READY\",\n",
    "#       \"description\": \"AgentCore Gateway with MCP Server target\",\n",
    "# ...\n",
    "#       \"protocolType\": \"MCP\"\n",
    "#     }\n",
    "\n",
    "\n",
    "# Check if gateway already exists\n",
    "existing_gateways = list_gateways()\n",
    "gatewayId = None\n",
    "\n",
    "for gateway in existing_gateways.get('items', []):\n",
    "    if gateway['name'] == GATEWAY_NAME:\n",
    "        gatewayId = gateway['gatewayId']\n",
    "        print(f\"Gateway '{GATEWAY_NAME}' already exists with ID: {gatewayId}\")\n",
    "        break\n",
    "\n",
    "if not gatewayId:\n",
    "    print(f\"Create gateway with name: {GATEWAY_NAME}\")\n",
    "    try:\n",
    "        gatewayId = create_gateway(\n",
    "            gateway_name=GATEWAY_NAME, gateway_desc=GATEWAY_DESCRIPTION\n",
    "        )\n",
    "        print(f\"Gateway created with id: {gatewayId}.\")\n",
    "    except ClientError as e:\n",
    "        if e.response['Error']['Code'] == 'ConflictException':\n",
    "            # Gateway exists, get its ID\n",
    "            existing_gateways = list_gateways()\n",
    "            for gateway in existing_gateways.get('gateways', []):\n",
    "                if gateway['name'] == GATEWAY_NAME:\n",
    "                    gatewayId = gateway['gatewayId']\n",
    "                    print(f\"Gateway '{GATEWAY_NAME}' already exists with ID: {gatewayId}\")\n",
    "                    break\n",
    "        else:\n",
    "            raise\n"
   ]
  },
  {
   "cell_type": "code",
   "execution_count": null,
   "metadata": {},
   "outputs": [],
   "source": [
    "# print(f\"Create gateway with name: {GATEWAY_NAME}\")\n",
    "# gatewayId = create_gateway(\n",
    "#     gateway_name=GATEWAY_NAME, gateway_desc=GATEWAY_DESCRIPTION\n",
    "# )\n",
    "# print(f\"Gateway created with id: {gatewayId}.\")"
   ]
  },
  {
   "cell_type": "markdown",
   "id": "e28dc73e",
   "metadata": {},
   "source": [
    "# gateway w/o cognito"
   ]
  },
  {
   "cell_type": "code",
   "execution_count": 94,
   "id": "2c6302ba",
   "metadata": {},
   "outputs": [],
   "source": [
    "import boto3\n",
    "import json\n",
    "import time\n",
    "from boto3.session import Session\n",
    "import botocore\n",
    "from botocore.exceptions import ClientError\n",
    "import requests\n",
    "import time\n",
    "\n",
    "# def create_agentcore_gateway_role(gateway_name):\n",
    "#     iam_client = boto3.client('iam')\n",
    "#     agentcore_gateway_role_name = f'agentcore-{gateway_name}-role'\n",
    "#     boto_session = Session()\n",
    "    \n",
    "#     region = boto_session.region_name\n",
    "#     account_id = boto3.client(\"sts\").get_caller_identity()[\"Account\"]\n",
    "#     role_policy = {\n",
    "#         \"Version\": \"2012-10-17\",\n",
    "#         \"Statement\": [{\n",
    "#                 \"Sid\": \"VisualEditor0\",\n",
    "#                 \"Effect\": \"Allow\",\n",
    "#                 \"Action\": [\n",
    "#                     \"bedrock-agentcore:*\",\n",
    "#                     \"bedrock:*\",\n",
    "#                     \"agent-credential-provider:*\",\n",
    "#                     \"iam:PassRole\",\n",
    "#                     \"secretsmanager:GetSecretValue\",\n",
    "#                     \"lambda:InvokeFunction\"\n",
    "#                 ],\n",
    "#                 \"Resource\": \"*\"\n",
    "#             }\n",
    "#         ]\n",
    "#     }"
   ]
  },
  {
   "cell_type": "code",
   "execution_count": 96,
   "id": "19c9dedb",
   "metadata": {},
   "outputs": [
    {
     "name": "stdout",
     "output_type": "stream",
     "text": [
      "Failed to create IAM role\n"
     ]
    },
    {
     "ename": "TypeError",
     "evalue": "'NoneType' object is not subscriptable",
     "output_type": "error",
     "traceback": [
      "\u001b[31m---------------------------------------------------------------------------\u001b[39m",
      "\u001b[31mTypeError\u001b[39m                                 Traceback (most recent call last)",
      "\u001b[36mCell\u001b[39m\u001b[36m \u001b[39m\u001b[32mIn[96]\u001b[39m\u001b[32m, line 24\u001b[39m\n\u001b[32m     20\u001b[39m     \u001b[38;5;28mprint\u001b[39m(create_response)\n\u001b[32m     21\u001b[39m \u001b[38;5;66;03m# print(\"Agentcore gateway role ARN: \", agentcore_gateway_iam_role['Role']['Arn']) \u001b[39;00m\n\u001b[32m     22\u001b[39m \n\u001b[32m     23\u001b[39m \u001b[38;5;66;03m# Retrieve the GatewayID used for GatewayTarget creation\u001b[39;00m\n\u001b[32m---> \u001b[39m\u001b[32m24\u001b[39m gatewayID = \u001b[43mcreate_response\u001b[49m\u001b[43m[\u001b[49m\u001b[33;43m\"\u001b[39;49m\u001b[33;43mgatewayId\u001b[39;49m\u001b[33;43m\"\u001b[39;49m\u001b[43m]\u001b[49m\n\u001b[32m     25\u001b[39m gatewayURL = create_response[\u001b[33m\"\u001b[39m\u001b[33mgatewayUrl\u001b[39m\u001b[33m\"\u001b[39m]\n\u001b[32m     26\u001b[39m \u001b[38;5;28mprint\u001b[39m(gatewayID)\n",
      "\u001b[31mTypeError\u001b[39m: 'NoneType' object is not subscriptable"
     ]
    }
   ],
   "source": [
    "import time\n",
    "import boto3\n",
    "# CreateGateway with Amazon IAM.\n",
    "gateway_client = boto3.client('bedrock-agentcore-control', region_name = os.environ['AWS_DEFAULT_REGION'])\n",
    " \n",
    "#no need to run below if already run once\n",
    "agentcore_gateway_iam_role = create_agentcore_gateway_role(\"sample-lambdagateway\")\n",
    "\n",
    "create_response = None\n",
    "if agentcore_gateway_iam_role is None:\n",
    "    print(\"Failed to create IAM role\")\n",
    "else:\n",
    "    create_response = gateway_client.create_gateway(\n",
    "        name='AgentCoreGateway-wo-Cognito',\n",
    "        roleArn=agentcore_gateway_iam_role['Role']['Arn'],\n",
    "        protocolType='MCP',\n",
    "        authorizerType='AWS_IAM',\n",
    "        description='AgentCore Gateway with AWS Lambda target type using Amazon IAM for ingress auth'\n",
    "    )\n",
    "    print(create_response)\n",
    "# print(\"Agentcore gateway role ARN: \", agentcore_gateway_iam_role['Role']['Arn']) \n",
    "\n",
    "# Retrieve the GatewayID used for GatewayTarget creation\n",
    "gatewayID = create_response[\"gatewayId\"]\n",
    "gatewayURL = create_response[\"gatewayUrl\"]\n",
    "print(gatewayID)\n",
    "time.sleep(10)"
   ]
  },
  {
   "cell_type": "markdown",
   "metadata": {},
   "source": [
    "# Adding AgentCore Gateway Targets\n"
   ]
  },
  {
   "cell_type": "markdown",
   "metadata": {},
   "source": [
    "In this tutorial, we assume you already have installed a pair of Lambda functions, one for doing simple\n",
    "math calculations, and another that simulates creating a restaurant reservation. We'll add a Gateway Target\n",
    "for each of these functions.\n",
    "\n",
    "Once we've added those targets, we'll add additional targets to simply drive higher MCP tool counts that\n",
    "help us demonstrate the power of AgentCore Gateway search."
   ]
  },
  {
   "cell_type": "markdown",
   "metadata": {},
   "source": [
    "### Target 1: Add Calculator Lambda Target w/ custom JSON Payload"
   ]
  },
  {
   "cell_type": "code",
   "execution_count": 41,
   "metadata": {},
   "outputs": [
    {
     "name": "stdout",
     "output_type": "stream",
     "text": [
      "API spec for calc has 79 functions\n",
      "\n",
      "Calc Lambda ARN: arn:aws:lambda:us-east-1:165361166149:function:calc_lambda_gateway\n"
     ]
    },
    {
     "ename": "ConflictException",
     "evalue": "An error occurred (ConflictException) when calling the CreateGatewayTarget operation: A target with name 'CalcTools' already exists in this gateway",
     "output_type": "error",
     "traceback": [
      "\u001b[31m---------------------------------------------------------------------------\u001b[39m",
      "\u001b[31mConflictException\u001b[39m                         Traceback (most recent call last)",
      "\u001b[36mCell\u001b[39m\u001b[36m \u001b[39m\u001b[32mIn[41]\u001b[39m\u001b[32m, line 7\u001b[39m\n\u001b[32m      4\u001b[39m \u001b[38;5;28mprint\u001b[39m(\u001b[33mf\u001b[39m\u001b[33m\"\u001b[39m\u001b[33mCalc Lambda ARN: \u001b[39m\u001b[38;5;132;01m{\u001b[39;00mcalc_lambda_arn\u001b[38;5;132;01m}\u001b[39;00m\u001b[33m\"\u001b[39m)\n\u001b[32m      6\u001b[39m time.sleep(\u001b[32m5\u001b[39m)\n\u001b[32m----> \u001b[39m\u001b[32m7\u001b[39m calcTargetId = \u001b[43mcreate_gatewaytarget\u001b[49m\u001b[43m(\u001b[49m\n\u001b[32m      8\u001b[39m \u001b[43m    \u001b[49m\u001b[43mgateway_id\u001b[49m\u001b[43m=\u001b[49m\u001b[43mgatewayId\u001b[49m\u001b[43m,\u001b[49m\n\u001b[32m      9\u001b[39m \u001b[43m    \u001b[49m\u001b[43mlambda_arn\u001b[49m\u001b[43m=\u001b[49m\u001b[43mcalc_lambda_arn\u001b[49m\u001b[43m,\u001b[49m\n\u001b[32m     10\u001b[39m \u001b[43m    \u001b[49m\u001b[43mtarget_name\u001b[49m\u001b[43m=\u001b[49m\u001b[33;43m\"\u001b[39;49m\u001b[33;43mCalcTools\u001b[39;49m\u001b[33;43m\"\u001b[39;49m\u001b[43m,\u001b[49m\n\u001b[32m     11\u001b[39m \u001b[43m    \u001b[49m\u001b[43mtarget_descr\u001b[49m\u001b[43m=\u001b[49m\u001b[33;43m\"\u001b[39;49m\u001b[33;43mCalculation Tools\u001b[39;49m\u001b[33;43m\"\u001b[39;49m\u001b[43m,\u001b[49m\n\u001b[32m     12\u001b[39m \u001b[43m    \u001b[49m\u001b[43mapi_spec\u001b[49m\u001b[43m=\u001b[49m\u001b[43mcalc_api_spec\u001b[49m\u001b[43m,\u001b[49m\n\u001b[32m     13\u001b[39m \u001b[43m)\u001b[49m\n\u001b[32m     14\u001b[39m \u001b[38;5;28mprint\u001b[39m(\u001b[33mf\u001b[39m\u001b[33m\"\u001b[39m\u001b[33mCalcTools Target created with id: \u001b[39m\u001b[38;5;132;01m{\u001b[39;00mcalcTargetId\u001b[38;5;132;01m}\u001b[39;00m\u001b[33m on gateway: \u001b[39m\u001b[38;5;132;01m{\u001b[39;00mgatewayId\u001b[38;5;132;01m}\u001b[39;00m\u001b[33m\"\u001b[39m)\n",
      "\u001b[36mCell\u001b[39m\u001b[36m \u001b[39m\u001b[32mIn[38]\u001b[39m\u001b[32m, line 3\u001b[39m, in \u001b[36mcreate_gatewaytarget\u001b[39m\u001b[34m(gateway_id, target_name, target_descr, lambda_arn, api_spec)\u001b[39m\n\u001b[32m      1\u001b[39m \u001b[38;5;28;01mdef\u001b[39;00m\u001b[38;5;250m \u001b[39m\u001b[34mcreate_gatewaytarget\u001b[39m(gateway_id, target_name, target_descr, lambda_arn, api_spec):\n\u001b[32m      2\u001b[39m     \u001b[38;5;66;03m# Add a Lambda target to the gateway\u001b[39;00m\n\u001b[32m----> \u001b[39m\u001b[32m3\u001b[39m     response = \u001b[43magentcore_client\u001b[49m\u001b[43m.\u001b[49m\u001b[43mcreate_gateway_target\u001b[49m\u001b[43m(\u001b[49m\n\u001b[32m      4\u001b[39m \u001b[43m        \u001b[49m\u001b[43mgatewayIdentifier\u001b[49m\u001b[43m=\u001b[49m\u001b[43mgateway_id\u001b[49m\u001b[43m,\u001b[49m\n\u001b[32m      5\u001b[39m \u001b[43m        \u001b[49m\u001b[43mname\u001b[49m\u001b[43m=\u001b[49m\u001b[43mtarget_name\u001b[49m\u001b[43m,\u001b[49m\n\u001b[32m      6\u001b[39m \u001b[43m        \u001b[49m\u001b[43mdescription\u001b[49m\u001b[43m=\u001b[49m\u001b[43mtarget_descr\u001b[49m\u001b[43m,\u001b[49m\n\u001b[32m      7\u001b[39m \u001b[43m        \u001b[49m\u001b[43mtargetConfiguration\u001b[49m\u001b[43m=\u001b[49m\u001b[43m{\u001b[49m\n\u001b[32m      8\u001b[39m \u001b[43m            \u001b[49m\u001b[33;43m\"\u001b[39;49m\u001b[33;43mmcp\u001b[39;49m\u001b[33;43m\"\u001b[39;49m\u001b[43m:\u001b[49m\u001b[43m \u001b[49m\u001b[43m{\u001b[49m\n\u001b[32m      9\u001b[39m \u001b[43m                \u001b[49m\u001b[33;43m\"\u001b[39;49m\u001b[33;43mlambda\u001b[39;49m\u001b[33;43m\"\u001b[39;49m\u001b[43m:\u001b[49m\u001b[43m \u001b[49m\u001b[43m{\u001b[49m\n\u001b[32m     10\u001b[39m \u001b[43m                    \u001b[49m\u001b[33;43m\"\u001b[39;49m\u001b[33;43mlambdaArn\u001b[39;49m\u001b[33;43m\"\u001b[39;49m\u001b[43m:\u001b[49m\u001b[43m \u001b[49m\u001b[43mlambda_arn\u001b[49m\u001b[43m,\u001b[49m\n\u001b[32m     11\u001b[39m \u001b[43m                    \u001b[49m\u001b[33;43m\"\u001b[39;49m\u001b[33;43mtoolSchema\u001b[39;49m\u001b[33;43m\"\u001b[39;49m\u001b[43m:\u001b[49m\u001b[43m \u001b[49m\u001b[43m{\u001b[49m\u001b[33;43m\"\u001b[39;49m\u001b[33;43minlinePayload\u001b[39;49m\u001b[33;43m\"\u001b[39;49m\u001b[43m:\u001b[49m\u001b[43m \u001b[49m\u001b[43mapi_spec\u001b[49m\u001b[43m}\u001b[49m\u001b[43m,\u001b[49m\n\u001b[32m     12\u001b[39m \u001b[43m                \u001b[49m\u001b[43m}\u001b[49m\n\u001b[32m     13\u001b[39m \u001b[43m            \u001b[49m\u001b[43m}\u001b[49m\n\u001b[32m     14\u001b[39m \u001b[43m        \u001b[49m\u001b[43m}\u001b[49m\u001b[43m,\u001b[49m\n\u001b[32m     15\u001b[39m \u001b[43m        \u001b[49m\u001b[38;5;66;43;03m# Use IAM as credential provider\u001b[39;49;00m\n\u001b[32m     16\u001b[39m \u001b[43m        \u001b[49m\u001b[43mcredentialProviderConfigurations\u001b[49m\u001b[43m=\u001b[49m\u001b[43m[\u001b[49m\n\u001b[32m     17\u001b[39m \u001b[43m            \u001b[49m\u001b[43m{\u001b[49m\u001b[33;43m\"\u001b[39;49m\u001b[33;43mcredentialProviderType\u001b[39;49m\u001b[33;43m\"\u001b[39;49m\u001b[43m:\u001b[49m\u001b[43m \u001b[49m\u001b[33;43m\"\u001b[39;49m\u001b[33;43mGATEWAY_IAM_ROLE\u001b[39;49m\u001b[33;43m\"\u001b[39;49m\u001b[43m}\u001b[49m\n\u001b[32m     18\u001b[39m \u001b[43m        \u001b[49m\u001b[43m]\u001b[49m\u001b[43m,\u001b[49m\n\u001b[32m     19\u001b[39m \u001b[43m    \u001b[49m\u001b[43m)\u001b[49m\n\u001b[32m     20\u001b[39m     \u001b[38;5;28;01mreturn\u001b[39;00m response[\u001b[33m\"\u001b[39m\u001b[33mtargetId\u001b[39m\u001b[33m\"\u001b[39m]\n",
      "\u001b[36mFile \u001b[39m\u001b[32m~/projects/agents_hub/AgentCore/ac3-forked/amazon-bedrock-agentcore-samples/.venv/lib/python3.12/site-packages/botocore/client.py:602\u001b[39m, in \u001b[36mClientCreator._create_api_method.<locals>._api_call\u001b[39m\u001b[34m(self, *args, **kwargs)\u001b[39m\n\u001b[32m    598\u001b[39m     \u001b[38;5;28;01mraise\u001b[39;00m \u001b[38;5;167;01mTypeError\u001b[39;00m(\n\u001b[32m    599\u001b[39m         \u001b[33mf\u001b[39m\u001b[33m\"\u001b[39m\u001b[38;5;132;01m{\u001b[39;00mpy_operation_name\u001b[38;5;132;01m}\u001b[39;00m\u001b[33m() only accepts keyword arguments.\u001b[39m\u001b[33m\"\u001b[39m\n\u001b[32m    600\u001b[39m     )\n\u001b[32m    601\u001b[39m \u001b[38;5;66;03m# The \"self\" in this scope is referring to the BaseClient.\u001b[39;00m\n\u001b[32m--> \u001b[39m\u001b[32m602\u001b[39m \u001b[38;5;28;01mreturn\u001b[39;00m \u001b[38;5;28;43mself\u001b[39;49m\u001b[43m.\u001b[49m\u001b[43m_make_api_call\u001b[49m\u001b[43m(\u001b[49m\u001b[43moperation_name\u001b[49m\u001b[43m,\u001b[49m\u001b[43m \u001b[49m\u001b[43mkwargs\u001b[49m\u001b[43m)\u001b[49m\n",
      "\u001b[36mFile \u001b[39m\u001b[32m~/projects/agents_hub/AgentCore/ac3-forked/amazon-bedrock-agentcore-samples/.venv/lib/python3.12/site-packages/botocore/context.py:123\u001b[39m, in \u001b[36mwith_current_context.<locals>.decorator.<locals>.wrapper\u001b[39m\u001b[34m(*args, **kwargs)\u001b[39m\n\u001b[32m    121\u001b[39m \u001b[38;5;28;01mif\u001b[39;00m hook:\n\u001b[32m    122\u001b[39m     hook()\n\u001b[32m--> \u001b[39m\u001b[32m123\u001b[39m \u001b[38;5;28;01mreturn\u001b[39;00m \u001b[43mfunc\u001b[49m\u001b[43m(\u001b[49m\u001b[43m*\u001b[49m\u001b[43margs\u001b[49m\u001b[43m,\u001b[49m\u001b[43m \u001b[49m\u001b[43m*\u001b[49m\u001b[43m*\u001b[49m\u001b[43mkwargs\u001b[49m\u001b[43m)\u001b[49m\n",
      "\u001b[36mFile \u001b[39m\u001b[32m~/projects/agents_hub/AgentCore/ac3-forked/amazon-bedrock-agentcore-samples/.venv/lib/python3.12/site-packages/botocore/client.py:1078\u001b[39m, in \u001b[36mBaseClient._make_api_call\u001b[39m\u001b[34m(self, operation_name, api_params)\u001b[39m\n\u001b[32m   1074\u001b[39m     error_code = request_context.get(\n\u001b[32m   1075\u001b[39m         \u001b[33m'\u001b[39m\u001b[33merror_code_override\u001b[39m\u001b[33m'\u001b[39m\n\u001b[32m   1076\u001b[39m     ) \u001b[38;5;129;01mor\u001b[39;00m error_info.get(\u001b[33m\"\u001b[39m\u001b[33mCode\u001b[39m\u001b[33m\"\u001b[39m)\n\u001b[32m   1077\u001b[39m     error_class = \u001b[38;5;28mself\u001b[39m.exceptions.from_code(error_code)\n\u001b[32m-> \u001b[39m\u001b[32m1078\u001b[39m     \u001b[38;5;28;01mraise\u001b[39;00m error_class(parsed_response, operation_name)\n\u001b[32m   1079\u001b[39m \u001b[38;5;28;01melse\u001b[39;00m:\n\u001b[32m   1080\u001b[39m     \u001b[38;5;28;01mreturn\u001b[39;00m parsed_response\n",
      "\u001b[31mConflictException\u001b[39m: An error occurred (ConflictException) when calling the CreateGatewayTarget operation: A target with name 'CalcTools' already exists in this gateway"
     ]
    }
   ],
   "source": [
    "calc_api_spec = read_apispec(\"./calc/calc-api.json\")\n",
    "print(f\"API spec for calc has {len(calc_api_spec)} functions\\n\")\n",
    "calc_lambda_arn = calc_lambda_resp[\"lambda_function_arn\"]\n",
    "print(f\"Calc Lambda ARN: {calc_lambda_arn}\")\n",
    "\n",
    "time.sleep(5)\n",
    "calcTargetId = create_gatewaytarget(\n",
    "    gateway_id=gatewayId,\n",
    "    lambda_arn=calc_lambda_arn,\n",
    "    target_name=\"CalcTools\",\n",
    "    target_descr=\"Calculation Tools\",\n",
    "    api_spec=calc_api_spec,\n",
    ")\n",
    "print(f\"CalcTools Target created with id: {calcTargetId} on gateway: {gatewayId}\")"
   ]
  },
  {
   "cell_type": "markdown",
   "metadata": {},
   "source": [
    "################### check till here ####################"
   ]
  },
  {
   "cell_type": "markdown",
   "id": "3283187d",
   "metadata": {},
   "source": [
    "### Target 2: Add OpenAPI Target w/ yaml spec"
   ]
  },
  {
   "cell_type": "markdown",
   "id": "5a01d00e",
   "metadata": {},
   "source": [
    "#### Upload the Zendesk support OpenAPI yaml file in S3"
   ]
  },
  {
   "cell_type": "code",
   "execution_count": null,
   "id": "fd42c759",
   "metadata": {},
   "outputs": [
    {
     "name": "stdout",
     "output_type": "stream",
     "text": [
      "Error uploading file: An error occurred (NoSuchBucket) when calling the PutObject operation: The specified bucket does not exist\n"
     ]
    }
   ],
   "source": [
    "# # Create an S3 client\n",
    "# session = boto3.session.Session()\n",
    "# s3_client = session.client('s3')\n",
    "# sts_client = session.client('sts')\n",
    "\n",
    "# # Retrieve AWS account ID and region\n",
    "# account_id = sts_client.get_caller_identity()[\"Account\"]\n",
    "# region = session.region_name\n",
    "# # Define parameters\n",
    "# # bucket_name = '' # Your s3 bucket to upload the OpenAPI json file.\n",
    "# bucket_name = f'agentcore-gateway-{account_id}-{region}'\n",
    "# file_path = 'openapi-specs/Zendesk-support-apis.yaml'\n",
    "# object_key = 'Zendesk-support-apis.yaml'\n",
    "# # Upload the file using put_object and read response\n",
    "# try:\n",
    "#     with open(file_path, 'rb') as file_data:\n",
    "#         response = s3_client.put_object(Bucket=bucket_name, Key=object_key, Body=file_data)\n",
    "\n",
    "#     # Construct the ARN of the uploaded object with account ID and region\n",
    "#     openapi_s3_uri = f's3://{bucket_name}/{object_key}'\n",
    "#     print(f'Uploaded object S3 URI: {openapi_s3_uri}')\n",
    "# except Exception as e:\n",
    "#     print(f'Error uploading file: {e}')"
   ]
  },
  {
   "cell_type": "code",
   "execution_count": null,
   "metadata": {},
   "outputs": [
    {
     "name": "stdout",
     "output_type": "stream",
     "text": [
      "Testing imports...\n",
      "✓ boto3 imported\n",
      "Testing session...\n",
      "✓ Session created\n",
      "Testing credentials...\n",
      "✓ Credentials found\n",
      "Testing STS...\n",
      "✓ Account: 165361166149\n",
      "All tests passed!\n"
     ]
    }
   ],
   "source": [
    "# # Test 1: Basic imports\n",
    "# print(\"Testing imports...\")\n",
    "# import boto3\n",
    "# print(\"✓ boto3 imported\")\n",
    "\n",
    "# # Test 2: Session creation\n",
    "# print(\"Testing session...\")\n",
    "# session = boto3.Session()\n",
    "# print(\"✓ Session created\")\n",
    "\n",
    "# # Test 3: Credentials check\n",
    "# print(\"Testing credentials...\")\n",
    "# creds = session.get_credentials()\n",
    "# if creds:\n",
    "#     print(\"✓ Credentials found\")\n",
    "# else:\n",
    "#     print(\"✗ No credentials\")\n",
    "#     exit()\n",
    "\n",
    "# # Test 4: STS call with timeout\n",
    "# print(\"Testing STS...\")\n",
    "# try:\n",
    "#     sts_client = session.client('sts')\n",
    "#     account_id = sts_client.get_caller_identity()[\"Account\"]\n",
    "#     print(f\"✓ Account: {account_id}\")\n",
    "# except Exception as e:\n",
    "#     print(f\"✗ STS failed: {e}\")\n",
    "#     exit()\n",
    "\n",
    "# print(\"All tests passed!\")\n"
   ]
  },
  {
   "cell_type": "markdown",
   "id": "97a69766",
   "metadata": {},
   "source": [
    "### Create outbound auth credentials provider"
   ]
  },
  {
   "cell_type": "code",
   "execution_count": 50,
   "id": "b8078fbc",
   "metadata": {},
   "outputs": [
    {
     "name": "stdout",
     "output_type": "stream",
     "text": [
      "Credential provider 'ZendeskOAuthTokenCfg' already exists\n",
      "Egress Credentials provider ARN: arn:aws:bedrock-agentcore:us-east-1:165361166149:token-vault/default/oauth2credentialprovider/ZendeskOAuthTokenCfg\n",
      "{'ResponseMetadata': {'HTTPHeaders': {'connection': 'keep-alive',\n",
      "                                      'content-length': '848',\n",
      "                                      'content-type': 'application/json',\n",
      "                                      'date': 'Thu, 16 Oct 2025 17:03:50 GMT',\n",
      "                                      'x-amz-apigw-id': 'SjLKeH16oAMEnVw=',\n",
      "                                      'x-amzn-remapped-connection': 'keep-alive',\n",
      "                                      'x-amzn-remapped-content-length': '848',\n",
      "                                      'x-amzn-remapped-date': 'Thu, 16 Oct '\n",
      "                                                              '2025 17:03:50 '\n",
      "                                                              'GMT',\n",
      "                                      'x-amzn-remapped-x-amzn-requestid': 'a38038b5-8427-441b-808e-ce0ec9cbaea0',\n",
      "                                      'x-amzn-requestid': 'f2033743-1761-4754-ab31-3c1f9631a535',\n",
      "                                      'x-amzn-trace-id': 'Root=1-68f12575-20978be051d8a61f51fd838b'},\n",
      "                      'HTTPStatusCode': 201,\n",
      "                      'RequestId': 'f2033743-1761-4754-ab31-3c1f9631a535',\n",
      "                      'RetryAttempts': 0},\n",
      " 'callbackUrl': 'https://bedrock-agentcore.us-east-1.amazonaws.com/identities/oauth2/callback/4b312db6-5c96-4c46-990c-a78a60ab9b3a',\n",
      " 'clientSecretArn': {'secretArn': 'arn:aws:secretsmanager:us-east-1:165361166149:secret:bedrock-agentcore-identity!default/oauth2/ZendeskOAuthTokenCfg-OSAjGE'},\n",
      " 'credentialProviderArn': 'arn:aws:bedrock-agentcore:us-east-1:165361166149:token-vault/default/oauth2credentialprovider/ZendeskOAuthTokenCfg',\n",
      " 'name': 'ZendeskOAuthTokenCfg',\n",
      " 'oauth2ProviderConfigOutput': {'customOauth2ProviderConfig': {'clientId': 'YOUR-CLIENT_ID',\n",
      "                                                               'oauthDiscovery': {'authorizationServerMetadata': {'authorizationEndpoint': 'https://example.zendesk.com/oauth/authorizations/new',\n",
      "                                                                                                                  'issuer': 'https://example.zendesk.com/oauth/tokens',\n",
      "                                                                                                                  'responseTypes': ['token'],\n",
      "                                                                                                                  'tokenEndpoint': 'https://example.zendesk.com/oauth/tokens'}}}}}\n",
      "('Egress Credentials provider ARN, '\n",
      " 'arn:aws:bedrock-agentcore:us-east-1:165361166149:token-vault/default/oauth2credentialprovider/ZendeskOAuthTokenCfg')\n"
     ]
    }
   ],
   "source": [
    "from botocore.config import Config\n",
    "from botocore.exceptions import ClientError\n",
    "from pprint import pprint\n",
    "ZENDESK_DOMAIN=\"<Zendek domain url>\"\n",
    "# ZENDESK_AUTH_ENDPOINT=\"https://<Zendeskl-domain>/oauth/authorizations/new\"\n",
    "# ZENDESK_TOKEN_ENDPOINT=\"https://<Zendesk-domain>/oauth/tokens\"\n",
    "ZENDESK_AUTH_ENDPOINT=\"https://example.zendesk.com/oauth/authorizations/new\"\n",
    "ZENDESK_TOKEN_ENDPOINT=\"https://example.zendesk.com/oauth/tokens\"\n",
    "ZENDESK_OAUTH_ISSUER=\"https://example.zendesk.com/oauth/tokens\"\n",
    "ZENDESK_CLIENT_ID=\"YOUR-CLIENT_ID\" # Your Zendesk OAuth client -  client id \n",
    "ZENDESK_SECRET=\"YOUR-CLIENT_ID\"  # Your Zendesk OAuth client -  client id \n",
    "\n",
    "sdk_config = Config(\n",
    "    region_name=os.environ['AWS_DEFAULT_REGION'],\n",
    "    retries={\"max_attempts\": 2, \"mode\": \"standard\"},\n",
    ")\n",
    "\n",
    "acps = boto3.client(\n",
    "    service_name=\"bedrock-agentcore-control\",\n",
    "    config=sdk_config,\n",
    ")\n",
    "\n",
    "provider_config= {\n",
    "    \"customOauth2ProviderConfig\": {\n",
    "         \"oauthDiscovery\": {\n",
    "             \"authorizationServerMetadata\": {\n",
    "                 \"issuer\": ZENDESK_DOMAIN,\n",
    "                 \"authorizationEndpoint\": ZENDESK_AUTH_ENDPOINT,\n",
    "                 \"tokenEndpoint\": ZENDESK_TOKEN_ENDPOINT,\n",
    "                 \"issuer\": ZENDESK_OAUTH_ISSUER,  # Add this\n",
    "                 \"responseTypes\": [\"token\"]\n",
    "             }\n",
    "         },\n",
    "         \"clientId\": ZENDESK_CLIENT_ID,\n",
    "         \"clientSecret\": ZENDESK_SECRET\n",
    "     }\n",
    " }\n",
    "\n",
    "# response = acps.create_oauth2_credential_provider(\n",
    "#     name=\"ZendeskOAuthTokenCfg\", \n",
    "#     credentialProviderVendor=\"CustomOauth2\", \n",
    "#     oauth2ProviderConfigInput=provider_config\n",
    "# )\n",
    "\n",
    "\n",
    "try:\n",
    "    response = acps.create_oauth2_credential_provider(\n",
    "        name=\"ZendeskOAuthTokenCfg\", \n",
    "        credentialProviderVendor=\"CustomOauth2\", \n",
    "        oauth2ProviderConfigInput=provider_config\n",
    "    )\n",
    "    print(\"Created new credential provider\")\n",
    "    print(json.dumps(response, indent=2, default=str))\n",
    "    credentialProviderARN = response['credentialProviderArn']\n",
    "    \n",
    "except ClientError as e:\n",
    "    if 'already exists' in str(e):\n",
    "        print(\"Credential provider 'ZendeskOAuthTokenCfg' already exists\")\n",
    "        # Get existing provider ARN\n",
    "        providers = acps.list_oauth2_credential_providers()\n",
    "        for provider in providers.get('credentialProviders', []):\n",
    "            if provider['name'] == 'ZendeskOAuthTokenCfg':\n",
    "                credentialProviderARN = provider['credentialProviderArn']\n",
    "                break\n",
    "    else:\n",
    "        raise\n",
    "\n",
    "print(f\"Egress Credentials provider ARN: {credentialProviderARN}\")\n",
    "\n",
    "\n",
    "pprint(response)\n",
    "credentialProviderARN = response['credentialProviderArn']\n",
    "pprint(f\"Egress Credentials provider ARN, {credentialProviderARN}\")"
   ]
  },
  {
   "cell_type": "markdown",
   "id": "257f2a0a",
   "metadata": {},
   "source": [
    "Create an OpenAPI Target"
   ]
  },
  {
   "cell_type": "code",
   "execution_count": 51,
   "metadata": {},
   "outputs": [
    {
     "name": "stdout",
     "output_type": "stream",
     "text": [
      "Success: s3://agentcore-gateway-165361166149-us-east-1/Zendesk-support-apis.yaml\n"
     ]
    }
   ],
   "source": [
    "import boto3\n",
    "from botocore.exceptions import ClientError, NoCredentialsError\n",
    "import os\n",
    "\n",
    "try:\n",
    "    # Check credentials\n",
    "    session = boto3.Session()\n",
    "    if not session.get_credentials():\n",
    "        raise NoCredentialsError()\n",
    "    \n",
    "    s3_client = session.client('s3')\n",
    "    sts_client = session.client('sts')\n",
    "    \n",
    "    # Get account info\n",
    "    account_id = sts_client.get_caller_identity()[\"Account\"]\n",
    "    region = session.region_name\n",
    "    bucket_name = f'agentcore-gateway-{account_id}-{region}'\n",
    "    \n",
    "    # Check file exists\n",
    "    file_path = 'openapi-specs/Zendesk-support-apis.yaml'\n",
    "    if not os.path.exists(file_path):\n",
    "        raise FileNotFoundError(f\"File not found: {file_path}\")\n",
    "    \n",
    "    # Create bucket if needed\n",
    "    try:\n",
    "        s3_client.head_bucket(Bucket=bucket_name)\n",
    "    except ClientError as e:\n",
    "        if e.response['Error']['Code'] == '404':\n",
    "            if region == 'us-east-1':\n",
    "                s3_client.create_bucket(Bucket=bucket_name)\n",
    "            else:\n",
    "                s3_client.create_bucket(\n",
    "                    Bucket=bucket_name,\n",
    "                    CreateBucketConfiguration={'LocationConstraint': region}\n",
    "                )\n",
    "        else:\n",
    "            raise\n",
    "    \n",
    "    # Upload file\n",
    "    with open(file_path, 'rb') as file_data:\n",
    "        s3_client.put_object(Bucket=bucket_name, Key='Zendesk-support-apis.yaml', Body=file_data)\n",
    "    \n",
    "    openapi_s3_uri = f's3://{bucket_name}/Zendesk-support-apis.yaml'\n",
    "    print(f'Success: {openapi_s3_uri}')\n",
    "\n",
    "except NoCredentialsError:\n",
    "    print(\"Error: AWS credentials not found\")\n",
    "except FileNotFoundError as e:\n",
    "    print(f\"Error: {e}\")\n",
    "except ClientError as e:\n",
    "    error_code = e.response['Error']['Code']\n",
    "    if error_code == 'AccessDenied':\n",
    "        print(\"Error: Insufficient S3 permissions\")\n",
    "    elif error_code == 'BucketAlreadyExists':\n",
    "        print(\"Error: Bucket name already taken\")\n",
    "    else:\n",
    "        print(f\"AWS Error: {error_code}\")\n",
    "except Exception as e:\n",
    "    print(f\"Unexpected error: {e}\")\n"
   ]
  },
  {
   "cell_type": "markdown",
   "id": "6f8def3a",
   "metadata": {},
   "source": [
    "IMPORTANT: Make sure server URL in the OpenAPI file is pointing to your own endpoint URL. Gateway reads the server URL from the OpenAPI file and calls the endpoint. Before uploading it to s3, please make sure you do this change."
   ]
  },
  {
   "cell_type": "code",
   "execution_count": 54,
   "id": "6520e76b",
   "metadata": {},
   "outputs": [],
   "source": [
    "gateway_client = boto3.client('bedrock-agentcore-control', region_name = os.environ['AWS_DEFAULT_REGION'])\n",
    "\n",
    "# S3 Uri for OpenAPI spec file\n",
    "openapi_s3_target_config = {\n",
    "    \"mcp\": {\n",
    "          \"openApiSchema\": {\n",
    "              \"s3\": {\n",
    "                  \"uri\": openapi_s3_uri\n",
    "              }\n",
    "          }\n",
    "      }\n",
    "}\n",
    "\n",
    "credential_config = [\n",
    "    {\n",
    "        \"credentialProviderType\" : \"OAUTH\",\n",
    "        \"credentialProvider\": {\n",
    "            \"oauthCredentialProvider\": {\n",
    "                \"providerArn\": credentialProviderARN, \n",
    "                \"scopes\": [\"tickets:read\", \"read\", \"tickets:write\", \"write\"] \n",
    "            }\n",
    "        }\n",
    "    }\n",
    "  ]\n",
    "\n",
    "target_name=\"DemoOpenAPIGW\"\n",
    "response = gateway_client.create_gateway_target(\n",
    "    gatewayIdentifier=gatewayId,\n",
    "    name=target_name,\n",
    "    description='OpenAPI Target with S3Uri using SDK',\n",
    "    targetConfiguration=openapi_s3_target_config,\n",
    "    credentialProviderConfigurations=credential_config)\n",
    "\n",
    "# Printing the request ID and timestamp for you to report the defects. Please include them while reporting issues/defects  \n",
    "response_metadata = response['ResponseMetadata']"
   ]
  },
  {
   "cell_type": "markdown",
   "id": "c2e2ff11",
   "metadata": {},
   "source": [
    "### Target 3: Add OpenAPI Target w/ API-Key"
   ]
  },
  {
   "cell_type": "markdown",
   "id": "790ee4a4",
   "metadata": {},
   "source": [
    "#### Upload the NASA Open API json file in S3"
   ]
  },
  {
   "cell_type": "code",
   "execution_count": 58,
   "id": "2f338c48",
   "metadata": {},
   "outputs": [
    {
     "name": "stdout",
     "output_type": "stream",
     "text": [
      "Uploaded object S3 URI: s3://agentcore-gateway-165361166149-us-east-1/nasa_mars_insights_openapi.json\n"
     ]
    }
   ],
   "source": [
    "# Create an S3 client\n",
    "session = boto3.session.Session()\n",
    "s3_client = session.client('s3')\n",
    "sts_client = session.client('sts')\n",
    "\n",
    "# Retrieve AWS account ID and region\n",
    "account_id = sts_client.get_caller_identity()[\"Account\"]\n",
    "region = session.region_name\n",
    "# Define parameters\n",
    "# Your s3 bucket to upload the OpenAPI json file.\n",
    "bucket_name = f'agentcore-gateway-{account_id}-{region}'\n",
    "file_path = 'openapi-specs/nasa_mars_insights_openapi.json'\n",
    "object_key = 'nasa_mars_insights_openapi.json'\n",
    "# Upload the file using put_object and read response\n",
    "try:\n",
    "    if region == \"us-east-1\":\n",
    "        s3bucket = s3_client.create_bucket(\n",
    "            Bucket=bucket_name\n",
    "        )\n",
    "    else:\n",
    "        s3bucket = s3_client.create_bucket(\n",
    "            Bucket=bucket_name,\n",
    "            CreateBucketConfiguration={\n",
    "                'LocationConstraint': region\n",
    "            }\n",
    "        )\n",
    "    with open(file_path, 'rb') as file_data:\n",
    "        response = s3_client.put_object(\n",
    "            Bucket=bucket_name,\n",
    "            Key=object_key,\n",
    "            Body=file_data\n",
    "        )\n",
    "\n",
    "    # Construct the ARN of the uploaded object with account ID and region\n",
    "    openapi_s3_uri = f's3://{bucket_name}/{object_key}'\n",
    "    print(f'Uploaded object S3 URI: {openapi_s3_uri}')\n",
    "except Exception as e:\n",
    "    print(f'Error uploading file: {e}')"
   ]
  },
  {
   "cell_type": "markdown",
   "id": "adc46106",
   "metadata": {},
   "source": [
    "#### Configure outbound auth and add gateway target"
   ]
  },
  {
   "cell_type": "code",
   "execution_count": 59,
   "id": "cede9db7",
   "metadata": {},
   "outputs": [],
   "source": [
    "# S3 Uri for OpenAPI spec file\n",
    "nasa_openapi_s3_target_config = {\n",
    "    \"mcp\": {\n",
    "          \"openApiSchema\": {\n",
    "              \"s3\": {\n",
    "                  \"uri\": openapi_s3_uri\n",
    "              }\n",
    "          }\n",
    "      }\n",
    "}\n",
    "\n",
    "# API Key credentials provider configuration\n",
    "api_key_credential_config = [\n",
    "    {\n",
    "        \"credentialProviderType\" : \"API_KEY\", \n",
    "        \"credentialProvider\": {\n",
    "            \"apiKeyCredentialProvider\": {\n",
    "                    \"credentialParameterName\": \"api_key\", # Replace this with the name of the api key name expected by the respective API provider. For passing token in the header, use \"Authorization\"\n",
    "                    \"providerArn\": credentialProviderARN,\n",
    "                    \"credentialLocation\":\"QUERY_PARAMETER\", # Location of api key. Possible values are \"HEADER\" and \"QUERY_PARAMETER\".\n",
    "                    #\"credentialPrefix\": \" \" # Prefix for the token. Valid values are \"Basic\". Applies only for tokens.\n",
    "            }\n",
    "        }\n",
    "    }\n",
    "  ]\n",
    "\n",
    "targetname='DemoOpenAPITargetS3NasaMars'\n",
    "response = gateway_client.create_gateway_target(\n",
    "    gatewayIdentifier=gatewayId,\n",
    "    name=targetname,\n",
    "    description='OpenAPI Target with API-Key',\n",
    "    targetConfiguration=nasa_openapi_s3_target_config,\n",
    "    credentialProviderConfigurations=api_key_credential_config)"
   ]
  },
  {
   "cell_type": "markdown",
   "id": "039e33f8",
   "metadata": {},
   "source": [
    "### Target 4: Add OpenAPI Target w/ yaml spec - Octank Financials"
   ]
  },
  {
   "cell_type": "code",
   "execution_count": 61,
   "id": "e4c7b961",
   "metadata": {},
   "outputs": [
    {
     "name": "stdout",
     "output_type": "stream",
     "text": [
      "Created new Octank credential provider\n",
      "{\n",
      "  \"ResponseMetadata\": {\n",
      "    \"RequestId\": \"2e03f582-95ba-4b8c-a8a7-aa9299f50c59\",\n",
      "    \"HTTPStatusCode\": 201,\n",
      "    \"HTTPHeaders\": {\n",
      "      \"date\": \"Thu, 16 Oct 2025 18:31:36 GMT\",\n",
      "      \"content-type\": \"application/json\",\n",
      "      \"content-length\": \"842\",\n",
      "      \"connection\": \"keep-alive\",\n",
      "      \"x-amzn-requestid\": \"2e03f582-95ba-4b8c-a8a7-aa9299f50c59\",\n",
      "      \"x-amzn-remapped-x-amzn-requestid\": \"cb65c2fb-f7cc-4de7-a362-9df8035d7be8\",\n",
      "      \"x-amzn-remapped-content-length\": \"842\",\n",
      "      \"x-amzn-remapped-connection\": \"keep-alive\",\n",
      "      \"x-amz-apigw-id\": \"SjYBXEU7IAMEBgA=\",\n",
      "      \"x-amzn-trace-id\": \"Root=1-68f13a08-3b36c97e7cc3e2b32c456693\",\n",
      "      \"x-amzn-remapped-date\": \"Thu, 16 Oct 2025 18:31:36 GMT\"\n",
      "    },\n",
      "    \"RetryAttempts\": 0\n",
      "  },\n",
      "  \"clientSecretArn\": {\n",
      "    \"secretArn\": \"arn:aws:secretsmanager:us-east-1:165361166149:secret:bedrock-agentcore-identity!default/oauth2/OctankOAuthTokenCfg-8ygBIj\"\n",
      "  },\n",
      "  \"name\": \"OctankOAuthTokenCfg\",\n",
      "  \"credentialProviderArn\": \"arn:aws:bedrock-agentcore:us-east-1:165361166149:token-vault/default/oauth2credentialprovider/OctankOAuthTokenCfg\",\n",
      "  \"callbackUrl\": \"https://bedrock-agentcore.us-east-1.amazonaws.com/identities/oauth2/callback/a544efb0-8a86-46e8-9af1-ecdfad249f41\",\n",
      "  \"oauth2ProviderConfigOutput\": {\n",
      "    \"customOauth2ProviderConfig\": {\n",
      "      \"oauthDiscovery\": {\n",
      "        \"authorizationServerMetadata\": {\n",
      "          \"issuer\": \"https://example.octank.com/oauth/tokens\",\n",
      "          \"authorizationEndpoint\": \"https://example.octank.com/oauth/authorizations/new\",\n",
      "          \"tokenEndpoint\": \"https://example.octank.com/oauth/tokens\",\n",
      "          \"responseTypes\": [\n",
      "            \"token\"\n",
      "          ]\n",
      "        }\n",
      "      },\n",
      "      \"clientId\": \"YOUR-CLIENT_ID\"\n",
      "    }\n",
      "  }\n",
      "}\n",
      "Egress Credentials provider ARN: arn:aws:bedrock-agentcore:us-east-1:165361166149:token-vault/default/oauth2credentialprovider/OctankOAuthTokenCfg\n",
      "{'ResponseMetadata': {'HTTPHeaders': {'connection': 'keep-alive',\n",
      "                                      'content-length': '842',\n",
      "                                      'content-type': 'application/json',\n",
      "                                      'date': 'Thu, 16 Oct 2025 18:31:36 GMT',\n",
      "                                      'x-amz-apigw-id': 'SjYBXEU7IAMEBgA=',\n",
      "                                      'x-amzn-remapped-connection': 'keep-alive',\n",
      "                                      'x-amzn-remapped-content-length': '842',\n",
      "                                      'x-amzn-remapped-date': 'Thu, 16 Oct '\n",
      "                                                              '2025 18:31:36 '\n",
      "                                                              'GMT',\n",
      "                                      'x-amzn-remapped-x-amzn-requestid': 'cb65c2fb-f7cc-4de7-a362-9df8035d7be8',\n",
      "                                      'x-amzn-requestid': '2e03f582-95ba-4b8c-a8a7-aa9299f50c59',\n",
      "                                      'x-amzn-trace-id': 'Root=1-68f13a08-3b36c97e7cc3e2b32c456693'},\n",
      "                      'HTTPStatusCode': 201,\n",
      "                      'RequestId': '2e03f582-95ba-4b8c-a8a7-aa9299f50c59',\n",
      "                      'RetryAttempts': 0},\n",
      " 'callbackUrl': 'https://bedrock-agentcore.us-east-1.amazonaws.com/identities/oauth2/callback/a544efb0-8a86-46e8-9af1-ecdfad249f41',\n",
      " 'clientSecretArn': {'secretArn': 'arn:aws:secretsmanager:us-east-1:165361166149:secret:bedrock-agentcore-identity!default/oauth2/OctankOAuthTokenCfg-8ygBIj'},\n",
      " 'credentialProviderArn': 'arn:aws:bedrock-agentcore:us-east-1:165361166149:token-vault/default/oauth2credentialprovider/OctankOAuthTokenCfg',\n",
      " 'name': 'OctankOAuthTokenCfg',\n",
      " 'oauth2ProviderConfigOutput': {'customOauth2ProviderConfig': {'clientId': 'YOUR-CLIENT_ID',\n",
      "                                                               'oauthDiscovery': {'authorizationServerMetadata': {'authorizationEndpoint': 'https://example.octank.com/oauth/authorizations/new',\n",
      "                                                                                                                  'issuer': 'https://example.octank.com/oauth/tokens',\n",
      "                                                                                                                  'responseTypes': ['token'],\n",
      "                                                                                                                  'tokenEndpoint': 'https://example.octank.com/oauth/tokens'}}}}}\n",
      "('Egress Credentials provider ARN, '\n",
      " 'arn:aws:bedrock-agentcore:us-east-1:165361166149:token-vault/default/oauth2credentialprovider/OctankOAuthTokenCfg')\n"
     ]
    }
   ],
   "source": [
    "from botocore.config import Config\n",
    "from botocore.exceptions import ClientError\n",
    "from pprint import pprint\n",
    "OCTANK_DOMAIN=\"<Octank domain url>\"\n",
    "\n",
    "OCTANK_AUTH_ENDPOINT=\"https://example.octank.com/oauth/authorizations/new\"\n",
    "OCTANK_TOKEN_ENDPOINT=\"https://example.octank.com/oauth/tokens\"\n",
    "OCTANK_OAUTH_ISSUER=\"https://example.octank.com/oauth/tokens\"\n",
    "OCTANK_CLIENT_ID=\"YOUR-CLIENT_ID\" # Your octank OAuth client -  client id \n",
    "OCTANK_SECRET=\"YOUR-CLIENT_ID\"  # Your octank OAuth client -  client id \n",
    "\n",
    "sdk_config = Config(\n",
    "    region_name=os.environ['AWS_DEFAULT_REGION'],\n",
    "    retries={\"max_attempts\": 2, \"mode\": \"standard\"},\n",
    ")\n",
    "\n",
    "acps = boto3.client(\n",
    "    service_name=\"bedrock-agentcore-control\",\n",
    "    config=sdk_config,\n",
    ")\n",
    "\n",
    "provider_config= {\n",
    "    \"customOauth2ProviderConfig\": {\n",
    "         \"oauthDiscovery\": {\n",
    "             \"authorizationServerMetadata\": {\n",
    "                 \"issuer\": OCTANK_DOMAIN,\n",
    "                 \"authorizationEndpoint\": OCTANK_AUTH_ENDPOINT,\n",
    "                 \"tokenEndpoint\": OCTANK_TOKEN_ENDPOINT,\n",
    "                 \"issuer\": OCTANK_OAUTH_ISSUER, \n",
    "                 \"responseTypes\": [\"token\"]\n",
    "             }\n",
    "         },\n",
    "         \"clientId\": OCTANK_CLIENT_ID,\n",
    "         \"clientSecret\": OCTANK_SECRET\n",
    "     }\n",
    " }\n",
    "\n",
    "try:\n",
    "    response = acps.create_oauth2_credential_provider(\n",
    "        name=\"OctankOAuthTokenCfg\", \n",
    "        credentialProviderVendor=\"CustomOauth2\", \n",
    "        oauth2ProviderConfigInput=provider_config\n",
    "    )\n",
    "    print(\"Created new Octank credential provider\")\n",
    "    print(json.dumps(response, indent=2, default=str))\n",
    "    credentialProviderARN = response['credentialProviderArn']\n",
    "    \n",
    "except ClientError as e:\n",
    "    if 'already exists' in str(e):\n",
    "        print(\"Credential provider 'OctankOAuthTokenCfg' already exists\")\n",
    "        # Get existing provider ARN\n",
    "        providers = acps.list_oauth2_credential_providers()\n",
    "        for provider in providers.get('credentialProviders', []):\n",
    "            if provider['name'] == 'OctankOAuthTokenCfg':\n",
    "                credentialProviderARN = provider['credentialProviderArn']\n",
    "                break\n",
    "    else:\n",
    "        raise\n",
    "\n",
    "print(f\"Egress Credentials provider ARN: {credentialProviderARN}\")\n",
    "\n",
    "\n",
    "pprint(response)\n",
    "credentialProviderARN = response['credentialProviderArn']\n",
    "pprint(f\"Egress Credentials provider ARN, {credentialProviderARN}\")"
   ]
  },
  {
   "cell_type": "markdown",
   "id": "bf8c47f6",
   "metadata": {},
   "source": [
    "Create an OpenAPI Target"
   ]
  },
  {
   "cell_type": "code",
   "execution_count": 62,
   "id": "abaecb42",
   "metadata": {},
   "outputs": [
    {
     "name": "stdout",
     "output_type": "stream",
     "text": [
      "Success: s3://agentcore-gateway-165361166149-us-east-1/octank-financials-apis.yaml\n"
     ]
    }
   ],
   "source": [
    "import boto3\n",
    "from botocore.exceptions import ClientError, NoCredentialsError\n",
    "import os\n",
    "\n",
    "try:\n",
    "    # Check credentials\n",
    "    session = boto3.Session()\n",
    "    if not session.get_credentials():\n",
    "        raise NoCredentialsError()\n",
    "    \n",
    "    s3_client = session.client('s3')\n",
    "    sts_client = session.client('sts')\n",
    "    \n",
    "    # Get account info\n",
    "    account_id = sts_client.get_caller_identity()[\"Account\"]\n",
    "    region = session.region_name\n",
    "    bucket_name = f'agentcore-gateway-{account_id}-{region}'\n",
    "    \n",
    "    # Check file exists\n",
    "    file_path = 'openapi-specs/octank-financials-apis.yaml'\n",
    "    if not os.path.exists(file_path):\n",
    "        raise FileNotFoundError(f\"File not found: {file_path}\")\n",
    "    \n",
    "    # Create bucket if needed\n",
    "    try:\n",
    "        s3_client.head_bucket(Bucket=bucket_name)\n",
    "    except ClientError as e:\n",
    "        if e.response['Error']['Code'] == '404':\n",
    "            if region == 'us-east-1':\n",
    "                s3_client.create_bucket(Bucket=bucket_name)\n",
    "            else:\n",
    "                s3_client.create_bucket(\n",
    "                    Bucket=bucket_name,\n",
    "                    CreateBucketConfiguration={'LocationConstraint': region}\n",
    "                )\n",
    "        else:\n",
    "            raise\n",
    "    \n",
    "    # Upload file\n",
    "    with open(file_path, 'rb') as file_data:\n",
    "        s3_client.put_object(Bucket=bucket_name, Key='octank-financials-apis.yaml', Body=file_data)\n",
    "    \n",
    "    openapi_s3_uri = f's3://{bucket_name}/octank-financials-apis.yaml'\n",
    "    print(f'Success: {openapi_s3_uri}')\n",
    "\n",
    "except NoCredentialsError:\n",
    "    print(\"Error: AWS credentials not found\")\n",
    "except FileNotFoundError as e:\n",
    "    print(f\"Error: {e}\")\n",
    "except ClientError as e:\n",
    "    error_code = e.response['Error']['Code']\n",
    "    if error_code == 'AccessDenied':\n",
    "        print(\"Error: Insufficient S3 permissions\")\n",
    "    elif error_code == 'BucketAlreadyExists':\n",
    "        print(\"Error: Bucket name already taken\")\n",
    "    else:\n",
    "        print(f\"AWS Error: {error_code}\")\n",
    "except Exception as e:\n",
    "    print(f\"Unexpected error: {e}\")\n"
   ]
  },
  {
   "cell_type": "markdown",
   "id": "41464ff7",
   "metadata": {},
   "source": [
    "IMPORTANT: Make sure server URL in the OpenAPI file is pointing to your own endpoint URL. Gateway reads the server URL from the OpenAPI file and calls the endpoint. Before uploading it to s3, please make sure you do this change."
   ]
  },
  {
   "cell_type": "code",
   "execution_count": null,
   "id": "c1ee8d9b",
   "metadata": {},
   "outputs": [
    {
     "name": "stdout",
     "output_type": "stream",
     "text": [
      "Waiting 30 seconds for target creation...\n",
      "Error: name 'status_response' is not defined\n"
     ]
    }
   ],
   "source": [
    "gateway_client = boto3.client('bedrock-agentcore-control', region_name = os.environ['AWS_DEFAULT_REGION'])\n",
    "\n",
    "# S3 Uri for OpenAPI spec file\n",
    "openapi_s3_target_config = {\n",
    "    \"mcp\": {\n",
    "          \"openApiSchema\": {\n",
    "              \"s3\": {\n",
    "                  \"uri\": openapi_s3_uri\n",
    "              }\n",
    "          }\n",
    "      }\n",
    "}\n",
    "\n",
    "# credential_config = [\n",
    "#     {\n",
    "#         \"credentialProviderType\" : \"OAUTH\",\n",
    "#         \"credentialProvider\": {\n",
    "#             \"oauthCredentialProvider\": {\n",
    "#                 \"providerArn\": credentialProviderARN, \n",
    "#                 \"scopes\": [\"tickets:read\", \"read\", \"tickets:write\", \"write\"] \n",
    "#             }\n",
    "#         }\n",
    "#     }\n",
    "#   ]\n",
    "\n",
    "credential_config = [\n",
    "    {\n",
    "        \"credentialProviderType\" : \"OAUTH\",\n",
    "        \"credentialProvider\": {\n",
    "            \"oauthCredentialProvider\": {\n",
    "                \"providerArn\": credentialProviderARN,\n",
    "                \"scopes\": [\"read\", \"write\"] \n",
    "            }\n",
    "        }\n",
    "    }\n",
    "  ]\n",
    "\n",
    "\n",
    "# target_name=\"OctankFinancialsOpenAPIGW\"\n",
    "# response = gateway_client.create_gateway_target(\n",
    "#     gatewayIdentifier=gatewayId,\n",
    "#     name=target_name,\n",
    "#     description='OpenAPI Target for Octank Financials',\n",
    "#     targetConfiguration=openapi_s3_target_config,\n",
    "#     credentialProviderConfigurations=credential_config)\n",
    "\n",
    "target_name = \"OctankFinancialsOpenAPIGW\"\n",
    "\n",
    "# Check if target already exists\n",
    "try:\n",
    "    targets_response = gateway_client.list_gateway_targets(gatewayIdentifier=gatewayId)\n",
    "    targets_list = targets_response.get('items', [])\n",
    "    existing_target = next((t for t in targets_list if t['name'] == target_name), None)\n",
    "    \n",
    "    if existing_target:\n",
    "        target_id = existing_target['targetId']\n",
    "        status = existing_target.get('status', 'Unknown')\n",
    "        print(f\"Target already exists - ID: {target_id}, Name: {existing_target['name']}, Status: {status}\")\n",
    "    else:\n",
    "        # Create new target\n",
    "        response = gateway_client.create_gateway_target(\n",
    "            gatewayIdentifier=gatewayId,\n",
    "            name=target_name,\n",
    "            description='OpenAPI Target for Octank Financials',\n",
    "            targetConfiguration=openapi_s3_target_config,\n",
    "            credentialProviderConfigurations=credential_config)\n",
    "        \n",
    "        time.sleep(30)\n",
    "        \n",
    "               \n",
    "        # Wait for target creation\n",
    "        print(\"Waiting 30 seconds for target creation...\")\n",
    "        # Check status after creation\n",
    "        status = status_response.get('status', 'Unknown')\n",
    "        target_id = response['targetId']\n",
    "        status_response = gateway_client.get_gateway_target(\n",
    "            gatewayIdentifier=gatewayId,\n",
    "            targetId=target_id)\n",
    "        print(f\"Created new target - ID: {target_id}, Name: {existing_target['name']}, Status: {status}\")\n",
    "        \n",
    "except Exception as e:\n",
    "    print(f\"Error: {e}\")\n"
   ]
  },
  {
   "cell_type": "code",
   "execution_count": null,
   "id": "566f1154",
   "metadata": {},
   "outputs": [
    {
     "ename": "ValidationException",
     "evalue": "An error occurred (ValidationException) when calling the GetGatewayTarget operation: 1 validation error detected: Value 'OctankFinancialsOpenAPIGW' at 'targetId' failed to satisfy constraint: Member must satisfy regular expression pattern: [0-9a-zA-Z]{10}",
     "output_type": "error",
     "traceback": [
      "\u001b[31m---------------------------------------------------------------------------\u001b[39m",
      "\u001b[31mValidationException\u001b[39m                       Traceback (most recent call last)",
      "\u001b[36mCell\u001b[39m\u001b[36m \u001b[39m\u001b[32mIn[73]\u001b[39m\u001b[32m, line 3\u001b[39m\n\u001b[32m      1\u001b[39m target_name=\u001b[33m\"\u001b[39m\u001b[33mOctankFinancialsOpenAPIGW\u001b[39m\u001b[33m\"\u001b[39m\n\u001b[32m----> \u001b[39m\u001b[32m3\u001b[39m response = \u001b[43mgateway_client\u001b[49m\u001b[43m.\u001b[49m\u001b[43mget_gateway_target\u001b[49m\u001b[43m(\u001b[49m\n\u001b[32m      4\u001b[39m \u001b[43m    \u001b[49m\u001b[43mgatewayIdentifier\u001b[49m\u001b[43m=\u001b[49m\u001b[43mgatewayId\u001b[49m\u001b[43m,\u001b[49m\n\u001b[32m      5\u001b[39m \u001b[43m    \u001b[49m\u001b[43mtargetId\u001b[49m\u001b[43m=\u001b[49m\u001b[43mtarget_name\u001b[49m\n\u001b[32m      6\u001b[39m \u001b[43m)\u001b[49m\n\u001b[32m      8\u001b[39m \u001b[38;5;28mprint\u001b[39m(\u001b[33mf\u001b[39m\u001b[33m\"\u001b[39m\u001b[33mTarget Status: \u001b[39m\u001b[38;5;132;01m{\u001b[39;00mresponse[\u001b[33m'\u001b[39m\u001b[33mstatus\u001b[39m\u001b[33m'\u001b[39m]\u001b[38;5;132;01m}\u001b[39;00m\u001b[33m\"\u001b[39m)\n\u001b[32m      9\u001b[39m \u001b[38;5;28mprint\u001b[39m(\u001b[33mf\u001b[39m\u001b[33m\"\u001b[39m\u001b[33mTarget State: \u001b[39m\u001b[38;5;132;01m{\u001b[39;00mresponse.get(\u001b[33m'\u001b[39m\u001b[33mtargetState\u001b[39m\u001b[33m'\u001b[39m,\u001b[38;5;250m \u001b[39m\u001b[33m'\u001b[39m\u001b[33mN/A\u001b[39m\u001b[33m'\u001b[39m)\u001b[38;5;132;01m}\u001b[39;00m\u001b[33m\"\u001b[39m)\n",
      "\u001b[36mFile \u001b[39m\u001b[32m~/projects/agents_hub/AgentCore/ac3-forked/amazon-bedrock-agentcore-samples/.venv/lib/python3.12/site-packages/botocore/client.py:602\u001b[39m, in \u001b[36mClientCreator._create_api_method.<locals>._api_call\u001b[39m\u001b[34m(self, *args, **kwargs)\u001b[39m\n\u001b[32m    598\u001b[39m     \u001b[38;5;28;01mraise\u001b[39;00m \u001b[38;5;167;01mTypeError\u001b[39;00m(\n\u001b[32m    599\u001b[39m         \u001b[33mf\u001b[39m\u001b[33m\"\u001b[39m\u001b[38;5;132;01m{\u001b[39;00mpy_operation_name\u001b[38;5;132;01m}\u001b[39;00m\u001b[33m() only accepts keyword arguments.\u001b[39m\u001b[33m\"\u001b[39m\n\u001b[32m    600\u001b[39m     )\n\u001b[32m    601\u001b[39m \u001b[38;5;66;03m# The \"self\" in this scope is referring to the BaseClient.\u001b[39;00m\n\u001b[32m--> \u001b[39m\u001b[32m602\u001b[39m \u001b[38;5;28;01mreturn\u001b[39;00m \u001b[38;5;28;43mself\u001b[39;49m\u001b[43m.\u001b[49m\u001b[43m_make_api_call\u001b[49m\u001b[43m(\u001b[49m\u001b[43moperation_name\u001b[49m\u001b[43m,\u001b[49m\u001b[43m \u001b[49m\u001b[43mkwargs\u001b[49m\u001b[43m)\u001b[49m\n",
      "\u001b[36mFile \u001b[39m\u001b[32m~/projects/agents_hub/AgentCore/ac3-forked/amazon-bedrock-agentcore-samples/.venv/lib/python3.12/site-packages/botocore/context.py:123\u001b[39m, in \u001b[36mwith_current_context.<locals>.decorator.<locals>.wrapper\u001b[39m\u001b[34m(*args, **kwargs)\u001b[39m\n\u001b[32m    121\u001b[39m \u001b[38;5;28;01mif\u001b[39;00m hook:\n\u001b[32m    122\u001b[39m     hook()\n\u001b[32m--> \u001b[39m\u001b[32m123\u001b[39m \u001b[38;5;28;01mreturn\u001b[39;00m \u001b[43mfunc\u001b[49m\u001b[43m(\u001b[49m\u001b[43m*\u001b[49m\u001b[43margs\u001b[49m\u001b[43m,\u001b[49m\u001b[43m \u001b[49m\u001b[43m*\u001b[49m\u001b[43m*\u001b[49m\u001b[43mkwargs\u001b[49m\u001b[43m)\u001b[49m\n",
      "\u001b[36mFile \u001b[39m\u001b[32m~/projects/agents_hub/AgentCore/ac3-forked/amazon-bedrock-agentcore-samples/.venv/lib/python3.12/site-packages/botocore/client.py:1078\u001b[39m, in \u001b[36mBaseClient._make_api_call\u001b[39m\u001b[34m(self, operation_name, api_params)\u001b[39m\n\u001b[32m   1074\u001b[39m     error_code = request_context.get(\n\u001b[32m   1075\u001b[39m         \u001b[33m'\u001b[39m\u001b[33merror_code_override\u001b[39m\u001b[33m'\u001b[39m\n\u001b[32m   1076\u001b[39m     ) \u001b[38;5;129;01mor\u001b[39;00m error_info.get(\u001b[33m\"\u001b[39m\u001b[33mCode\u001b[39m\u001b[33m\"\u001b[39m)\n\u001b[32m   1077\u001b[39m     error_class = \u001b[38;5;28mself\u001b[39m.exceptions.from_code(error_code)\n\u001b[32m-> \u001b[39m\u001b[32m1078\u001b[39m     \u001b[38;5;28;01mraise\u001b[39;00m error_class(parsed_response, operation_name)\n\u001b[32m   1079\u001b[39m \u001b[38;5;28;01melse\u001b[39;00m:\n\u001b[32m   1080\u001b[39m     \u001b[38;5;28;01mreturn\u001b[39;00m parsed_response\n",
      "\u001b[31mValidationException\u001b[39m: An error occurred (ValidationException) when calling the GetGatewayTarget operation: 1 validation error detected: Value 'OctankFinancialsOpenAPIGW' at 'targetId' failed to satisfy constraint: Member must satisfy regular expression pattern: [0-9a-zA-Z]{10}"
     ]
    }
   ],
   "source": [
    "# From your create_gateway_target response\n",
    "target_id = response['targetId']  # This should be a 10-character ID like \"abc123def4\"\n",
    "\n",
    "# Then use it to get status\n",
    "response = agentcore_client.get_gateway_target(\n",
    "    gatewayIdentifier=gatewayId,\n",
    "    targetId=target_id\n",
    ")\n",
    "\n",
    "print(f\"Target Status: {response['status']}\")\n",
    "print(f\"Target State: {response.get('targetState', 'N/A')}\")\n"
   ]
  },
  {
   "cell_type": "code",
   "execution_count": null,
   "id": "a89e872a",
   "metadata": {},
   "outputs": [
    {
     "ename": "ParamValidationError",
     "evalue": "Parameter validation failed:\nMissing required parameter in input: \"targetId\"\nUnknown parameter in input: \"targetIdentifier\", must be one of: gatewayIdentifier, targetId",
     "output_type": "error",
     "traceback": [
      "\u001b[31m---------------------------------------------------------------------------\u001b[39m",
      "\u001b[31mParamValidationError\u001b[39m                      Traceback (most recent call last)",
      "\u001b[36mCell\u001b[39m\u001b[36m \u001b[39m\u001b[32mIn[70]\u001b[39m\u001b[32m, line 1\u001b[39m\n\u001b[32m----> \u001b[39m\u001b[32m1\u001b[39m response = \u001b[43mgateway_client\u001b[49m\u001b[43m.\u001b[49m\u001b[43mget_gateway_target\u001b[49m\u001b[43m(\u001b[49m\n\u001b[32m      2\u001b[39m \u001b[43m    \u001b[49m\u001b[43mgatewayIdentifier\u001b[49m\u001b[43m=\u001b[49m\u001b[43mgatewayId\u001b[49m\u001b[43m,\u001b[49m\n\u001b[32m      3\u001b[39m \u001b[43m    \u001b[49m\u001b[43mtargetIdentifier\u001b[49m\u001b[43m=\u001b[49m\u001b[43mtarget_name\u001b[49m\n\u001b[32m      4\u001b[39m \u001b[43m)\u001b[49m\n\u001b[32m      6\u001b[39m \u001b[38;5;28mprint\u001b[39m(\u001b[33mf\u001b[39m\u001b[33m\"\u001b[39m\u001b[33mTarget Status: \u001b[39m\u001b[38;5;132;01m{\u001b[39;00mresponse[\u001b[33m'\u001b[39m\u001b[33mstatus\u001b[39m\u001b[33m'\u001b[39m]\u001b[38;5;132;01m}\u001b[39;00m\u001b[33m\"\u001b[39m)\n\u001b[32m      7\u001b[39m \u001b[38;5;28mprint\u001b[39m(\u001b[33mf\u001b[39m\u001b[33m\"\u001b[39m\u001b[33mTarget State: \u001b[39m\u001b[38;5;132;01m{\u001b[39;00mresponse.get(\u001b[33m'\u001b[39m\u001b[33mtargetState\u001b[39m\u001b[33m'\u001b[39m,\u001b[38;5;250m \u001b[39m\u001b[33m'\u001b[39m\u001b[33mN/A\u001b[39m\u001b[33m'\u001b[39m)\u001b[38;5;132;01m}\u001b[39;00m\u001b[33m\"\u001b[39m)\n",
      "\u001b[36mFile \u001b[39m\u001b[32m~/projects/agents_hub/AgentCore/ac3-forked/amazon-bedrock-agentcore-samples/.venv/lib/python3.12/site-packages/botocore/client.py:602\u001b[39m, in \u001b[36mClientCreator._create_api_method.<locals>._api_call\u001b[39m\u001b[34m(self, *args, **kwargs)\u001b[39m\n\u001b[32m    598\u001b[39m     \u001b[38;5;28;01mraise\u001b[39;00m \u001b[38;5;167;01mTypeError\u001b[39;00m(\n\u001b[32m    599\u001b[39m         \u001b[33mf\u001b[39m\u001b[33m\"\u001b[39m\u001b[38;5;132;01m{\u001b[39;00mpy_operation_name\u001b[38;5;132;01m}\u001b[39;00m\u001b[33m() only accepts keyword arguments.\u001b[39m\u001b[33m\"\u001b[39m\n\u001b[32m    600\u001b[39m     )\n\u001b[32m    601\u001b[39m \u001b[38;5;66;03m# The \"self\" in this scope is referring to the BaseClient.\u001b[39;00m\n\u001b[32m--> \u001b[39m\u001b[32m602\u001b[39m \u001b[38;5;28;01mreturn\u001b[39;00m \u001b[38;5;28;43mself\u001b[39;49m\u001b[43m.\u001b[49m\u001b[43m_make_api_call\u001b[49m\u001b[43m(\u001b[49m\u001b[43moperation_name\u001b[49m\u001b[43m,\u001b[49m\u001b[43m \u001b[49m\u001b[43mkwargs\u001b[49m\u001b[43m)\u001b[49m\n",
      "\u001b[36mFile \u001b[39m\u001b[32m~/projects/agents_hub/AgentCore/ac3-forked/amazon-bedrock-agentcore-samples/.venv/lib/python3.12/site-packages/botocore/context.py:123\u001b[39m, in \u001b[36mwith_current_context.<locals>.decorator.<locals>.wrapper\u001b[39m\u001b[34m(*args, **kwargs)\u001b[39m\n\u001b[32m    121\u001b[39m \u001b[38;5;28;01mif\u001b[39;00m hook:\n\u001b[32m    122\u001b[39m     hook()\n\u001b[32m--> \u001b[39m\u001b[32m123\u001b[39m \u001b[38;5;28;01mreturn\u001b[39;00m \u001b[43mfunc\u001b[49m\u001b[43m(\u001b[49m\u001b[43m*\u001b[49m\u001b[43margs\u001b[49m\u001b[43m,\u001b[49m\u001b[43m \u001b[49m\u001b[43m*\u001b[49m\u001b[43m*\u001b[49m\u001b[43mkwargs\u001b[49m\u001b[43m)\u001b[49m\n",
      "\u001b[36mFile \u001b[39m\u001b[32m~/projects/agents_hub/AgentCore/ac3-forked/amazon-bedrock-agentcore-samples/.venv/lib/python3.12/site-packages/botocore/client.py:1035\u001b[39m, in \u001b[36mBaseClient._make_api_call\u001b[39m\u001b[34m(self, operation_name, api_params)\u001b[39m\n\u001b[32m   1031\u001b[39m \u001b[38;5;28;01mif\u001b[39;00m properties:\n\u001b[32m   1032\u001b[39m     \u001b[38;5;66;03m# Pass arbitrary endpoint info with the Request\u001b[39;00m\n\u001b[32m   1033\u001b[39m     \u001b[38;5;66;03m# for use during construction.\u001b[39;00m\n\u001b[32m   1034\u001b[39m     request_context[\u001b[33m'\u001b[39m\u001b[33mendpoint_properties\u001b[39m\u001b[33m'\u001b[39m] = properties\n\u001b[32m-> \u001b[39m\u001b[32m1035\u001b[39m request_dict = \u001b[38;5;28;43mself\u001b[39;49m\u001b[43m.\u001b[49m\u001b[43m_convert_to_request_dict\u001b[49m\u001b[43m(\u001b[49m\n\u001b[32m   1036\u001b[39m \u001b[43m    \u001b[49m\u001b[43mapi_params\u001b[49m\u001b[43m=\u001b[49m\u001b[43mapi_params\u001b[49m\u001b[43m,\u001b[49m\n\u001b[32m   1037\u001b[39m \u001b[43m    \u001b[49m\u001b[43moperation_model\u001b[49m\u001b[43m=\u001b[49m\u001b[43moperation_model\u001b[49m\u001b[43m,\u001b[49m\n\u001b[32m   1038\u001b[39m \u001b[43m    \u001b[49m\u001b[43mendpoint_url\u001b[49m\u001b[43m=\u001b[49m\u001b[43mendpoint_url\u001b[49m\u001b[43m,\u001b[49m\n\u001b[32m   1039\u001b[39m \u001b[43m    \u001b[49m\u001b[43mcontext\u001b[49m\u001b[43m=\u001b[49m\u001b[43mrequest_context\u001b[49m\u001b[43m,\u001b[49m\n\u001b[32m   1040\u001b[39m \u001b[43m    \u001b[49m\u001b[43mheaders\u001b[49m\u001b[43m=\u001b[49m\u001b[43madditional_headers\u001b[49m\u001b[43m,\u001b[49m\n\u001b[32m   1041\u001b[39m \u001b[43m\u001b[49m\u001b[43m)\u001b[49m\n\u001b[32m   1042\u001b[39m resolve_checksum_context(request_dict, operation_model, api_params)\n\u001b[32m   1044\u001b[39m service_id = \u001b[38;5;28mself\u001b[39m._service_model.service_id.hyphenize()\n",
      "\u001b[36mFile \u001b[39m\u001b[32m~/projects/agents_hub/AgentCore/ac3-forked/amazon-bedrock-agentcore-samples/.venv/lib/python3.12/site-packages/botocore/client.py:1102\u001b[39m, in \u001b[36mBaseClient._convert_to_request_dict\u001b[39m\u001b[34m(self, api_params, operation_model, endpoint_url, context, headers, set_user_agent_header)\u001b[39m\n\u001b[32m   1093\u001b[39m \u001b[38;5;28;01mdef\u001b[39;00m\u001b[38;5;250m \u001b[39m\u001b[34m_convert_to_request_dict\u001b[39m(\n\u001b[32m   1094\u001b[39m     \u001b[38;5;28mself\u001b[39m,\n\u001b[32m   1095\u001b[39m     api_params,\n\u001b[32m   (...)\u001b[39m\u001b[32m   1100\u001b[39m     set_user_agent_header=\u001b[38;5;28;01mTrue\u001b[39;00m,\n\u001b[32m   1101\u001b[39m ):\n\u001b[32m-> \u001b[39m\u001b[32m1102\u001b[39m     request_dict = \u001b[38;5;28;43mself\u001b[39;49m\u001b[43m.\u001b[49m\u001b[43m_serializer\u001b[49m\u001b[43m.\u001b[49m\u001b[43mserialize_to_request\u001b[49m\u001b[43m(\u001b[49m\n\u001b[32m   1103\u001b[39m \u001b[43m        \u001b[49m\u001b[43mapi_params\u001b[49m\u001b[43m,\u001b[49m\u001b[43m \u001b[49m\u001b[43moperation_model\u001b[49m\n\u001b[32m   1104\u001b[39m \u001b[43m    \u001b[49m\u001b[43m)\u001b[49m\n\u001b[32m   1105\u001b[39m     \u001b[38;5;28;01mif\u001b[39;00m \u001b[38;5;129;01mnot\u001b[39;00m \u001b[38;5;28mself\u001b[39m._client_config.inject_host_prefix:\n\u001b[32m   1106\u001b[39m         request_dict.pop(\u001b[33m'\u001b[39m\u001b[33mhost_prefix\u001b[39m\u001b[33m'\u001b[39m, \u001b[38;5;28;01mNone\u001b[39;00m)\n",
      "\u001b[36mFile \u001b[39m\u001b[32m~/projects/agents_hub/AgentCore/ac3-forked/amazon-bedrock-agentcore-samples/.venv/lib/python3.12/site-packages/botocore/validate.py:381\u001b[39m, in \u001b[36mParamValidationDecorator.serialize_to_request\u001b[39m\u001b[34m(self, parameters, operation_model)\u001b[39m\n\u001b[32m    377\u001b[39m     report = \u001b[38;5;28mself\u001b[39m._param_validator.validate(\n\u001b[32m    378\u001b[39m         parameters, operation_model.input_shape\n\u001b[32m    379\u001b[39m     )\n\u001b[32m    380\u001b[39m     \u001b[38;5;28;01mif\u001b[39;00m report.has_errors():\n\u001b[32m--> \u001b[39m\u001b[32m381\u001b[39m         \u001b[38;5;28;01mraise\u001b[39;00m ParamValidationError(report=report.generate_report())\n\u001b[32m    382\u001b[39m \u001b[38;5;28;01mreturn\u001b[39;00m \u001b[38;5;28mself\u001b[39m._serializer.serialize_to_request(\n\u001b[32m    383\u001b[39m     parameters, operation_model\n\u001b[32m    384\u001b[39m )\n",
      "\u001b[31mParamValidationError\u001b[39m: Parameter validation failed:\nMissing required parameter in input: \"targetId\"\nUnknown parameter in input: \"targetIdentifier\", must be one of: gatewayIdentifier, targetId"
     ]
    }
   ],
   "source": [
    "\n"
   ]
  },
  {
   "cell_type": "code",
   "execution_count": 65,
   "id": "caf00848",
   "metadata": {},
   "outputs": [
    {
     "name": "stdout",
     "output_type": "stream",
     "text": [
      "{'RequestId': '5c14909d-5a3a-49d2-8222-b6f6ad0ad021', 'HTTPStatusCode': 202, 'HTTPHeaders': {'date': 'Thu, 16 Oct 2025 18:32:12 GMT', 'content-type': 'application/json', 'content-length': '776', 'connection': 'keep-alive', 'x-amzn-requestid': '5c14909d-5a3a-49d2-8222-b6f6ad0ad021', 'x-amzn-remapped-x-amzn-requestid': 'e89d151a-b00d-4c2c-bd9b-af970a0949b3', 'x-amzn-remapped-content-length': '776', 'x-amzn-remapped-connection': 'keep-alive', 'x-amz-apigw-id': 'SjYG8G9QoAMEDUg=', 'x-amzn-trace-id': 'Root=1-68f13a2c-5968c66e495af31c0d74dbdf', 'x-amzn-remapped-date': 'Thu, 16 Oct 2025 18:32:12 GMT'}, 'RetryAttempts': 0}\n"
     ]
    }
   ],
   "source": [
    "\n",
    "response_metadata = response['ResponseMetadata']\n",
    "\n",
    "print(response_metadata)"
   ]
  },
  {
   "cell_type": "markdown",
   "id": "3200dc9f",
   "metadata": {},
   "source": [
    "## SKIP if not doing semantic search To demonstrate the power of gateway search, now we add a few more copies of the Calculator target, \n",
    "so that we end up with 300+ MCP tools exposed."
   ]
  },
  {
   "cell_type": "code",
   "execution_count": null,
   "id": "6b3aedf2",
   "metadata": {},
   "outputs": [],
   "source": [
    "# def add_more_tools(gatewayId):\n",
    "#     time.sleep(10)\n",
    "#     calcTargetId = create_gatewaytarget(\n",
    "#         gateway_id=gatewayId,\n",
    "#         lambda_arn=calc_lambda_arn,\n",
    "#         target_name=\"Calc2\",\n",
    "#         target_descr=\"Calculation 2 Tools\",\n",
    "#         api_spec=calc_api_spec,\n",
    "#     )\n",
    "#     print(f\"Calc2 Target created with id: {calcTargetId} on gateway: {gatewayId}\")\n",
    "#     time.sleep(10)\n",
    "#     calcTargetId = create_gatewaytarget(\n",
    "#         gateway_id=gatewayId,\n",
    "#         lambda_arn=calc_lambda_arn,\n",
    "#         target_name=\"Calc3\",\n",
    "#         target_descr=\"Calculation 3 Tools\",\n",
    "#         api_spec=calc_api_spec,\n",
    "#     )\n",
    "#     print(f\"Calc3 Target created with id: {calcTargetId} on gateway: {gatewayId}\")\n",
    "#     time.sleep(10)\n",
    "#     calcTargetId = create_gatewaytarget(\n",
    "#         gateway_id=gatewayId,\n",
    "#         lambda_arn=calc_lambda_arn,\n",
    "#         target_name=\"Calc4\",\n",
    "#         target_descr=\"Calculation 4 Tools\",\n",
    "#         api_spec=calc_api_spec,\n",
    "#     )\n",
    "#     print(f\"Calc4 Target created with id: {calcTargetId} on gateway: {gatewayId}\")"
   ]
  },
  {
   "cell_type": "code",
   "execution_count": null,
   "id": "62852ae9",
   "metadata": {},
   "outputs": [],
   "source": [
    "# add_more_tools(gatewayId=gatewayId)"
   ]
  },
  {
   "cell_type": "code",
   "execution_count": 60,
   "id": "c3717e2b",
   "metadata": {},
   "outputs": [
    {
     "name": "stdout",
     "output_type": "stream",
     "text": [
      "DemoOpenAPIGW - OpenAPI Target with S3Uri using SDK\n",
      "CalcTools - Calculation Tools\n",
      "DemoOpenAPITargetS3NasaMars - OpenAPI Target with API-Key\n"
     ]
    }
   ],
   "source": [
    "resp = agentcore_client.list_gateway_targets(gatewayIdentifier=gatewayId)\n",
    "targets = resp[\"items\"]\n",
    "for target in resp[\"items\"]:\n",
    "    print(f\"{target['name']} - {target['description']}\")"
   ]
  },
  {
   "cell_type": "markdown",
   "id": "b701bf49",
   "metadata": {},
   "source": [
    "# Searching for tools from a Gateway"
   ]
  },
  {
   "cell_type": "markdown",
   "id": "e5599870",
   "metadata": {},
   "source": [
    "### Getting familiar with MCP list tools before we search"
   ]
  },
  {
   "cell_type": "markdown",
   "id": "e6dbea12",
   "metadata": {},
   "source": [
    "Let's define some utility functions to retrieve our MCP endpoint URL for a given Gateway ID, and to \n",
    "retrieve our JWT OAuth access token to securely use our Gateway."
   ]
  },
  {
   "cell_type": "code",
   "execution_count": null,
   "id": "d15ac0f2",
   "metadata": {},
   "outputs": [],
   "source": [
    "def get_gateway_endpoint(gateway_id):\n",
    "    response = agentcore_client.get_gateway(gatewayIdentifier=gateway_id)\n",
    "    gateway_url = response[\"gatewayUrl\"]\n",
    "    return gateway_url"
   ]
  },
  {
   "cell_type": "markdown",
   "id": "2cac832e",
   "metadata": {},
   "source": [
    "Now that our Gateway is created and has targets, let's grab the MCP URL to that\n",
    "Gateway. We can retrieve the endpoint URL from the Gateway control plane based on the Gateway ID."
   ]
  },
  {
   "cell_type": "markdown",
   "id": "96c4708f",
   "metadata": {},
   "source": [
    "#### Using MCP Inspector against your Gateway\n",
    "\n",
    "Now that we have an endpoint URL for the MCP server, and we have a JWT bearer token, you may want to explore\n",
    "the MCP server with the MCP Inspector tool. MCP Inspector is an open source tool that can connect to any MCP\n",
    "server, lets you list the tools provided, and even provides an easy to use tool invocation experience. \n",
    "\n",
    "From your terminal window, simply enter `npx @modelcontextprotocol/inspector` to launch the MCP Inspector. Then paste\n",
    "in your Gateway endpoint URL and your JWT token to connect. Once connected, try out List Tools and Invoke Tool.\n",
    "\n",
    "Here's a sample screenshot.\n",
    "\n",
    "![MCP Inspector](images/mcp_inspector.png)"
   ]
  },
  {
   "cell_type": "code",
   "execution_count": null,
   "id": "97f5f769",
   "metadata": {},
   "outputs": [],
   "source": [
    "gatewayEndpoint = get_gateway_endpoint(gateway_id=gatewayId)\n",
    "print(f\"Gateway Endpoint - MCP URL: {gatewayEndpoint}\")"
   ]
  },
  {
   "cell_type": "markdown",
   "id": "a99920e9",
   "metadata": {},
   "source": [
    "MCP server security is based on OAuth. To interact with our Gateway, we'll need to\n",
    "retrieve a JWT OAuth access token from our IdP."
   ]
  },
  {
   "cell_type": "code",
   "execution_count": null,
   "id": "bb2525ec",
   "metadata": {},
   "outputs": [],
   "source": [
    "jwtToken = utils.get_bearer_token(\n",
    "    client_id=cognito_response[\"client_id\"],\n",
    "    username=\"testuser\",\n",
    "    password=\"MyPassword123!\",\n",
    ")\n",
    "print(f\"Bearer token: {jwtToken}\")"
   ]
  },
  {
   "cell_type": "code",
   "execution_count": null,
   "id": "68bcd0e0",
   "metadata": {},
   "outputs": [],
   "source": [
    "!npx @modelcontextprotocol/inspector"
   ]
  },
  {
   "cell_type": "markdown",
   "id": "de5f7d58",
   "metadata": {},
   "source": [
    "#### Creating helper functions that use jsonrpc to invoke MCP tools or list them\n",
    "Let's define a helper function called `invoke_gateway_tool` that uses jsonrpc to invoke any of the\n",
    "MCP tools exposed by an MCP Server, including of course, your Gateway. Given an endpoint URL and a JWT token,\n",
    "you can use this utility to invoke any of the MCP tools that AgentCore Gateway made available\n",
    "for you when you added Gateway Targets to your Gateway."
   ]
  },
  {
   "cell_type": "code",
   "execution_count": null,
   "id": "430730db",
   "metadata": {},
   "outputs": [],
   "source": [
    "def invoke_gateway_tool(gateway_endpoint, jwt_token, tool_params):\n",
    "    # print(f\"Invoking tool {tool_params['name']}\")\n",
    "\n",
    "    requestBody = {\n",
    "        \"jsonrpc\": \"2.0\",\n",
    "        \"id\": 2,\n",
    "        \"method\": \"tools/call\",\n",
    "        \"params\": tool_params,\n",
    "    }\n",
    "    response = requests.post(\n",
    "        gateway_endpoint,\n",
    "        json=requestBody,\n",
    "        headers={\n",
    "            \"Authorization\": f\"Bearer {jwt_token}\",\n",
    "            \"Content-Type\": \"application/json\",\n",
    "        },\n",
    "    )\n",
    "\n",
    "    return response.json()"
   ]
  },
  {
   "cell_type": "markdown",
   "id": "f38bb52f",
   "metadata": {},
   "source": [
    "Here's another utility function for using MCP's `tools/list` method for listing the MCP tools\n",
    "available from your Gateway. Given a Gateway ID and a JWT Token, it retrieves the full set\n",
    "of tools from that Gateway, and returns a list in agent-ready form. The returned list contains \n",
    "Strands Agents MCPAgentTool objects that are suitable for handing your Agent. \n",
    "\n",
    "Note that `tools/list` call is paginated, so the function needs to loop, getting a page of\n",
    "tools at a time, until the `nextCursor` field is no longer populated. The utility function directly\n",
    "calls the endpoint using HTTPS and the jsonrpc protocol. This is a lower level way to list tools\n",
    "compared to the `MCPClient` class provided by Strands Agents. We'll see that experience later."
   ]
  },
  {
   "cell_type": "code",
   "execution_count": null,
   "id": "7d21a000",
   "metadata": {},
   "outputs": [],
   "source": [
    "def get_all_agent_tools_from_mcp_endpoint(gateway_endpoint, jwt_token, client):\n",
    "    more_tools = True\n",
    "    tools_count = 0\n",
    "    tools_list = []\n",
    "\n",
    "    requestBody = {\"jsonrpc\": \"2.0\", \"id\": 2, \"method\": \"tools/list\", \"params\": {}}\n",
    "    next_cursor = \"\"\n",
    "\n",
    "    while more_tools:\n",
    "        if tools_count == 0:\n",
    "            requestBody[\"params\"] = {}\n",
    "        else:\n",
    "            print(f\"\\nGetting next page of tools since a next cursor was returned\\n\")\n",
    "            requestBody[\"params\"] = {\"cursor\": next_cursor}\n",
    "\n",
    "        headers = {\n",
    "            \"Authorization\": f\"Bearer {jwt_token}\",\n",
    "            \"Content-Type\": \"application/json\",\n",
    "        }\n",
    "\n",
    "        print(f\"\\n\\nListing tools for gateway {gateway_endpoint}\")\n",
    "\n",
    "        response = requests.post(gateway_endpoint, json=requestBody, headers=headers)\n",
    "\n",
    "        tools_json = response.json()\n",
    "        tools_count += len(tools_json[\"result\"][\"tools\"])\n",
    "\n",
    "        for tool in tools_json[\"result\"][\"tools\"]:\n",
    "            mcp_tool = MCPTool(\n",
    "                name=tool[\"name\"],\n",
    "                description=tool[\"description\"],\n",
    "                inputSchema=tool[\"inputSchema\"],\n",
    "            )\n",
    "            mcp_agent_tool = MCPAgentTool(mcp_tool, client)\n",
    "            short_descr = tool[\"description\"][0:40] + \"...\"\n",
    "            print(f\"adding tool '{mcp_agent_tool.tool_name}' - {short_descr}\")\n",
    "            tools_list.append(mcp_agent_tool)\n",
    "\n",
    "        if \"nextCursor\" in tools_json[\"result\"]:\n",
    "            next_cursor = tools_json[\"result\"][\"nextCursor\"]\n",
    "            more_tools = True\n",
    "        else:\n",
    "            more_tools = False\n",
    "\n",
    "    print(f\"\\nTotal tools found: {tools_count}\\n\")\n",
    "    return tools_list"
   ]
  },
  {
   "cell_type": "markdown",
   "id": "29ea36db",
   "metadata": {},
   "source": [
    "Lets use this helper function and see the results."
   ]
  },
  {
   "cell_type": "code",
   "execution_count": null,
   "id": "b3eff51d",
   "metadata": {},
   "outputs": [],
   "source": [
    "client = MCPClient(\n",
    "    lambda: streamablehttp_client(\n",
    "        f\"{gatewayEndpoint}\", headers={\"Authorization\": f\"Bearer {jwtToken}\"}\n",
    "    )\n",
    ")\n",
    "with client:\n",
    "    all_tools = get_all_agent_tools_from_mcp_endpoint(\n",
    "        gateway_endpoint=gatewayEndpoint, jwt_token=jwtToken, client=client\n",
    "    )\n",
    "    print(f\"\\nFound {len(all_tools)} tools using jsonrpc to list MCP tools\\n\")"
   ]
  },
  {
   "cell_type": "markdown",
   "id": "271d04ef",
   "metadata": {},
   "source": [
    "#### Using Strands Agents list_tools_sync() with pagination\n",
    "If you have written any Python based MCP client, you are likely familiar with the `list_tools_sync()` method \n",
    "which returns the set of tools available from the MCP Server which the client is associated\n",
    "with. But did you know MCP list tools is also paginated? By default, you will only get the first small\n",
    "subset of tools returned. For simple MCP servers, you may not have noticed this, but for many real world \n",
    "MCP servers, your code needs to loop, grabbing pages of tools at a time\n",
    "until there are no more pages remaining. The following utility `get_all_mcp_tools_from_mcp_client` does exactly that. \n",
    "It returns the full list of tools from a given Strands Agent MCP Client."
   ]
  },
  {
   "cell_type": "code",
   "execution_count": null,
   "id": "ef10b8c7",
   "metadata": {},
   "outputs": [],
   "source": [
    "def get_all_mcp_tools_from_mcp_client(client):\n",
    "    more_tools = True\n",
    "    tools = []\n",
    "    pagination_token = None\n",
    "    while more_tools:\n",
    "        tmp_tools = client.list_tools_sync(pagination_token=pagination_token)\n",
    "        tools.extend(tmp_tools)\n",
    "        if tmp_tools.pagination_token is None:\n",
    "            more_tools = False\n",
    "        else:\n",
    "            more_tools = True\n",
    "            pagination_token = tmp_tools.pagination_token\n",
    "    return tools"
   ]
  },
  {
   "cell_type": "markdown",
   "id": "e519196b",
   "metadata": {},
   "source": [
    "Let's give it a try with our Gateway and find out how many tools the Python client finds. \n",
    "First we create an MCPClient object based on our endpoint URL and our JWT bearer token. Then \n",
    "we retrieve the full set of tools across many pages of tools returned by the MCP server.\n",
    "Given the targets we added earlier, this should return 300+ tools."
   ]
  },
  {
   "cell_type": "code",
   "execution_count": null,
   "id": "817d1e48",
   "metadata": {},
   "outputs": [],
   "source": [
    "client = MCPClient(\n",
    "    lambda: streamablehttp_client(\n",
    "        f\"{gatewayEndpoint}\", headers={\"Authorization\": f\"Bearer {jwtToken}\"}\n",
    "    )\n",
    ")\n",
    "with client:\n",
    "    all_tools = get_all_mcp_tools_from_mcp_client(client)\n",
    "    print(f\"\\nFound {len(all_tools)} tools from list_tools_sync() on mcp client\\n\")"
   ]
  },
  {
   "cell_type": "markdown",
   "id": "ba410062",
   "metadata": {},
   "source": [
    "We have now seen 3 different ways to get the full set of tools from your Gateway using it\n",
    "as an MCP Server: \n",
    "\n",
    "1. directly using jsonrpc\n",
    "2. using the `list_tools_sync()` method on the Strands Agent MCPClient\n",
    "3. using the MCP Inspector tool (which uses jsonrpc behind the scenes). \n",
    "\n",
    "For typical developers building agents, you'll be using option 2."
   ]
  },
  {
   "cell_type": "markdown",
   "id": "af97ef22",
   "metadata": {},
   "source": [
    "### Using the built-in Gateway semantic search tool\n",
    "Now lets try our first semantic search on the Gateway using its built-in search tool provided as\n",
    "an additional MCP tool that gets added to your MCP tool list."
   ]
  },
  {
   "cell_type": "markdown",
   "id": "9de8a698",
   "metadata": {},
   "source": [
    "First let's define a simple utility function to execute the search tool using MCP.\n",
    "Just like for listing tools, we need the gateway endpoint and JWT token. Other than that,\n",
    "all we need to pass in is the search query. The Gateway search tool will do the rest,\n",
    "matching that query against the serverless vector store that it automatically manages on your behalf."
   ]
  },
  {
   "cell_type": "code",
   "execution_count": null,
   "id": "04d868a8",
   "metadata": {},
   "outputs": [],
   "source": [
    "def tool_search(gateway_endpoint, jwt_token, query):\n",
    "    toolParams = {\n",
    "        \"name\": \"x_amz_bedrock_agentcore_search\",\n",
    "        \"arguments\": {\"query\": query},\n",
    "    }\n",
    "    toolResp = invoke_gateway_tool(\n",
    "        gateway_endpoint=gateway_endpoint, jwt_token=jwt_token, tool_params=toolParams\n",
    "    )\n",
    "    tools = toolResp[\"result\"][\"structuredContent\"][\"tools\"]\n",
    "    return tools"
   ]
  },
  {
   "cell_type": "code",
   "execution_count": null,
   "id": "939755a5",
   "metadata": {},
   "outputs": [],
   "source": [
    "start_time = time.time()\n",
    "tools_found = tool_search(\n",
    "    gateway_endpoint=gatewayEndpoint,\n",
    "    jwt_token=jwtToken,\n",
    "    query=\"find me 3 credit research tools\",\n",
    ")\n",
    "end_time = time.time()\n",
    "print(\n",
    "    f\"tool search via direct Gateway invocation took {(end_time - start_time):.2f} seconds\"\n",
    ")\n",
    "print(f\"Top tool: {tools_found[0]['name']}\")"
   ]
  },
  {
   "cell_type": "markdown",
   "id": "602cbd2d",
   "metadata": {},
   "source": [
    "Notice how fast the search returns, in under a second in most cases. The results are returned\n",
    "in descending order of search relevance based on matching the query to the tool metadata.\n",
    "The most relevant tools are first on the list. The intial implementation of search gives back\n",
    "up to 10 results. You could then use all of these tools in your agent, or simply pick a subset of\n",
    "the most relevant matches."
   ]
  },
  {
   "cell_type": "markdown",
   "id": "7cc03391",
   "metadata": {},
   "source": [
    "# Using Strands Agents with an MCP server that has many tools"
   ]
  },
  {
   "cell_type": "markdown",
   "id": "433d0f3f",
   "metadata": {},
   "source": [
    "First, we select a model to use with our Strands Agent. \n",
    "For this notebook, we are using Amazon Bedrock models, but Strands and AgentCore\n",
    "can work with any LLM."
   ]
  },
  {
   "cell_type": "code",
   "execution_count": null,
   "id": "b18c10bb",
   "metadata": {},
   "outputs": [],
   "source": [
    "bedrockmodel = BedrockModel(\n",
    "    model_id=\"us.anthropic.claude-3-7-sonnet-20250219-v1:0\",\n",
    "    temperature=0.7,\n",
    "    streaming=True,\n",
    "    boto_session=session,\n",
    ")"
   ]
  },
  {
   "cell_type": "markdown",
   "id": "ee8a436a",
   "metadata": {},
   "source": [
    "#### Simple Strands Agent using AgentCore Gateway for agent tools\n",
    "Now lets show how easy it is to use a Strands Agent to leverage an MCP Server\n",
    "provided by AgentCore Gateway. In our\n",
    "simple example, we ask the agent to add some numbers."
   ]
  },
  {
   "cell_type": "code",
   "execution_count": null,
   "id": "2086a0d6",
   "metadata": {},
   "outputs": [],
   "source": [
    "jwtToken = utils.get_bearer_token(\n",
    "    client_id=cognito_response[\"client_id\"],\n",
    "    username=\"testuser\",\n",
    "    password=\"MyPassword123!\",\n",
    ")\n",
    "client = MCPClient(\n",
    "    lambda: streamablehttp_client(\n",
    "        f\"{gatewayEndpoint}\", headers={\"Authorization\": f\"Bearer {jwtToken}\"}\n",
    "    )\n",
    ")\n",
    "with client:\n",
    "    all_tools = get_all_mcp_tools_from_mcp_client(client)\n",
    "    print(f\"\\nFound {len(all_tools)} tools from list_tools_sync() on mcp client\\n\")\n",
    "\n",
    "    simple_agent = Agent(\n",
    "        model=bedrockmodel, tools=all_tools, callback_handler=null_callback_handler\n",
    "    )\n",
    "    result = simple_agent(\"add 100 plus 50 pass \")\n",
    "    print(f\"{result.message['content'][0]['text']}\")"
   ]
  },
  {
   "cell_type": "markdown",
   "id": "bd8d6b33",
   "metadata": {},
   "source": [
    "The Strands Agents framework also lets you bypass the agent event loop, invoking an MCP tool directly.\n",
    "Since Gateway tools are exposed as native MCP tools, this can be done against Gateway tools as well. Here\n",
    "we call a Gateway MCP tool using the `agent.tool.<tool_name>(args)` syntax:\n",
    "\n",
    "```python\n",
    "direct_result = simple_agent.tool.Calc2___add_numbers(firstNumber=10, secondNumber=20)\n",
    "resp_json = json.loads(direct_result['content'][0]['text'])\n",
    "```"
   ]
  },
  {
   "cell_type": "code",
   "execution_count": null,
   "id": "ddda7a89",
   "metadata": {},
   "outputs": [],
   "source": [
    "jwtToken = utils.get_bearer_token(\n",
    "    client_id=cognito_response[\"client_id\"],\n",
    "    username=\"testuser\",\n",
    "    password=\"MyPassword123!\",\n",
    ")\n",
    "client = MCPClient(\n",
    "    lambda: streamablehttp_client(\n",
    "        f\"{gatewayEndpoint}\", headers={\"Authorization\": f\"Bearer {jwtToken}\"}\n",
    "    )\n",
    ")\n",
    "with client:\n",
    "    all_tools = get_all_mcp_tools_from_mcp_client(client)\n",
    "    print(f\"\\nFound {len(all_tools)} tools from list_tools_sync() on mcp client\\n\")\n",
    "\n",
    "    simple_agent = Agent(\n",
    "        model=bedrockmodel, tools=all_tools, callback_handler=null_callback_handler\n",
    "    )\n",
    "    direct_result = simple_agent.tool.Calc2___add_numbers(\n",
    "        firstNumber=10, secondNumber=20\n",
    "    )\n",
    "    print(f\"direct result = {direct_result}\")"
   ]
  },
  {
   "cell_type": "code",
   "execution_count": null,
   "id": "92d3f963",
   "metadata": {},
   "outputs": [],
   "source": [
    "def get_search_tool(client):\n",
    "    mcp_tool = MCPTool(\n",
    "        name=\"x_amz_bedrock_agentcore_search\",\n",
    "        description=\"A special tool that returns a trimmed down list of tools given a context. Use this tool only when there are many tools available and you want to get a subset that matches the provided context.\",\n",
    "        inputSchema={\n",
    "            \"type\": \"object\",\n",
    "            \"properties\": {\n",
    "                \"query\": {\n",
    "                    \"type\": \"string\",\n",
    "                    \"description\": \"search query to use for finding tools\",\n",
    "                }\n",
    "            },\n",
    "            \"required\": [\"query\"],\n",
    "        },\n",
    "    )\n",
    "    return MCPAgentTool(mcp_tool, client)"
   ]
  },
  {
   "cell_type": "code",
   "execution_count": null,
   "id": "c04e47cc",
   "metadata": {},
   "outputs": [],
   "source": [
    "def search_using_strands(client, query):\n",
    "    simple_agent = Agent(\n",
    "        model=bedrockmodel,\n",
    "        tools=[get_search_tool(client)],\n",
    "        callback_handler=null_callback_handler,\n",
    "    )\n",
    "\n",
    "    direct_result = simple_agent.tool.x_amz_bedrock_agentcore_search(query=query)\n",
    "\n",
    "    resp_json = json.loads(direct_result[\"content\"][0][\"text\"])\n",
    "    search_results = resp_json[\"tools\"]\n",
    "    print(json.dumps(search_results, indent=4))\n",
    "    return search_results"
   ]
  },
  {
   "cell_type": "code",
   "execution_count": null,
   "id": "1f07719a",
   "metadata": {},
   "outputs": [],
   "source": [
    "def find_strands_tools(client, query, top_n):\n",
    "    strands_mcp_tools = []\n",
    "    results = search_using_strands(client, query)\n",
    "    for tool in results[:top_n]:\n",
    "        mcp_tool = MCPTool(\n",
    "            name=tool[\"name\"],\n",
    "            description=tool[\"description\"],\n",
    "            inputSchema=tool[\"inputSchema\"],\n",
    "        )\n",
    "        strands_mcp_tools.append(MCPAgentTool(mcp_tool, client))\n",
    "    return strands_mcp_tools"
   ]
  },
  {
   "cell_type": "code",
   "execution_count": null,
   "id": "dc40ff86",
   "metadata": {},
   "outputs": [],
   "source": [
    "jwtToken = utils.get_bearer_token(\n",
    "    client_id=cognito_response[\"client_id\"],\n",
    "    username=\"testuser\",\n",
    "    password=\"MyPassword123!\",\n",
    ")\n",
    "client = MCPClient(\n",
    "    lambda: streamablehttp_client(\n",
    "        f\"{gatewayEndpoint}\", headers={\"Authorization\": f\"Bearer {jwtToken}\"}\n",
    "    )\n",
    ")\n",
    "with client:\n",
    "    simple_agent = Agent(\n",
    "        model=bedrockmodel,\n",
    "        tools=[get_search_tool(client)],\n",
    "        callback_handler=null_callback_handler,\n",
    "    )\n",
    "\n",
    "    direct_result = simple_agent.tool.x_amz_bedrock_agentcore_search(\n",
    "        query=\"find equity trading tools\"\n",
    "    )\n",
    "\n",
    "    resp_json = json.loads(direct_result[\"content\"][0][\"text\"])\n",
    "    search_results = resp_json[\"tools\"]\n",
    "    print(json.dumps(search_results, indent=4))"
   ]
  },
  {
   "cell_type": "code",
   "execution_count": null,
   "id": "09bd76c4",
   "metadata": {},
   "outputs": [],
   "source": [
    "jwtToken = utils.get_bearer_token(\n",
    "    client_id=cognito_response[\"client_id\"],\n",
    "    username=\"testuser\",\n",
    "    password=\"MyPassword123!\",\n",
    ")\n",
    "client = MCPClient(\n",
    "    lambda: streamablehttp_client(\n",
    "        f\"{gatewayEndpoint}\", headers={\"Authorization\": f\"Bearer {jwtToken}\"}\n",
    "    )\n",
    ")\n",
    "with client:\n",
    "    results = search_using_strands(client, \"find trading tools\")\n",
    "    print(json.dumps(search_results[0], indent=4))\n",
    "\n",
    "    results = search_using_strands(client, \"find credit research tools\")\n",
    "    print(json.dumps(search_results[0], indent=4))"
   ]
  },
  {
   "cell_type": "markdown",
   "id": "5c0dcc80",
   "metadata": {},
   "source": [
    "# Adding tool search results to a Strands Agent"
   ]
  },
  {
   "cell_type": "markdown",
   "id": "374bc324",
   "metadata": {},
   "source": [
    "Now let's look at how the tools returned from a search can be added to a\n",
    "Strands Agent. To make the coding simpler, let's provide a utility function that\n",
    "maps tool search results to Strands MCPAgentTool objects. Simply pass in the \n",
    "search results, and indicate how many of those results you want to pass to your\n",
    "agent."
   ]
  },
  {
   "cell_type": "code",
   "execution_count": null,
   "id": "df1e3efe",
   "metadata": {},
   "outputs": [],
   "source": [
    "import json\n",
    "\n",
    "def tools_to_strands_mcp_tools(tools, top_n):\n",
    "    strands_mcp_tools = []\n",
    "    for tool in tools[:top_n]:\n",
    "        print(f\"Converting tool: {tool['name']}\")  # Debug info\n",
    "        mcp_tool = MCPTool(\n",
    "            name=tool[\"name\"],\n",
    "            description=tool[\"description\"],\n",
    "            inputSchema=tool[\"inputSchema\"],\n",
    "        )\n",
    "        strands_mcp_tools.append(MCPAgentTool(mcp_tool, client))\n",
    "        \n",
    "    return strands_mcp_tools"
   ]
  },
  {
   "cell_type": "code",
   "execution_count": null,
   "id": "57d35be1",
   "metadata": {},
   "outputs": [],
   "source": [
    "jwtToken = utils.get_bearer_token(\n",
    "    client_id=cognito_response[\"client_id\"],\n",
    "    username=\"testuser\",\n",
    "    password=\"MyPassword123!\",\n",
    ")\n",
    "client = MCPClient(\n",
    "    lambda: streamablehttp_client(\n",
    "        f\"{gatewayEndpoint}\", headers={\"Authorization\": f\"Bearer {jwtToken}\"}\n",
    "    )\n",
    ")\n",
    "with client:\n",
    "    agent = Agent(\n",
    "        model=bedrockmodel,\n",
    "        tools=find_strands_tools(\n",
    "            client,\n",
    "            \"tools for doing addition, subtraction, multiplication, division\",\n",
    "            10,\n",
    "        ),\n",
    "    )\n",
    "    result = agent(\"(10*2)/(5-3)\")\n",
    "    print(f\"{result.message['content'][0]['text']}\")"
   ]
  },
  {
   "cell_type": "code",
   "execution_count": null,
   "id": "6de85475",
   "metadata": {},
   "outputs": [],
   "source": [
    "%%time\n",
    "\n",
    "jwtToken = utils.get_bearer_token(\n",
    "    client_id=cognito_response[\"client_id\"],\n",
    "    username=\"testuser\",\n",
    "    password=\"MyPassword123!\",\n",
    ")\n",
    "client = MCPClient(\n",
    "    lambda: streamablehttp_client(\n",
    "        f\"{gatewayEndpoint}\", headers={\"Authorization\": f\"Bearer {jwtToken}\"}\n",
    "    )\n",
    ")\n",
    "with client:\n",
    "    print(\"Searching for an ADDING tool from endpoint with full set of tools...\")\n",
    "    tools_found = tool_search(\n",
    "        gateway_endpoint=gatewayEndpoint,\n",
    "        jwt_token=jwtToken,\n",
    "        query=\"tools for multiplying two numbers\",\n",
    "    )\n",
    "    print(f\"Top tool found: {tools_found[0]['name']}\\n\")\n",
    "\n",
    "    agent = Agent(model=bedrockmodel, tools=tools_to_strands_mcp_tools(tools_found, 1))\n",
    "    result = agent(\"10 * 70\")\n",
    "    print(f\"{result.message['content'][0]['text']}\")"
   ]
  },
  {
   "cell_type": "markdown",
   "id": "6a41cfa0",
   "metadata": {},
   "source": [
    "Notice the latency improvement. This example using a subset of tools from Gateway search is significantly faster than\n",
    "agent invocation when depending on hundreds of tools."
   ]
  },
  {
   "cell_type": "markdown",
   "id": "78c1e64e",
   "metadata": {},
   "source": [
    "# Showing 3x latency improvement by using tool search"
   ]
  },
  {
   "cell_type": "markdown",
   "id": "1bc164be",
   "metadata": {},
   "source": [
    "Now that we know how to use Gateway MCP tools from a Strands agent, and we know how to search for tools and\n",
    "add them to an agent, lets show the power of search. We'll highlight the significant latency reduction\n",
    "and input token usage that can be delivered.\n",
    "\n",
    "To demonstrate the latency and token reductions, we compare 2 approaches side by side:\n",
    "\n",
    "1. **Without search**. We add the full set of MCP tools that the MCP server exposes (300+ in our case) to our agent and let the agent do its tool selection and invocation accordingly.\n",
    "2. **Using search**. In the second approach, we do a search based on the topic at hand, and only send in the most relevant tools to the agent. To prove the point, we use two different topics: math (adding numbers), and food (booking a restaurant reservation), each requiring a different set of tools.\n",
    "\n",
    "To normalize the latency distribution and get a meaningful comparison, we perform multiple iterations of\n",
    "each approach. Also, to avoid overstating the gains, when doing the search approach, we include not only the\n",
    "latency of the agent invocation, but also the latency of performing the tool search. For each \n",
    "iteration, we hand the agent two tasks: \n",
    "\n",
    "1. Math task -  add 2 numbers \n",
    "2. Food task - book a restaurant reservation\n",
    "\n",
    "The results below demonstrate the benefits, highlighting 3x latency reduction, and even greater reduction in\n",
    "input token usage. Note that while token usage savings translate to cost savings, that may not be as impactful due to\n",
    "the relatively lower cost of input tokens (for many model providers, input tokens are much lest costly). Even so, for \n",
    "large scale agent deployment, even input token usage costs can add up, so dynamic search can help reduce \n",
    "agent runtime costs as well."
   ]
  },
  {
   "cell_type": "markdown",
   "id": "e24ad450",
   "metadata": {},
   "source": [
    "#### Measure latency and token usage for agent using the entire set of MCP tools"
   ]
  },
  {
   "cell_type": "code",
   "execution_count": null,
   "id": "1e67f2ed",
   "metadata": {},
   "outputs": [],
   "source": [
    "iterations = 2\n",
    "full_tokens = light_tokens = 0\n",
    "full_elapsed_time = light_elapsed_time = 0\n",
    "\n",
    "jwtToken = utils.get_bearer_token(\n",
    "    client_id=cognito_response[\"client_id\"],\n",
    "    username=\"testuser\",\n",
    "    password=\"MyPassword123!\",\n",
    ")\n",
    "client = MCPClient(\n",
    "    lambda: streamablehttp_client(\n",
    "        f\"{gatewayEndpoint}\", headers={\"Authorization\": f\"Bearer {jwtToken}\"}\n",
    "    )\n",
    ")"
   ]
  },
  {
   "cell_type": "code",
   "execution_count": null,
   "id": "0bdf1296",
   "metadata": {},
   "outputs": [],
   "source": [
    "with client:\n",
    "    all_tools = get_all_mcp_tools_from_mcp_client(client)\n",
    "    print(f\"\\nFound {len(all_tools)} tools from list_tools_sync() on mcp client\\n\")\n",
    "    heavy_agent = Agent(\n",
    "        model=bedrockmodel, tools=all_tools, callback_handler=null_callback_handler\n",
    "    )\n",
    "\n",
    "    math_input = \"add 100 plus <iteration>\"\n",
    "    food_input = (\n",
    "        \"book me a table for 2 at Burger King under name Jo Smith at 7pm August <day>\"\n",
    "    )\n",
    "\n",
    "    print(\"using agent with ALL tools...\")\n",
    "    start_time = time.time()\n",
    "\n",
    "    for i in range(iterations):\n",
    "        result = heavy_agent(math_input.replace(\"<iteration>\", str(i + 1)))\n",
    "        print(f\"{i+1}) {result.message['content'][0]['text']}\")\n",
    "\n",
    "        result = heavy_agent(food_input.replace(\"<day>\", str(i + 1)))\n",
    "        print(f\"{i+1}) {result.message['content'][0]['text']}\")\n",
    "\n",
    "    end_time = time.time()\n",
    "    full_tokens = result.metrics.accumulated_usage[\"totalTokens\"]\n",
    "    full_elapsed_time = end_time - start_time\n",
    "    print(f\"\\nTotal time: {full_elapsed_time:.1f} s, tokens: {full_tokens:,d}\\n\")"
   ]
  },
  {
   "cell_type": "markdown",
   "id": "be6b20a3",
   "metadata": {},
   "source": [
    "#### Measure latency and token usage for agents using Gateway Search\n",
    "Now we'll use a dynamic approach, calling search to find relevant tools, and then calling the\n",
    "agent with only those relevant tools. Note that since we are resetting the agent on each \n",
    "conversation turn, we're also intializing the message list from conversation history of the prior turn."
   ]
  },
  {
   "cell_type": "code",
   "execution_count": null,
   "id": "80296fb8",
   "metadata": {},
   "outputs": [],
   "source": [
    "with client:\n",
    "    print(\"using agent with ONLY tools from focused search...\")\n",
    "    start_time = time.time()\n",
    "    messages = []\n",
    "\n",
    "    light_agent = Agent()\n",
    "\n",
    "    for i in range(iterations):\n",
    "        print(\"Searching for an ADDING tool from endpoint with full set of tools...\")\n",
    "        tools_found = tool_search(\n",
    "            gateway_endpoint=gatewayEndpoint,\n",
    "            jwt_token=jwtToken,\n",
    "            query=\"tools for simply adding two numbers\",\n",
    "        )\n",
    "        print(f\"Top tool found: {tools_found[0]['name']}\\n\")\n",
    "        light_agent = Agent(\n",
    "            model=bedrockmodel,\n",
    "            tools=tools_to_strands_mcp_tools(tools_found, 1),\n",
    "            messages=messages,\n",
    "            callback_handler=null_callback_handler,\n",
    "        )\n",
    "        light_result = light_agent(math_input.replace(\"<iteration>\", str(i + 1)))\n",
    "        print(f\"{i+1}) {light_result.message['content'][0]['text']}\")\n",
    "        messages = light_agent.messages\n",
    "\n",
    "        print(\n",
    "            \"Searching for a RESTAURANT BOOKING tool from endpoint with full set of tools...\"\n",
    "        )\n",
    "        tools_found = tool_search(\n",
    "            gateway_endpoint=gatewayEndpoint,\n",
    "            jwt_token=jwtToken,\n",
    "            query=\"tools for booking a restaurant reservation\",\n",
    "        )\n",
    "        print(f\"Top tool found: {tools_found[0]['name']}\\n\")\n",
    "        light_agent = Agent(\n",
    "            model=bedrockmodel,\n",
    "            tools=tools_to_strands_mcp_tools(tools_found, 1),\n",
    "            messages=messages,\n",
    "            callback_handler=null_callback_handler,\n",
    "        )\n",
    "        light_result = light_agent(food_input.replace(\"<day>\", str(i + 1)))\n",
    "        print(f\"{i+1}) {light_result.message['content'][0]['text']}\")\n",
    "        messages = light_agent.messages\n",
    "        light_tokens = light_result.metrics.accumulated_usage[\"totalTokens\"]\n",
    "    end_time = time.time()\n",
    "\n",
    "    light_elapsed_time = end_time - start_time\n",
    "    print(f\"\\nTotal time: {light_elapsed_time:.1f} s, tokens: {light_tokens:,d}\\n\")"
   ]
  },
  {
   "cell_type": "markdown",
   "id": "a2647422",
   "metadata": {},
   "source": [
    "#### Compare results, higlighting benefits of search"
   ]
  },
  {
   "cell_type": "code",
   "execution_count": null,
   "id": "eef22580",
   "metadata": {},
   "outputs": [],
   "source": [
    "print(\n",
    "    f\"\\n\\nLatency without search: {full_elapsed_time:.1f}s, using search: {light_elapsed_time:.1f}s\"\n",
    ")\n",
    "print(f\"Tokens without search: {full_tokens:,d}, using search: {light_tokens:,d}\")"
   ]
  },
  {
   "cell_type": "markdown",
   "id": "a7a0d35e",
   "metadata": {},
   "source": [
    "# Conclusion\n",
    "In this tutorial, you have learned about Amazon Bedrock AgentCore Gateway and its built-in \n",
    "fully managed semantic search capability. You have seen the following:\n",
    "\n",
    "- how to create a gateway with semantic search enabled\n",
    "- how to add multiple gateway targets to surface 300+ MCP tools from a single endpoint\n",
    "- how to list the tools on your gateway using 3 different approaches\n",
    "- how to use the built-in semantic search tool to find relevant tools\n",
    "- how to integrate search with your Strands Agent\n",
    "- how to compare performance of an agent using a server with hundreds of tools versus one that uses semantic search to narrow tools to a specific topic\n",
    "\n",
    "AgentCore Gateway search is helpful for more advanced use cases as well. By offering the search as a native\n",
    "MCP tool and not just a control plane API, you can imagine giving your agents more autonomy to discover new\n",
    "MCP servers, and find new capabilities at runtime leading to breakthroughs in solving more challenging problems.\n",
    "In addition, search is an important foundation for MCP registries and supporting agent developers as they \n",
    "design and build new agents."
   ]
  },
  {
   "cell_type": "markdown",
   "id": "3c569fc6",
   "metadata": {},
   "source": [
    "# Cleaning up resources"
   ]
  },
  {
   "cell_type": "markdown",
   "id": "8c51ae00",
   "metadata": {},
   "source": [
    "First let's define some helper functions for cleaning up AgentCore Gateway resources."
   ]
  },
  {
   "cell_type": "code",
   "execution_count": null,
   "id": "81ce65be",
   "metadata": {},
   "outputs": [],
   "source": [
    "def delete_gatewaytarget(gateway_id):\n",
    "    response = agentcore_client.list_gateway_targets(gatewayIdentifier=gateway_id)\n",
    "\n",
    "    print(f\"Found {len(response['items'])} targets for the gateway\")\n",
    "\n",
    "    for target in response[\"items\"]:\n",
    "        print(\n",
    "            f\"Deleting target with Name: {target['name']} and Id: {target['targetId']}\"\n",
    "        )\n",
    "\n",
    "        response = agentcore_client.delete_gateway_target(\n",
    "            gatewayIdentifier=gateway_id, targetId=target[\"targetId\"]\n",
    "        )\n",
    "        time.sleep(20)\n",
    "\n",
    "\n",
    "def delete_gateway(gateway_id):\n",
    "    response = agentcore_client.delete_gateway(gatewayIdentifier=gateway_id)"
   ]
  },
  {
   "cell_type": "markdown",
   "id": "ecaade0e",
   "metadata": {},
   "source": [
    "### Deleting Gateway Targets"
   ]
  },
  {
   "cell_type": "code",
   "execution_count": null,
   "id": "930b0d93",
   "metadata": {},
   "outputs": [],
   "source": [
    "delete_gatewaytarget(gateway_id=gatewayId)"
   ]
  },
  {
   "cell_type": "markdown",
   "id": "77c008ef",
   "metadata": {},
   "source": [
    "### Deleting the Gateway itself"
   ]
  },
  {
   "cell_type": "code",
   "execution_count": null,
   "id": "78916cc5",
   "metadata": {},
   "outputs": [],
   "source": [
    "delete_gateway(gateway_id=gatewayId)"
   ]
  },
  {
   "cell_type": "code",
   "execution_count": null,
   "id": "aa6fc55e",
   "metadata": {},
   "outputs": [],
   "source": [
    "lambda_arns = [\n",
    "    calc_lambda_resp[\"lambda_function_arn\"],\n",
    "    restaurant_lambda_resp[\"lambda_function_arn\"],\n",
    "]\n",
    "\n",
    "for arn in lambda_arns:\n",
    "    if utils.delete_gateway_lambda(arn):\n",
    "        print(f\"Deleted Lambda: {arn}\")\n",
    "    else:\n",
    "        print(f\"Lambda {arn} not found or deletion failed\")"
   ]
  },
  {
   "cell_type": "code",
   "execution_count": null,
   "id": "0f507063",
   "metadata": {},
   "outputs": [],
   "source": [
    "# Gateway role cleanup\n",
    "if utils.delete_gateway_iam_role():\n",
    "    print(\"Gateway IAM role deleted\")\n",
    "else:\n",
    "    print(\"Gateway IAM role not found or deletion failed\")\n",
    "\n",
    "# Cognito cleanup\n",
    "if utils.delete_cognito_user_pool():\n",
    "    print(\"Cognito pool deleted\")\n",
    "else:\n",
    "    print(\"✗ Failed to delete Cognito pool\")"
   ]
  }
 ],
 "metadata": {
  "kernelspec": {
   "display_name": ".venv",
   "language": "python",
   "name": "python3"
  },
  "language_info": {
   "codemirror_mode": {
    "name": "ipython",
    "version": 3
   },
   "file_extension": ".py",
   "mimetype": "text/x-python",
   "name": "python",
   "nbconvert_exporter": "python",
   "pygments_lexer": "ipython3",
   "version": "3.12.3"
  }
 },
 "nbformat": 4,
 "nbformat_minor": 5
}
