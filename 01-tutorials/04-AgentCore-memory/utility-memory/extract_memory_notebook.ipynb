{
 "cells": [
  {
   "cell_type": "markdown",
   "metadata": {},
   "source": [
    "# AgentCore Long-Term Memory Extractor\n",
    "\n",
    "This notebook demonstrates how to extract and display the current values stored in AWS Bedrock AgentCore long-term memory.\n",
    "\n",
    "## Prerequisites\n",
    "- AWS credentials configured\n",
    "- `bedrock-agentcore` package installed\n",
    "- AgentCore Memory permissions"
   ]
  },
  {
   "cell_type": "code",
   "execution_count": null,
   "metadata": {},
   "outputs": [],
   "source": [
    "# Install required packages if needed\n",
    "# !pip install bedrock-agentcore boto3"
   ]
  },
  {
   "cell_type": "code",
   "execution_count": 1,
   "metadata": {},
   "outputs": [
    {
     "name": "stdout",
     "output_type": "stream",
     "text": [
      "✅ Imports completed\n"
     ]
    }
   ],
   "source": [
    "import logging\n",
    "from typing import List, Dict, Any\n",
    "from bedrock_agentcore.memory.client import MemoryClient\n",
    "from bedrock_agentcore.memory.session import MemorySessionManager\n",
    "\n",
    "# Configure logging\n",
    "logging.basicConfig(level=logging.INFO)\n",
    "logger = logging.getLogger(__name__)\n",
    "\n",
    "# Configuration\n",
    "REGION = \"us-west-2\"  # Change to your region\n",
    "MEMORY_ID = None      # Set your memory ID here, or leave None to discover\n",
    "\n",
    "print(\"✅ Imports completed\")"
   ]
  },
  {
   "cell_type": "markdown",
   "metadata": {},
   "source": [
    "## Step 1: Discover Available Memories"
   ]
  },
  {
   "cell_type": "code",
   "execution_count": 2,
   "metadata": {},
   "outputs": [
    {
     "name": "stderr",
     "output_type": "stream",
     "text": [
      "INFO:botocore.credentials:Found credentials in shared credentials file: ~/.aws/credentials\n",
      "INFO:bedrock_agentcore.memory.client:Initialized MemoryClient for control plane: us-west-2, data plane: us-west-2\n"
     ]
    },
    {
     "name": "stdout",
     "output_type": "stream",
     "text": [
      "📋 Found 18 memory resources:\n",
      "------------------------------------------------------------\n",
      "1. Memory ID: AgentCore_AgentPath_Test_09_01-krREPC7SAw\n",
      "   Name: Unnamed\n",
      "   Status: ACTIVE\n",
      "\n",
      "2. Memory ID: CulinaryAssistant-std1w98kF2\n",
      "   Name: Unnamed\n",
      "   Status: ACTIVE\n",
      "\n",
      "3. Memory ID: CustomerSupportMemory-atl8uPHrQ1\n",
      "   Name: Unnamed\n",
      "   Status: ACTIVE\n",
      "\n",
      "4. Memory ID: FitnessCoach-3fnwf68RvO\n",
      "   Name: Unnamed\n",
      "   Status: ACTIVE\n",
      "\n",
      "5. Memory ID: MathLanggraphAgent-P5b365Bmsf\n",
      "   Name: Unnamed\n",
      "   Status: ACTIVE\n",
      "\n",
      "6. Memory ID: PersonalAgentMemory-I7mOd16Oow\n",
      "   Name: Unnamed\n",
      "   Status: ACTIVE\n",
      "\n",
      "7. Memory ID: RuntimeMemoryAgent_4d14614f-owT0UbA0v6\n",
      "   Name: Unnamed\n",
      "   Status: ACTIVE\n",
      "\n",
      "8. Memory ID: RuntimeMemoryAgent_5bc25ada-xaGOx0BtdC\n",
      "   Name: Unnamed\n",
      "   Status: ACTIVE\n",
      "\n",
      "9. Memory ID: SecureAgentMemory_9fef60-c90gpC9Ue6\n",
      "   Name: Unnamed\n",
      "   Status: ACTIVE\n",
      "\n",
      "10. Memory ID: SupportAgent-mi0U8uHsH9\n",
      "   Name: Unnamed\n",
      "   Status: ACTIVE\n",
      "\n",
      "11. Memory ID: TravelAgent_LTM-czzpY471Ke\n",
      "   Name: Unnamed\n",
      "   Status: ACTIVE\n",
      "\n",
      "12. Memory ID: TravelAgent_STM_20250906190033-P0hhFs25My\n",
      "   Name: Unnamed\n",
      "   Status: ACTIVE\n",
      "\n",
      "13. Memory ID: TravelAgent_STM_20251010215931-Mz2yGi85Ur\n",
      "   Name: Unnamed\n",
      "   Status: ACTIVE\n",
      "\n",
      "14. Memory ID: TravelAgent_STM_20251011171444-H5Wxx38jCr\n",
      "   Name: Unnamed\n",
      "   Status: ACTIVE\n",
      "\n",
      "15. Memory ID: TravelAgent_STM_20251012114311-E9nNWYBpoW\n",
      "   Name: Unnamed\n",
      "   Status: ACTIVE\n",
      "\n",
      "16. Memory ID: agentcore_mcp_memory_provider_9ufwd-4PCrTEFqfx\n",
      "   Name: Unnamed\n",
      "   Status: ACTIVE\n",
      "\n",
      "17. Memory ID: runtime_memory_agent_4d14614f_mem-9ZxzGv6y0C\n",
      "   Name: Unnamed\n",
      "   Status: ACTIVE\n",
      "\n",
      "18. Memory ID: runtime_memory_agent_5bc25ada_mem-7d4XCy7vCv\n",
      "   Name: Unnamed\n",
      "   Status: ACTIVE\n",
      "\n"
     ]
    }
   ],
   "source": [
    "# Initialize memory client\n",
    "memory_client = MemoryClient(region_name=REGION)\n",
    "\n",
    "# List all available memories\n",
    "memories = memory_client.list_memories()\n",
    "\n",
    "print(f\"📋 Found {len(memories)} memory resources:\")\n",
    "print(\"-\" * 60)\n",
    "\n",
    "for i, memory in enumerate(memories, 1):\n",
    "    memory_id = memory.get('memoryId') or memory.get('id')\n",
    "    name = memory.get('name', 'Unnamed')\n",
    "    status = memory.get('status', 'Unknown')\n",
    "    \n",
    "    print(f\"{i}. Memory ID: {memory_id}\")\n",
    "    print(f\"   Name: {name}\")\n",
    "    print(f\"   Status: {status}\")\n",
    "    print()\n",
    "\n",
    "# # Use first memory if MEMORY_ID not set\n",
    "# if not MEMORY_ID and memories:\n",
    "#     MEMORY_ID = memories[0].get('memoryId') or memories[0].get('id')\n",
    "    \n",
    "#     print(f\"🎯 Using memory: {MEMORY_ID}\")\n",
    "# elif not memories:\n",
    "#     print(\"❌ No memories found. Create a memory resource first.\")\n",
    "\n",
    "\n",
    "MEMORY_ID =\"TravelAgent_STM_20251012114311-E9nNWYBpoW\""
   ]
  },
  {
   "cell_type": "markdown",
   "metadata": {},
   "source": [
    "## Step 2: Get Memory Configuration"
   ]
  },
  {
   "cell_type": "code",
   "execution_count": 3,
   "metadata": {},
   "outputs": [
    {
     "name": "stdout",
     "output_type": "stream",
     "text": [
      "📄 MEMORY DETAILS:\n",
      "----------------------------------------\n",
      "ID: TravelAgent_STM_20251012114311-E9nNWYBpoW\n",
      "Name: TravelAgent_STM_20251012114311\n",
      "Status: ACTIVE\n",
      "Description: Travel Agent STM\n",
      "Created: 2025-10-12 11:43:13.759000-07:00\n",
      "Event Expiry: 7 days\n",
      "\n",
      "🧠 MEMORY STRATEGIES (3 configured):\n",
      "--------------------------------------------------\n",
      "1. memory_preference_bgh1l (USER_PREFERENCE)\n",
      "   ID: memory_preference_bgh1l-UT98mFGiMi\n",
      "   Status: ACTIVE\n",
      "   Namespaces: ['/strategies/{memoryStrategyId}/actors/{actorId}']\n",
      "\n",
      "2. memory_semantic_bgh1l (SEMANTIC)\n",
      "   ID: memory_semantic_bgh1l-fx8JFbAyji\n",
      "   Status: ACTIVE\n",
      "   Namespaces: ['/strategies/{memoryStrategyId}/actors/{actorId}']\n",
      "\n",
      "3. summary_builtin_bgh1l (SUMMARIZATION)\n",
      "   ID: summary_builtin_bgh1l-Z0BuDjBDAx\n",
      "   Status: ACTIVE\n",
      "   Namespaces: ['/strategies/{memoryStrategyId}/actors/{actorId}/sessions/{sessionId}']\n",
      "\n",
      "📂 Total unique namespaces: 2\n",
      "   - /strategies/{memoryStrategyId}/actors/{actorId}\n",
      "   - /strategies/{memoryStrategyId}/actors/{actorId}/sessions/{sessionId}\n"
     ]
    }
   ],
   "source": [
    "if MEMORY_ID:\n",
    "    # Get detailed memory information\n",
    "    memory_details = memory_client.gmcp_client.get_memory(memoryId=MEMORY_ID)\n",
    "    memory = memory_details[\"memory\"]\n",
    "    \n",
    "    print(f\"📄 MEMORY DETAILS:\")\n",
    "    print(\"-\" * 40)\n",
    "    print(f\"ID: {memory.get('id', 'N/A')}\")\n",
    "    print(f\"Name: {memory.get('name', 'N/A')}\")\n",
    "    print(f\"Status: {memory.get('status', 'N/A')}\")\n",
    "    print(f\"Description: {memory.get('description', 'N/A')}\")\n",
    "    print(f\"Created: {memory.get('createdAt', 'N/A')}\")\n",
    "    print(f\"Event Expiry: {memory.get('eventExpiryDuration', 'N/A')} days\")\n",
    "    \n",
    "    # Display strategies\n",
    "    strategies = memory.get('strategies', [])\n",
    "    print(f\"\\n🧠 MEMORY STRATEGIES ({len(strategies)} configured):\")\n",
    "    print(\"-\" * 50)\n",
    "    \n",
    "    all_namespaces = set()\n",
    "    \n",
    "    for i, strategy in enumerate(strategies, 1):\n",
    "        strategy_id = strategy.get('strategyId', 'N/A')\n",
    "        strategy_name = strategy.get('name', 'Unnamed')\n",
    "        strategy_type = strategy.get('type', 'Unknown')\n",
    "        strategy_status = strategy.get('status', 'Unknown')\n",
    "        namespaces = strategy.get('namespaces', [])\n",
    "        \n",
    "        print(f\"{i}. {strategy_name} ({strategy_type})\")\n",
    "        print(f\"   ID: {strategy_id}\")\n",
    "        print(f\"   Status: {strategy_status}\")\n",
    "        print(f\"   Namespaces: {namespaces}\")\n",
    "        print()\n",
    "        \n",
    "        # Collect namespaces\n",
    "        all_namespaces.update(namespaces)\n",
    "    \n",
    "    print(f\"📂 Total unique namespaces: {len(all_namespaces)}\")\n",
    "    for ns in sorted(all_namespaces):\n",
    "        print(f\"   - {ns}\")\n",
    "else:\n",
    "    print(\"❌ No memory ID available\")"
   ]
  },
  {
   "cell_type": "markdown",
   "metadata": {},
   "source": [
    "## Step 3: Extract Memory Records"
   ]
  },
  {
   "cell_type": "code",
   "execution_count": 4,
   "metadata": {},
   "outputs": [
    {
     "name": "stderr",
     "output_type": "stream",
     "text": [
      "INFO:botocore.credentials:Found credentials in shared credentials file: ~/.aws/credentials\n",
      "INFO:bedrock_agentcore.memory.session:  -> Listing all long-term records in namespace '/strategies/{memoryStrategyId}/actors/{actorId}'...\n"
     ]
    },
    {
     "name": "stdout",
     "output_type": "stream",
     "text": [
      "📦 EXTRACTING MEMORY RECORDS:\n",
      "============================================================\n",
      "\n",
      "🔍 Searching namespace: /strategies/{memoryStrategyId}/actors/{actorId}\n",
      "----------------------------------------\n"
     ]
    },
    {
     "name": "stderr",
     "output_type": "stream",
     "text": [
      "ERROR:bedrock_agentcore.memory.session:     ❌ Error listing long-term records: An error occurred (ValidationException) when calling the ListMemoryRecords operation: 1 validation error detected: Value at 'namespace' failed to satisfy constraint: Member must satisfy regular expression pattern: [a-zA-Z0-9/*][a-zA-Z0-9-_/*]*(?::[a-zA-Z0-9-_/*]+)*[a-zA-Z0-9-_/*]*\n",
      "INFO:bedrock_agentcore.memory.session:  -> Listing all long-term records in namespace '/strategies/{memoryStrategyId}/actors/{actorId}/sessions/{sessionId}'...\n",
      "ERROR:bedrock_agentcore.memory.session:     ❌ Error listing long-term records: An error occurred (ValidationException) when calling the ListMemoryRecords operation: 1 validation error detected: Value at 'namespace' failed to satisfy constraint: Member must satisfy regular expression pattern: [a-zA-Z0-9/*][a-zA-Z0-9-_/*]*(?::[a-zA-Z0-9-_/*]+)*[a-zA-Z0-9-_/*]*\n"
     ]
    },
    {
     "name": "stdout",
     "output_type": "stream",
     "text": [
      "   ❌ Error: An error occurred (ValidationException) when calling the ListMemoryRecords operation: 1 validation error detected: Value at 'namespace' failed to satisfy constraint: Member must satisfy regular expression pattern: [a-zA-Z0-9/*][a-zA-Z0-9-_/*]*(?::[a-zA-Z0-9-_/*]+)*[a-zA-Z0-9-_/*]*\n",
      "\n",
      "🔍 Searching namespace: /strategies/{memoryStrategyId}/actors/{actorId}/sessions/{sessionId}\n",
      "----------------------------------------\n",
      "   ❌ Error: An error occurred (ValidationException) when calling the ListMemoryRecords operation: 1 validation error detected: Value at 'namespace' failed to satisfy constraint: Member must satisfy regular expression pattern: [a-zA-Z0-9/*][a-zA-Z0-9-_/*]*(?::[a-zA-Z0-9-_/*]+)*[a-zA-Z0-9-_/*]*\n",
      "\n",
      "============================================================\n",
      "TOTAL RECORDS EXTRACTED: 0\n",
      "============================================================\n"
     ]
    }
   ],
   "source": [
    "if MEMORY_ID:\n",
    "    # Initialize session manager\n",
    "    session_manager = MemorySessionManager(memory_id=MEMORY_ID, region_name=REGION)\n",
    "    \n",
    "    print(f\"📦 EXTRACTING MEMORY RECORDS:\")\n",
    "    print(\"=\" * 60)\n",
    "    \n",
    "    total_records = 0\n",
    "    \n",
    "    # Extract records from each namespace\n",
    "    for namespace in sorted(all_namespaces):\n",
    "        print(f\"\\n🔍 Searching namespace: {namespace}\")\n",
    "        print(\"-\" * 40)\n",
    "        \n",
    "        try:\n",
    "            # List records in this namespace\n",
    "            records = session_manager.list_long_term_memory_records(\n",
    "                namespace_prefix=namespace,\n",
    "                max_results=20\n",
    "            )\n",
    "            \n",
    "            if records:\n",
    "                print(f\"✅ Found {len(records)} records:\")\n",
    "                \n",
    "                for j, record in enumerate(records, 1):\n",
    "                    record_id = record.get('memoryRecordId', 'N/A')\n",
    "                    created = record.get('createdAt', 'N/A')\n",
    "                    updated = record.get('updatedAt', 'N/A')\n",
    "                    \n",
    "                    # Extract content\n",
    "                    content = record.get('content', {})\n",
    "                    text_content = content.get('text', 'No content available')\n",
    "                    \n",
    "                    # Display truncated content\n",
    "                    display_text = text_content[:200] + \"...\" if len(text_content) > 200 else text_content\n",
    "                    \n",
    "                    print(f\"\\n   📄 Record {j}:\")\n",
    "                    print(f\"      ID: {record_id}\")\n",
    "                    print(f\"      Created: {created}\")\n",
    "                    print(f\"      Updated: {updated}\")\n",
    "                    print(f\"      Content: {display_text}\")\n",
    "                \n",
    "                total_records += len(records)\n",
    "            else:\n",
    "                print(\"   No records found\")\n",
    "                \n",
    "        except Exception as e:\n",
    "            print(f\"   ❌ Error: {e}\")\n",
    "    \n",
    "    print(f\"\\n{'='*60}\")\n",
    "    print(f\"TOTAL RECORDS EXTRACTED: {total_records}\")\n",
    "    print(f\"{'='*60}\")\n",
    "else:\n",
    "    print(\"❌ No memory ID available for extraction\")"
   ]
  },
  {
   "cell_type": "markdown",
   "metadata": {},
   "source": [
    "## Step 4: Search Memory Records (if no records found above)"
   ]
  },
  {
   "cell_type": "code",
   "execution_count": null,
   "metadata": {},
   "outputs": [],
   "source": [
    "if MEMORY_ID and total_records == 0:\n",
    "    print(f\"🔍 NO RECORDS FOUND - TRYING SEMANTIC SEARCH:\")\n",
    "    print(\"=\" * 60)\n",
    "    \n",
    "    # Try common search queries\n",
    "    search_queries = [\"user\", \"customer\", \"conversation\", \"interaction\", \"support\", \"order\", \"help\"]\n",
    "    \n",
    "    search_results_found = 0\n",
    "    \n",
    "    for namespace in all_namespaces:\n",
    "        print(f\"\\n🎯 Searching in namespace: {namespace}\")\n",
    "        \n",
    "        for query in search_queries:\n",
    "            try:\n",
    "                search_results = session_manager.search_long_term_memories(\n",
    "                    query=query,\n",
    "                    namespace_prefix=namespace,\n",
    "                    top_k=3\n",
    "                )\n",
    "                \n",
    "                if search_results:\n",
    "                    print(f\"\\n   ✅ Query '{query}' found {len(search_results)} results:\")\n",
    "                    \n",
    "                    for k, record in enumerate(search_results, 1):\n",
    "                        content = record.get('content', {}).get('text', 'No content')\n",
    "                        score = record.get('relevanceScore', 0)\n",
    "                        \n",
    "                        # Truncate content\n",
    "                        display_text = content[:150] + \"...\" if len(content) > 150 else content\n",
    "                        \n",
    "                        print(f\"      {k}. Score: {score:.3f}\")\n",
    "                        print(f\"         Content: {display_text}\")\n",
    "                    \n",
    "                    search_results_found += len(search_results)\n",
    "                    break  # Found results, move to next namespace\n",
    "                    \n",
    "            except Exception as e:\n",
    "                continue\n",
    "    \n",
    "    if search_results_found == 0:\n",
    "        print(\"\\n💡 TROUBLESHOOTING TIPS:\")\n",
    "        print(\"-\" * 30)\n",
    "        print(\"• Memory might be empty or still processing\")\n",
    "        print(\"• Check if events have been stored using create_event()\")\n",
    "        print(\"• Verify memory strategies are in ACTIVE status\")\n",
    "        print(\"• Wait for memory extraction to complete (2-3 minutes after storing events)\")\n",
    "        print(\"• Check namespace patterns match your stored data\")\n",
    "    else:\n",
    "        print(f\"\\n✅ Found {search_results_found} records through semantic search\")\n",
    "elif MEMORY_ID:\n",
    "    print(f\"✅ Memory extraction completed successfully!\")\n",
    "else:\n",
    "    print(\"❌ No memory available for search\")"
   ]
  },
  {
   "cell_type": "markdown",
   "metadata": {},
   "source": [
    "## Step 5: Summary and Next Steps"
   ]
  },
  {
   "cell_type": "code",
   "execution_count": null,
   "metadata": {},
   "outputs": [],
   "source": [
    "if MEMORY_ID:\n",
    "    print(f\"\\n📊 EXTRACTION SUMMARY:\")\n",
    "    print(\"=\" * 40)\n",
    "    print(f\"Memory ID: {MEMORY_ID}\")\n",
    "    print(f\"Memory Name: {memory.get('name', 'N/A')}\")\n",
    "    print(f\"Strategies: {len(strategies)}\")\n",
    "    print(f\"Namespaces: {len(all_namespaces)}\")\n",
    "    print(f\"Records Found: {total_records}\")\n",
    "    \n",
    "    if total_records > 0:\n",
    "        print(\"\\n✅ SUCCESS: Memory contents extracted successfully!\")\n",
    "        print(\"\\n📝 NEXT STEPS:\")\n",
    "        print(\"• Analyze the extracted content for insights\")\n",
    "        print(\"• Use search_long_term_memories() for specific queries\")\n",
    "        print(\"• Implement memory retrieval in your agents\")\n",
    "    else:\n",
    "        print(\"\\n⚠️  NO RECORDS FOUND\")\n",
    "        print(\"\\n📝 NEXT STEPS:\")\n",
    "        print(\"• Store some events using create_event() or add_turns()\")\n",
    "        print(\"• Wait 2-3 minutes for memory extraction to process\")\n",
    "        print(\"• Verify your memory strategies are ACTIVE\")\n",
    "        print(\"• Check namespace patterns match your data\")\n",
    "else:\n",
    "    print(\"❌ No memory found. Create a memory resource first using MemoryClient.create_memory()\")"
   ]
  }
 ],
 "metadata": {
  "kernelspec": {
   "display_name": ".venv",
   "language": "python",
   "name": "python3"
  },
  "language_info": {
   "codemirror_mode": {
    "name": "ipython",
    "version": 3
   },
   "file_extension": ".py",
   "mimetype": "text/x-python",
   "name": "python",
   "nbconvert_exporter": "python",
   "pygments_lexer": "ipython3",
   "version": "3.12.3"
  }
 },
 "nbformat": 4,
 "nbformat_minor": 4
}
